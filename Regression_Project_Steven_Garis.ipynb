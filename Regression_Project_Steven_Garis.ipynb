{
 "cells": [
  {
   "cell_type": "markdown",
   "metadata": {},
   "source": [
    "# Bestimate Zestimate"
   ]
  },
  {
   "cell_type": "markdown",
   "metadata": {},
   "source": [
    "## Project Planning\n",
    "\n",
    "### Goals\n",
    "\n",
    "(see background)...your customer is the zillow data science team.  state your goals as if you were delivering this to zillow.  They have asked for something from you (see 'background') and you are basically communicating in a more concise way, and very clearly, the goals as you understand them and as you have taken and acted upon through your research. \n",
    "\n",
    "*Project Overview\n",
    "Background:\n",
    "Zillow wants to improve their Zestimate. The zestimate is estimated value of a home. Zillow theorizes that there is more information to be gained to improve its existing model. Because of that, Zillow wants you to develop a model to predict the error between the Zestimate and the sales price of a home. In predicting the error, you will discover features that will help them improve the Zestimate estimate itself. Your goal of this project is to develop a linear regression model that will best predict the log error of the Zestimate. The error is the difference of the sales price and the Zestimate. The log error is computed by taking the log function of that error. You don't need to worry about the fact that the error is of a logarithmic function. It is a continuous number that represents an error rate.*\n",
    "\n"
   ]
  },
  {
   "cell_type": "markdown",
   "metadata": {},
   "source": [
    "### Deliverables\n",
    "\n",
    "What should the zillow team expect to receive from you?  Again, as you were communicating to them, not to your instructors.  \n",
    "\n",
    "*your deliverables:*\n",
    "1. *A report (in the form of a presentation, both verbal and through a slides) that summarizes your findings about the drivers of the Zestimate error. This will come from the analysis you do during the exploration phase of the pipeline. In the report, you will have charts that visually tell the story of what is driving the errors.*\n",
    "\n",
    "2. *A Jupyter notebook, titled 'Regression_Proj_YourName', that contains a clearly labeled section and code clearly documented for each the stages below (project planning, data acquisition, data prep, exploration, and modeling). All of the work will take place in your jupyter notebook.*"
   ]
  },
  {
   "cell_type": "markdown",
   "metadata": {},
   "source": [
    "### Data Dictionary & Details\n",
    "\n",
    "**we will be using 2016 data so do NOT use properties_2017 or predictions_2017**  \n",
    "\n",
    "Data dictionary of fields you will use. Why? So that you can refer back and others can refer to the meanings as you are developing your model. This is about gaining knowledge in the domain space so that you will understand when data doesn't look right, be able to more effectively develop hypotheses, and use that domain knowledge to build a more robust model (among other reasons)\n",
    "\n",
    "Define your fields.   You may be able to to some ahead of time, but you may need to return to this section after you have explored the data and understand more about what each field means.  Also, look for a data dictionary either in the database or in the original data source (kaggle.com). \n",
    "\n",
    "You are free to use more fields than is mentioned, but I would recommend not expanding it to too many fields in the beginning as it will add complexity and you want to make sure you get an initial version completed before diving in deeper.  \n",
    "\n",
    "- `logerror` - Difference between zest and sold price\n",
    "- `bathroomcnt` - # of bathrooms (half included)\n",
    "- `bedroomcnt` - # of bedrooms\n",
    "- `calculatedfinishedsquarefeet` - finished sqft\n",
    "- `fullbathcnt` - # of full baths\n",
    "- `garagecarcnt` - # of car garg\n",
    "- `roomcnt` - # of rooms\n",
    "- `yearbuilt` - construction year\n",
    "- `taxvaluedollarcnt` - assessed value\n",
    "- `taxamount` - anual tax payment\n"
   ]
  },
  {
   "cell_type": "markdown",
   "metadata": {},
   "source": [
    "### Initial Thoughts, Ideas, Hypotheses\n",
    "\n",
    "Brainstorming ideas, hypotheses, related to how variables might impact or relate to each other, both within independent variables and between the independent variables and dependent variable, and also related to any ideas for new features you may have while first looking at the existing variables and challenge ahead of you.\n",
    "\n",
    "- I think bed/bath, sqft, year, and tax assessment will be big factors in the logerror\n",
    "- can combine tax and sqft to get price per sqft"
   ]
  },
  {
   "cell_type": "markdown",
   "metadata": {},
   "source": [
    "### Prepare your environment\n",
    "\n",
    "import libraries you will use throughout the project.  You may need to add to this as you go.  But try to keep all of your imports in this section"
   ]
  },
  {
   "cell_type": "code",
   "execution_count": 1,
   "metadata": {},
   "outputs": [],
   "source": [
    "import numpy as np\n",
    "import pandas as pd\n",
    "import seaborn as sns\n",
    "import matplotlib.pyplot as plt\n",
    "from scipy import stats\n",
    "from sklearn.model_selection import train_test_split\n",
    "from sklearn.linear_model import LinearRegression\n",
    "from sklearn.metrics import mean_squared_error, r2_score, mean_absolute_error, median_absolute_error\n",
    "from sklearn.feature_selection import f_regression\n",
    "import statsmodels.api as sm\n",
    "from sklearn.preprocessing import MinMaxScaler\n",
    "import warnings\n",
    "warnings.filterwarnings(\"ignore\")\n",
    "\n",
    "\n"
   ]
  },
  {
   "cell_type": "markdown",
   "metadata": {},
   "source": [
    "### Data Acquisition\n",
    "\n",
    "#### Acquire via csv\n",
    "\n",
    "- add the path to where your files are located in your env.py file. \n",
    "- ensure that others can read the files based on their local env.py file. \n",
    "\n",
    "- Filter out any from predictions_2016 that do not have a logerror. \n",
    "- Generate a cohesive data set that includes the following fields:\n",
    "\n",
    "- `logerror`\n",
    "- `bathroomcnt`\n",
    "- `bedroomcnt`\n",
    "- `calculatedfinishedsquarefeet`\n",
    "- `fullbathcnt`\n",
    "- `garagecarcnt`\n",
    "- `roomcnt`\n",
    "- `yearbuilt`\n",
    "- `taxvaluedollarcnt`\n",
    "- `taxamount`\n",
    "- (optional) `regionidzip`\n",
    "\n",
    "recommendations for dealing with the large dataset\n",
    "- remove any without a logerror\n",
    "- sample until you have the right query (and then pull entire dataset)\n",
    "- export to local csv \n",
    "- read from local csv (sample, but larger sample than your first) \n",
    "- save sql query to add into to_sql() function in python. \n"
   ]
  },
  {
   "cell_type": "markdown",
   "metadata": {},
   "source": [
    "#### Summarize the data. \n",
    "\n",
    "Why? So you can confirm the data look like what you would expect.\n",
    "\n",
    "- peek at a few rows\n",
    "- data types\n",
    "- summary stats\n",
    "- column names\n",
    "- number of rows and columns\n",
    "- ..."
   ]
  },
  {
   "cell_type": "code",
   "execution_count": 2,
   "metadata": {},
   "outputs": [],
   "source": [
    "# Reading in both csv\n",
    "\n",
    "zil_prop = pd.read_csv('properties_2016.csv')\n",
    "zil_train = pd.read_csv('train_2016_v2.csv')"
   ]
  },
  {
   "cell_type": "code",
   "execution_count": 3,
   "metadata": {},
   "outputs": [
    {
     "data": {
      "text/html": [
       "<div>\n",
       "<style scoped>\n",
       "    .dataframe tbody tr th:only-of-type {\n",
       "        vertical-align: middle;\n",
       "    }\n",
       "\n",
       "    .dataframe tbody tr th {\n",
       "        vertical-align: top;\n",
       "    }\n",
       "\n",
       "    .dataframe thead th {\n",
       "        text-align: right;\n",
       "    }\n",
       "</style>\n",
       "<table border=\"1\" class=\"dataframe\">\n",
       "  <thead>\n",
       "    <tr style=\"text-align: right;\">\n",
       "      <th></th>\n",
       "      <th>parcelid</th>\n",
       "      <th>airconditioningtypeid</th>\n",
       "      <th>architecturalstyletypeid</th>\n",
       "      <th>basementsqft</th>\n",
       "      <th>bathroomcnt</th>\n",
       "      <th>bedroomcnt</th>\n",
       "      <th>buildingclasstypeid</th>\n",
       "      <th>buildingqualitytypeid</th>\n",
       "      <th>calculatedbathnbr</th>\n",
       "      <th>decktypeid</th>\n",
       "      <th>...</th>\n",
       "      <th>numberofstories</th>\n",
       "      <th>fireplaceflag</th>\n",
       "      <th>structuretaxvaluedollarcnt</th>\n",
       "      <th>taxvaluedollarcnt</th>\n",
       "      <th>assessmentyear</th>\n",
       "      <th>landtaxvaluedollarcnt</th>\n",
       "      <th>taxamount</th>\n",
       "      <th>taxdelinquencyflag</th>\n",
       "      <th>taxdelinquencyyear</th>\n",
       "      <th>censustractandblock</th>\n",
       "    </tr>\n",
       "  </thead>\n",
       "  <tbody>\n",
       "    <tr>\n",
       "      <th>0</th>\n",
       "      <td>10754147</td>\n",
       "      <td>NaN</td>\n",
       "      <td>NaN</td>\n",
       "      <td>NaN</td>\n",
       "      <td>0.0</td>\n",
       "      <td>0.0</td>\n",
       "      <td>NaN</td>\n",
       "      <td>NaN</td>\n",
       "      <td>NaN</td>\n",
       "      <td>NaN</td>\n",
       "      <td>...</td>\n",
       "      <td>NaN</td>\n",
       "      <td>NaN</td>\n",
       "      <td>NaN</td>\n",
       "      <td>9.0</td>\n",
       "      <td>2015.0</td>\n",
       "      <td>9.0</td>\n",
       "      <td>NaN</td>\n",
       "      <td>NaN</td>\n",
       "      <td>NaN</td>\n",
       "      <td>NaN</td>\n",
       "    </tr>\n",
       "    <tr>\n",
       "      <th>1</th>\n",
       "      <td>10759547</td>\n",
       "      <td>NaN</td>\n",
       "      <td>NaN</td>\n",
       "      <td>NaN</td>\n",
       "      <td>0.0</td>\n",
       "      <td>0.0</td>\n",
       "      <td>NaN</td>\n",
       "      <td>NaN</td>\n",
       "      <td>NaN</td>\n",
       "      <td>NaN</td>\n",
       "      <td>...</td>\n",
       "      <td>NaN</td>\n",
       "      <td>NaN</td>\n",
       "      <td>NaN</td>\n",
       "      <td>27516.0</td>\n",
       "      <td>2015.0</td>\n",
       "      <td>27516.0</td>\n",
       "      <td>NaN</td>\n",
       "      <td>NaN</td>\n",
       "      <td>NaN</td>\n",
       "      <td>NaN</td>\n",
       "    </tr>\n",
       "    <tr>\n",
       "      <th>2</th>\n",
       "      <td>10843547</td>\n",
       "      <td>NaN</td>\n",
       "      <td>NaN</td>\n",
       "      <td>NaN</td>\n",
       "      <td>0.0</td>\n",
       "      <td>0.0</td>\n",
       "      <td>NaN</td>\n",
       "      <td>NaN</td>\n",
       "      <td>NaN</td>\n",
       "      <td>NaN</td>\n",
       "      <td>...</td>\n",
       "      <td>NaN</td>\n",
       "      <td>NaN</td>\n",
       "      <td>650756.0</td>\n",
       "      <td>1413387.0</td>\n",
       "      <td>2015.0</td>\n",
       "      <td>762631.0</td>\n",
       "      <td>20800.37</td>\n",
       "      <td>NaN</td>\n",
       "      <td>NaN</td>\n",
       "      <td>NaN</td>\n",
       "    </tr>\n",
       "    <tr>\n",
       "      <th>3</th>\n",
       "      <td>10859147</td>\n",
       "      <td>NaN</td>\n",
       "      <td>NaN</td>\n",
       "      <td>NaN</td>\n",
       "      <td>0.0</td>\n",
       "      <td>0.0</td>\n",
       "      <td>3.0</td>\n",
       "      <td>7.0</td>\n",
       "      <td>NaN</td>\n",
       "      <td>NaN</td>\n",
       "      <td>...</td>\n",
       "      <td>1.0</td>\n",
       "      <td>NaN</td>\n",
       "      <td>571346.0</td>\n",
       "      <td>1156834.0</td>\n",
       "      <td>2015.0</td>\n",
       "      <td>585488.0</td>\n",
       "      <td>14557.57</td>\n",
       "      <td>NaN</td>\n",
       "      <td>NaN</td>\n",
       "      <td>NaN</td>\n",
       "    </tr>\n",
       "    <tr>\n",
       "      <th>4</th>\n",
       "      <td>10879947</td>\n",
       "      <td>NaN</td>\n",
       "      <td>NaN</td>\n",
       "      <td>NaN</td>\n",
       "      <td>0.0</td>\n",
       "      <td>0.0</td>\n",
       "      <td>4.0</td>\n",
       "      <td>NaN</td>\n",
       "      <td>NaN</td>\n",
       "      <td>NaN</td>\n",
       "      <td>...</td>\n",
       "      <td>NaN</td>\n",
       "      <td>NaN</td>\n",
       "      <td>193796.0</td>\n",
       "      <td>433491.0</td>\n",
       "      <td>2015.0</td>\n",
       "      <td>239695.0</td>\n",
       "      <td>5725.17</td>\n",
       "      <td>NaN</td>\n",
       "      <td>NaN</td>\n",
       "      <td>NaN</td>\n",
       "    </tr>\n",
       "  </tbody>\n",
       "</table>\n",
       "<p>5 rows × 58 columns</p>\n",
       "</div>"
      ],
      "text/plain": [
       "   parcelid  airconditioningtypeid  architecturalstyletypeid  basementsqft  \\\n",
       "0  10754147                    NaN                       NaN           NaN   \n",
       "1  10759547                    NaN                       NaN           NaN   \n",
       "2  10843547                    NaN                       NaN           NaN   \n",
       "3  10859147                    NaN                       NaN           NaN   \n",
       "4  10879947                    NaN                       NaN           NaN   \n",
       "\n",
       "   bathroomcnt  bedroomcnt  buildingclasstypeid  buildingqualitytypeid  \\\n",
       "0          0.0         0.0                  NaN                    NaN   \n",
       "1          0.0         0.0                  NaN                    NaN   \n",
       "2          0.0         0.0                  NaN                    NaN   \n",
       "3          0.0         0.0                  3.0                    7.0   \n",
       "4          0.0         0.0                  4.0                    NaN   \n",
       "\n",
       "   calculatedbathnbr  decktypeid         ...           numberofstories  \\\n",
       "0                NaN         NaN         ...                       NaN   \n",
       "1                NaN         NaN         ...                       NaN   \n",
       "2                NaN         NaN         ...                       NaN   \n",
       "3                NaN         NaN         ...                       1.0   \n",
       "4                NaN         NaN         ...                       NaN   \n",
       "\n",
       "   fireplaceflag  structuretaxvaluedollarcnt  taxvaluedollarcnt  \\\n",
       "0            NaN                         NaN                9.0   \n",
       "1            NaN                         NaN            27516.0   \n",
       "2            NaN                    650756.0          1413387.0   \n",
       "3            NaN                    571346.0          1156834.0   \n",
       "4            NaN                    193796.0           433491.0   \n",
       "\n",
       "   assessmentyear  landtaxvaluedollarcnt  taxamount  taxdelinquencyflag  \\\n",
       "0          2015.0                    9.0        NaN                 NaN   \n",
       "1          2015.0                27516.0        NaN                 NaN   \n",
       "2          2015.0               762631.0   20800.37                 NaN   \n",
       "3          2015.0               585488.0   14557.57                 NaN   \n",
       "4          2015.0               239695.0    5725.17                 NaN   \n",
       "\n",
       "   taxdelinquencyyear  censustractandblock  \n",
       "0                 NaN                  NaN  \n",
       "1                 NaN                  NaN  \n",
       "2                 NaN                  NaN  \n",
       "3                 NaN                  NaN  \n",
       "4                 NaN                  NaN  \n",
       "\n",
       "[5 rows x 58 columns]"
      ]
     },
     "execution_count": 3,
     "metadata": {},
     "output_type": "execute_result"
    }
   ],
   "source": [
    "zil_prop.head()"
   ]
  },
  {
   "cell_type": "code",
   "execution_count": 4,
   "metadata": {},
   "outputs": [
    {
     "data": {
      "text/html": [
       "<div>\n",
       "<style scoped>\n",
       "    .dataframe tbody tr th:only-of-type {\n",
       "        vertical-align: middle;\n",
       "    }\n",
       "\n",
       "    .dataframe tbody tr th {\n",
       "        vertical-align: top;\n",
       "    }\n",
       "\n",
       "    .dataframe thead th {\n",
       "        text-align: right;\n",
       "    }\n",
       "</style>\n",
       "<table border=\"1\" class=\"dataframe\">\n",
       "  <thead>\n",
       "    <tr style=\"text-align: right;\">\n",
       "      <th></th>\n",
       "      <th>parcelid</th>\n",
       "      <th>logerror</th>\n",
       "      <th>transactiondate</th>\n",
       "    </tr>\n",
       "  </thead>\n",
       "  <tbody>\n",
       "    <tr>\n",
       "      <th>0</th>\n",
       "      <td>11016594</td>\n",
       "      <td>0.0276</td>\n",
       "      <td>2016-01-01</td>\n",
       "    </tr>\n",
       "    <tr>\n",
       "      <th>1</th>\n",
       "      <td>14366692</td>\n",
       "      <td>-0.1684</td>\n",
       "      <td>2016-01-01</td>\n",
       "    </tr>\n",
       "    <tr>\n",
       "      <th>2</th>\n",
       "      <td>12098116</td>\n",
       "      <td>-0.0040</td>\n",
       "      <td>2016-01-01</td>\n",
       "    </tr>\n",
       "    <tr>\n",
       "      <th>3</th>\n",
       "      <td>12643413</td>\n",
       "      <td>0.0218</td>\n",
       "      <td>2016-01-02</td>\n",
       "    </tr>\n",
       "    <tr>\n",
       "      <th>4</th>\n",
       "      <td>14432541</td>\n",
       "      <td>-0.0050</td>\n",
       "      <td>2016-01-02</td>\n",
       "    </tr>\n",
       "  </tbody>\n",
       "</table>\n",
       "</div>"
      ],
      "text/plain": [
       "   parcelid  logerror transactiondate\n",
       "0  11016594    0.0276      2016-01-01\n",
       "1  14366692   -0.1684      2016-01-01\n",
       "2  12098116   -0.0040      2016-01-01\n",
       "3  12643413    0.0218      2016-01-02\n",
       "4  14432541   -0.0050      2016-01-02"
      ]
     },
     "execution_count": 4,
     "metadata": {},
     "output_type": "execute_result"
    }
   ],
   "source": [
    "zil_train.head()"
   ]
  },
  {
   "cell_type": "code",
   "execution_count": 5,
   "metadata": {},
   "outputs": [
    {
     "data": {
      "text/html": [
       "<div>\n",
       "<style scoped>\n",
       "    .dataframe tbody tr th:only-of-type {\n",
       "        vertical-align: middle;\n",
       "    }\n",
       "\n",
       "    .dataframe tbody tr th {\n",
       "        vertical-align: top;\n",
       "    }\n",
       "\n",
       "    .dataframe thead th {\n",
       "        text-align: right;\n",
       "    }\n",
       "</style>\n",
       "<table border=\"1\" class=\"dataframe\">\n",
       "  <thead>\n",
       "    <tr style=\"text-align: right;\">\n",
       "      <th></th>\n",
       "      <th>parcelid</th>\n",
       "      <th>airconditioningtypeid</th>\n",
       "      <th>architecturalstyletypeid</th>\n",
       "      <th>basementsqft</th>\n",
       "      <th>bathroomcnt</th>\n",
       "      <th>bedroomcnt</th>\n",
       "      <th>buildingclasstypeid</th>\n",
       "      <th>buildingqualitytypeid</th>\n",
       "      <th>calculatedbathnbr</th>\n",
       "      <th>decktypeid</th>\n",
       "      <th>...</th>\n",
       "      <th>structuretaxvaluedollarcnt</th>\n",
       "      <th>taxvaluedollarcnt</th>\n",
       "      <th>assessmentyear</th>\n",
       "      <th>landtaxvaluedollarcnt</th>\n",
       "      <th>taxamount</th>\n",
       "      <th>taxdelinquencyflag</th>\n",
       "      <th>taxdelinquencyyear</th>\n",
       "      <th>censustractandblock</th>\n",
       "      <th>logerror</th>\n",
       "      <th>transactiondate</th>\n",
       "    </tr>\n",
       "  </thead>\n",
       "  <tbody>\n",
       "    <tr>\n",
       "      <th>0</th>\n",
       "      <td>17073783</td>\n",
       "      <td>NaN</td>\n",
       "      <td>NaN</td>\n",
       "      <td>NaN</td>\n",
       "      <td>2.5</td>\n",
       "      <td>3.0</td>\n",
       "      <td>NaN</td>\n",
       "      <td>NaN</td>\n",
       "      <td>2.5</td>\n",
       "      <td>NaN</td>\n",
       "      <td>...</td>\n",
       "      <td>115087.0</td>\n",
       "      <td>191811.0</td>\n",
       "      <td>2015.0</td>\n",
       "      <td>76724.0</td>\n",
       "      <td>2015.06</td>\n",
       "      <td>NaN</td>\n",
       "      <td>NaN</td>\n",
       "      <td>6.111002e+13</td>\n",
       "      <td>0.0953</td>\n",
       "      <td>2016-01-27</td>\n",
       "    </tr>\n",
       "    <tr>\n",
       "      <th>1</th>\n",
       "      <td>17088994</td>\n",
       "      <td>NaN</td>\n",
       "      <td>NaN</td>\n",
       "      <td>NaN</td>\n",
       "      <td>1.0</td>\n",
       "      <td>2.0</td>\n",
       "      <td>NaN</td>\n",
       "      <td>NaN</td>\n",
       "      <td>1.0</td>\n",
       "      <td>NaN</td>\n",
       "      <td>...</td>\n",
       "      <td>143809.0</td>\n",
       "      <td>239679.0</td>\n",
       "      <td>2015.0</td>\n",
       "      <td>95870.0</td>\n",
       "      <td>2581.30</td>\n",
       "      <td>NaN</td>\n",
       "      <td>NaN</td>\n",
       "      <td>6.111002e+13</td>\n",
       "      <td>0.0198</td>\n",
       "      <td>2016-03-30</td>\n",
       "    </tr>\n",
       "    <tr>\n",
       "      <th>2</th>\n",
       "      <td>17100444</td>\n",
       "      <td>NaN</td>\n",
       "      <td>NaN</td>\n",
       "      <td>NaN</td>\n",
       "      <td>2.0</td>\n",
       "      <td>3.0</td>\n",
       "      <td>NaN</td>\n",
       "      <td>NaN</td>\n",
       "      <td>2.0</td>\n",
       "      <td>NaN</td>\n",
       "      <td>...</td>\n",
       "      <td>33619.0</td>\n",
       "      <td>47853.0</td>\n",
       "      <td>2015.0</td>\n",
       "      <td>14234.0</td>\n",
       "      <td>591.64</td>\n",
       "      <td>NaN</td>\n",
       "      <td>NaN</td>\n",
       "      <td>6.111001e+13</td>\n",
       "      <td>0.0060</td>\n",
       "      <td>2016-05-27</td>\n",
       "    </tr>\n",
       "    <tr>\n",
       "      <th>3</th>\n",
       "      <td>17102429</td>\n",
       "      <td>NaN</td>\n",
       "      <td>NaN</td>\n",
       "      <td>NaN</td>\n",
       "      <td>1.5</td>\n",
       "      <td>2.0</td>\n",
       "      <td>NaN</td>\n",
       "      <td>NaN</td>\n",
       "      <td>1.5</td>\n",
       "      <td>NaN</td>\n",
       "      <td>...</td>\n",
       "      <td>45609.0</td>\n",
       "      <td>62914.0</td>\n",
       "      <td>2015.0</td>\n",
       "      <td>17305.0</td>\n",
       "      <td>682.78</td>\n",
       "      <td>NaN</td>\n",
       "      <td>NaN</td>\n",
       "      <td>6.111001e+13</td>\n",
       "      <td>-0.0566</td>\n",
       "      <td>2016-06-07</td>\n",
       "    </tr>\n",
       "    <tr>\n",
       "      <th>4</th>\n",
       "      <td>17109604</td>\n",
       "      <td>NaN</td>\n",
       "      <td>NaN</td>\n",
       "      <td>NaN</td>\n",
       "      <td>2.5</td>\n",
       "      <td>4.0</td>\n",
       "      <td>NaN</td>\n",
       "      <td>NaN</td>\n",
       "      <td>2.5</td>\n",
       "      <td>NaN</td>\n",
       "      <td>...</td>\n",
       "      <td>277000.0</td>\n",
       "      <td>554000.0</td>\n",
       "      <td>2015.0</td>\n",
       "      <td>277000.0</td>\n",
       "      <td>5886.92</td>\n",
       "      <td>NaN</td>\n",
       "      <td>NaN</td>\n",
       "      <td>6.111001e+13</td>\n",
       "      <td>0.0573</td>\n",
       "      <td>2016-08-08</td>\n",
       "    </tr>\n",
       "  </tbody>\n",
       "</table>\n",
       "<p>5 rows × 60 columns</p>\n",
       "</div>"
      ],
      "text/plain": [
       "   parcelid  airconditioningtypeid  architecturalstyletypeid  basementsqft  \\\n",
       "0  17073783                    NaN                       NaN           NaN   \n",
       "1  17088994                    NaN                       NaN           NaN   \n",
       "2  17100444                    NaN                       NaN           NaN   \n",
       "3  17102429                    NaN                       NaN           NaN   \n",
       "4  17109604                    NaN                       NaN           NaN   \n",
       "\n",
       "   bathroomcnt  bedroomcnt  buildingclasstypeid  buildingqualitytypeid  \\\n",
       "0          2.5         3.0                  NaN                    NaN   \n",
       "1          1.0         2.0                  NaN                    NaN   \n",
       "2          2.0         3.0                  NaN                    NaN   \n",
       "3          1.5         2.0                  NaN                    NaN   \n",
       "4          2.5         4.0                  NaN                    NaN   \n",
       "\n",
       "   calculatedbathnbr  decktypeid       ...         structuretaxvaluedollarcnt  \\\n",
       "0                2.5         NaN       ...                           115087.0   \n",
       "1                1.0         NaN       ...                           143809.0   \n",
       "2                2.0         NaN       ...                            33619.0   \n",
       "3                1.5         NaN       ...                            45609.0   \n",
       "4                2.5         NaN       ...                           277000.0   \n",
       "\n",
       "   taxvaluedollarcnt  assessmentyear  landtaxvaluedollarcnt  taxamount  \\\n",
       "0           191811.0          2015.0                76724.0    2015.06   \n",
       "1           239679.0          2015.0                95870.0    2581.30   \n",
       "2            47853.0          2015.0                14234.0     591.64   \n",
       "3            62914.0          2015.0                17305.0     682.78   \n",
       "4           554000.0          2015.0               277000.0    5886.92   \n",
       "\n",
       "   taxdelinquencyflag  taxdelinquencyyear  censustractandblock  logerror  \\\n",
       "0                 NaN                 NaN         6.111002e+13    0.0953   \n",
       "1                 NaN                 NaN         6.111002e+13    0.0198   \n",
       "2                 NaN                 NaN         6.111001e+13    0.0060   \n",
       "3                 NaN                 NaN         6.111001e+13   -0.0566   \n",
       "4                 NaN                 NaN         6.111001e+13    0.0573   \n",
       "\n",
       "   transactiondate  \n",
       "0       2016-01-27  \n",
       "1       2016-03-30  \n",
       "2       2016-05-27  \n",
       "3       2016-06-07  \n",
       "4       2016-08-08  \n",
       "\n",
       "[5 rows x 60 columns]"
      ]
     },
     "execution_count": 5,
     "metadata": {},
     "output_type": "execute_result"
    }
   ],
   "source": [
    "# Merging the 2 into 1\n",
    "\n",
    "zil_full = zil_prop.merge(zil_train, on=['parcelid'])\n",
    "zil_full.head()"
   ]
  },
  {
   "cell_type": "code",
   "execution_count": 6,
   "metadata": {},
   "outputs": [
    {
     "data": {
      "text/plain": [
       "(90275, 60)"
      ]
     },
     "execution_count": 6,
     "metadata": {},
     "output_type": "execute_result"
    }
   ],
   "source": [
    "zil_full.shape"
   ]
  },
  {
   "cell_type": "code",
   "execution_count": null,
   "metadata": {},
   "outputs": [],
   "source": []
  },
  {
   "cell_type": "markdown",
   "metadata": {},
   "source": [
    "### Data Preparation\n",
    "\n",
    "Goal: leave this section with a dataset that is ready to be analyzed. "
   ]
  },
  {
   "cell_type": "code",
   "execution_count": 7,
   "metadata": {},
   "outputs": [],
   "source": [
    "# Getting just the vars I want to start with.\n",
    "\n",
    "zil_df = zil_full[['logerror',\n",
    "                'bathroomcnt',\n",
    "                'bedroomcnt',\n",
    "                'calculatedfinishedsquarefeet',\n",
    "                'fullbathcnt',\n",
    "                'garagecarcnt',\n",
    "                'roomcnt',\n",
    "                'yearbuilt',\n",
    "                'taxvaluedollarcnt',\n",
    "                'taxamount',\n",
    "                'landtaxvaluedollarcnt']]"
   ]
  },
  {
   "cell_type": "code",
   "execution_count": 8,
   "metadata": {},
   "outputs": [
    {
     "data": {
      "text/html": [
       "<div>\n",
       "<style scoped>\n",
       "    .dataframe tbody tr th:only-of-type {\n",
       "        vertical-align: middle;\n",
       "    }\n",
       "\n",
       "    .dataframe tbody tr th {\n",
       "        vertical-align: top;\n",
       "    }\n",
       "\n",
       "    .dataframe thead th {\n",
       "        text-align: right;\n",
       "    }\n",
       "</style>\n",
       "<table border=\"1\" class=\"dataframe\">\n",
       "  <thead>\n",
       "    <tr style=\"text-align: right;\">\n",
       "      <th></th>\n",
       "      <th>parcelid</th>\n",
       "      <th>transactiondate</th>\n",
       "    </tr>\n",
       "  </thead>\n",
       "  <tbody>\n",
       "    <tr>\n",
       "      <th>52333</th>\n",
       "      <td>10736972</td>\n",
       "      <td>2016-02-22</td>\n",
       "    </tr>\n",
       "    <tr>\n",
       "      <th>52334</th>\n",
       "      <td>10736972</td>\n",
       "      <td>2016-12-14</td>\n",
       "    </tr>\n",
       "    <tr>\n",
       "      <th>68065</th>\n",
       "      <td>10790468</td>\n",
       "      <td>2016-02-12</td>\n",
       "    </tr>\n",
       "    <tr>\n",
       "      <th>68066</th>\n",
       "      <td>10790468</td>\n",
       "      <td>2016-09-13</td>\n",
       "    </tr>\n",
       "    <tr>\n",
       "      <th>80309</th>\n",
       "      <td>10796614</td>\n",
       "      <td>2016-06-14</td>\n",
       "    </tr>\n",
       "  </tbody>\n",
       "</table>\n",
       "</div>"
      ],
      "text/plain": [
       "       parcelid transactiondate\n",
       "52333  10736972      2016-02-22\n",
       "52334  10736972      2016-12-14\n",
       "68065  10790468      2016-02-12\n",
       "68066  10790468      2016-09-13\n",
       "80309  10796614      2016-06-14"
      ]
     },
     "execution_count": 8,
     "metadata": {},
     "output_type": "execute_result"
    }
   ],
   "source": [
    "# Duplicate parcel id but different transactions, dont drop.\n",
    "\n",
    "zil_full = zil_prop.merge(zil_train, on=['parcelid'])\n",
    "zil_full[['parcelid','transactiondate']][zil_full.duplicated('parcelid', False)].sort_values('parcelid').head()"
   ]
  },
  {
   "cell_type": "code",
   "execution_count": null,
   "metadata": {},
   "outputs": [],
   "source": []
  },
  {
   "cell_type": "code",
   "execution_count": null,
   "metadata": {},
   "outputs": [],
   "source": []
  },
  {
   "cell_type": "markdown",
   "metadata": {},
   "source": [
    "#### Create a variable, `colnames`, that is a list of the column names. \n",
    "Why? You will likely reference this variable later."
   ]
  },
  {
   "cell_type": "code",
   "execution_count": 9,
   "metadata": {},
   "outputs": [
    {
     "data": {
      "text/plain": [
       "['logerror',\n",
       " 'bathroomcnt',\n",
       " 'bedroomcnt',\n",
       " 'calculatedfinishedsquarefeet',\n",
       " 'fullbathcnt',\n",
       " 'garagecarcnt',\n",
       " 'roomcnt',\n",
       " 'yearbuilt',\n",
       " 'taxvaluedollarcnt',\n",
       " 'taxamount',\n",
       " 'landtaxvaluedollarcnt']"
      ]
     },
     "execution_count": 9,
     "metadata": {},
     "output_type": "execute_result"
    }
   ],
   "source": [
    "colnames = list(zil_df.columns.values)\n",
    "\n",
    "colnames"
   ]
  },
  {
   "cell_type": "markdown",
   "metadata": {},
   "source": [
    "#### Identify the data types of each variable. Why? \n",
    "You need to make sure they are what makes sense for the data and the meaning of the data that lies in that variable. If it does not, make necessary changes."
   ]
  },
  {
   "cell_type": "code",
   "execution_count": 10,
   "metadata": {},
   "outputs": [
    {
     "data": {
      "text/plain": [
       "logerror                        float64\n",
       "bathroomcnt                     float64\n",
       "bedroomcnt                      float64\n",
       "calculatedfinishedsquarefeet    float64\n",
       "fullbathcnt                     float64\n",
       "garagecarcnt                    float64\n",
       "roomcnt                         float64\n",
       "yearbuilt                       float64\n",
       "taxvaluedollarcnt               float64\n",
       "taxamount                       float64\n",
       "landtaxvaluedollarcnt           float64\n",
       "dtype: object"
      ]
     },
     "execution_count": 10,
     "metadata": {},
     "output_type": "execute_result"
    }
   ],
   "source": [
    "zil_df.dtypes"
   ]
  },
  {
   "cell_type": "markdown",
   "metadata": {},
   "source": [
    "#### Identify the columns that have missing values and the number of missing values in each column. \n",
    "Why? Missing values are going to cause issues down the line so you will need to handle those appropriately. For each variable with missing values, if it makes sense to replace those missing with a 0, do so. For those where that doesn't make sense, decide if you should drop the entire observations (rows) that contain the missing values, or drop the entire variable (column) that contains the missing values."
   ]
  },
  {
   "cell_type": "code",
   "execution_count": 11,
   "metadata": {},
   "outputs": [
    {
     "data": {
      "text/plain": [
       "logerror                            0\n",
       "bathroomcnt                         0\n",
       "bedroomcnt                          0\n",
       "calculatedfinishedsquarefeet      661\n",
       "fullbathcnt                      1182\n",
       "garagecarcnt                    60338\n",
       "roomcnt                             0\n",
       "yearbuilt                         756\n",
       "taxvaluedollarcnt                   1\n",
       "taxamount                           6\n",
       "landtaxvaluedollarcnt               1\n",
       "dtype: int64"
      ]
     },
     "execution_count": 11,
     "metadata": {},
     "output_type": "execute_result"
    }
   ],
   "source": [
    "zil_df.isnull().sum()"
   ]
  },
  {
   "cell_type": "code",
   "execution_count": 12,
   "metadata": {},
   "outputs": [
    {
     "data": {
      "text/html": [
       "<div>\n",
       "<style scoped>\n",
       "    .dataframe tbody tr th:only-of-type {\n",
       "        vertical-align: middle;\n",
       "    }\n",
       "\n",
       "    .dataframe tbody tr th {\n",
       "        vertical-align: top;\n",
       "    }\n",
       "\n",
       "    .dataframe thead th {\n",
       "        text-align: right;\n",
       "    }\n",
       "</style>\n",
       "<table border=\"1\" class=\"dataframe\">\n",
       "  <thead>\n",
       "    <tr style=\"text-align: right;\">\n",
       "      <th></th>\n",
       "      <th>logerror</th>\n",
       "      <th>bathroomcnt</th>\n",
       "      <th>bedroomcnt</th>\n",
       "      <th>calculatedfinishedsquarefeet</th>\n",
       "      <th>yearbuilt</th>\n",
       "      <th>taxvaluedollarcnt</th>\n",
       "      <th>taxamount</th>\n",
       "      <th>landtaxvaluedollarcnt</th>\n",
       "    </tr>\n",
       "  </thead>\n",
       "  <tbody>\n",
       "    <tr>\n",
       "      <th>0</th>\n",
       "      <td>0.0953</td>\n",
       "      <td>2.5</td>\n",
       "      <td>3.0</td>\n",
       "      <td>1264.0</td>\n",
       "      <td>1986.0</td>\n",
       "      <td>191811.0</td>\n",
       "      <td>2015.06</td>\n",
       "      <td>76724.0</td>\n",
       "    </tr>\n",
       "    <tr>\n",
       "      <th>1</th>\n",
       "      <td>0.0198</td>\n",
       "      <td>1.0</td>\n",
       "      <td>2.0</td>\n",
       "      <td>777.0</td>\n",
       "      <td>1990.0</td>\n",
       "      <td>239679.0</td>\n",
       "      <td>2581.30</td>\n",
       "      <td>95870.0</td>\n",
       "    </tr>\n",
       "    <tr>\n",
       "      <th>2</th>\n",
       "      <td>0.0060</td>\n",
       "      <td>2.0</td>\n",
       "      <td>3.0</td>\n",
       "      <td>1101.0</td>\n",
       "      <td>1956.0</td>\n",
       "      <td>47853.0</td>\n",
       "      <td>591.64</td>\n",
       "      <td>14234.0</td>\n",
       "    </tr>\n",
       "    <tr>\n",
       "      <th>3</th>\n",
       "      <td>-0.0566</td>\n",
       "      <td>1.5</td>\n",
       "      <td>2.0</td>\n",
       "      <td>1554.0</td>\n",
       "      <td>1965.0</td>\n",
       "      <td>62914.0</td>\n",
       "      <td>682.78</td>\n",
       "      <td>17305.0</td>\n",
       "    </tr>\n",
       "    <tr>\n",
       "      <th>4</th>\n",
       "      <td>0.0573</td>\n",
       "      <td>2.5</td>\n",
       "      <td>4.0</td>\n",
       "      <td>2415.0</td>\n",
       "      <td>1984.0</td>\n",
       "      <td>554000.0</td>\n",
       "      <td>5886.92</td>\n",
       "      <td>277000.0</td>\n",
       "    </tr>\n",
       "  </tbody>\n",
       "</table>\n",
       "</div>"
      ],
      "text/plain": [
       "   logerror  bathroomcnt  bedroomcnt  calculatedfinishedsquarefeet  yearbuilt  \\\n",
       "0    0.0953          2.5         3.0                        1264.0     1986.0   \n",
       "1    0.0198          1.0         2.0                         777.0     1990.0   \n",
       "2    0.0060          2.0         3.0                        1101.0     1956.0   \n",
       "3   -0.0566          1.5         2.0                        1554.0     1965.0   \n",
       "4    0.0573          2.5         4.0                        2415.0     1984.0   \n",
       "\n",
       "   taxvaluedollarcnt  taxamount  landtaxvaluedollarcnt  \n",
       "0           191811.0    2015.06                76724.0  \n",
       "1           239679.0    2581.30                95870.0  \n",
       "2            47853.0     591.64                14234.0  \n",
       "3            62914.0     682.78                17305.0  \n",
       "4           554000.0    5886.92               277000.0  "
      ]
     },
     "execution_count": 12,
     "metadata": {},
     "output_type": "execute_result"
    }
   ],
   "source": [
    "# Too many missing in garagecarcnt, dropping column\n",
    "# fullbathcnt similar to bathroomcnt but need the half bath info, dropping column.\n",
    "# Roomcnt seems useless, dropping.\n",
    "\n",
    "zil_trimmed = zil_df.drop(columns=['fullbathcnt', 'garagecarcnt', 'roomcnt'])\n",
    "zil_trimmed.head()"
   ]
  },
  {
   "cell_type": "code",
   "execution_count": 13,
   "metadata": {},
   "outputs": [],
   "source": [
    "# A few missing square feet, dropping the rows.\n",
    "\n",
    "zil_trimmed = zil_trimmed.dropna(how='any', subset=['calculatedfinishedsquarefeet'])"
   ]
  },
  {
   "cell_type": "code",
   "execution_count": 15,
   "metadata": {},
   "outputs": [
    {
     "data": {
      "text/html": [
       "<div>\n",
       "<style scoped>\n",
       "    .dataframe tbody tr th:only-of-type {\n",
       "        vertical-align: middle;\n",
       "    }\n",
       "\n",
       "    .dataframe tbody tr th {\n",
       "        vertical-align: top;\n",
       "    }\n",
       "\n",
       "    .dataframe thead th {\n",
       "        text-align: right;\n",
       "    }\n",
       "</style>\n",
       "<table border=\"1\" class=\"dataframe\">\n",
       "  <thead>\n",
       "    <tr style=\"text-align: right;\">\n",
       "      <th></th>\n",
       "      <th>logerror</th>\n",
       "      <th>bathroomcnt</th>\n",
       "      <th>bedroomcnt</th>\n",
       "      <th>calculatedfinishedsquarefeet</th>\n",
       "      <th>yearbuilt</th>\n",
       "      <th>taxvaluedollarcnt</th>\n",
       "      <th>taxamount</th>\n",
       "      <th>landtaxvaluedollarcnt</th>\n",
       "    </tr>\n",
       "  </thead>\n",
       "  <tbody>\n",
       "    <tr>\n",
       "      <th>0</th>\n",
       "      <td>0.0953</td>\n",
       "      <td>2.5</td>\n",
       "      <td>3.0</td>\n",
       "      <td>1264.0</td>\n",
       "      <td>1986.0</td>\n",
       "      <td>191811.0</td>\n",
       "      <td>2015.06</td>\n",
       "      <td>76724.0</td>\n",
       "    </tr>\n",
       "    <tr>\n",
       "      <th>1</th>\n",
       "      <td>0.0198</td>\n",
       "      <td>1.0</td>\n",
       "      <td>2.0</td>\n",
       "      <td>777.0</td>\n",
       "      <td>1990.0</td>\n",
       "      <td>239679.0</td>\n",
       "      <td>2581.30</td>\n",
       "      <td>95870.0</td>\n",
       "    </tr>\n",
       "    <tr>\n",
       "      <th>2</th>\n",
       "      <td>0.0060</td>\n",
       "      <td>2.0</td>\n",
       "      <td>3.0</td>\n",
       "      <td>1101.0</td>\n",
       "      <td>1956.0</td>\n",
       "      <td>47853.0</td>\n",
       "      <td>591.64</td>\n",
       "      <td>14234.0</td>\n",
       "    </tr>\n",
       "    <tr>\n",
       "      <th>3</th>\n",
       "      <td>-0.0566</td>\n",
       "      <td>1.5</td>\n",
       "      <td>2.0</td>\n",
       "      <td>1554.0</td>\n",
       "      <td>1965.0</td>\n",
       "      <td>62914.0</td>\n",
       "      <td>682.78</td>\n",
       "      <td>17305.0</td>\n",
       "    </tr>\n",
       "    <tr>\n",
       "      <th>4</th>\n",
       "      <td>0.0573</td>\n",
       "      <td>2.5</td>\n",
       "      <td>4.0</td>\n",
       "      <td>2415.0</td>\n",
       "      <td>1984.0</td>\n",
       "      <td>554000.0</td>\n",
       "      <td>5886.92</td>\n",
       "      <td>277000.0</td>\n",
       "    </tr>\n",
       "  </tbody>\n",
       "</table>\n",
       "</div>"
      ],
      "text/plain": [
       "   logerror  bathroomcnt  bedroomcnt  calculatedfinishedsquarefeet  yearbuilt  \\\n",
       "0    0.0953          2.5         3.0                        1264.0     1986.0   \n",
       "1    0.0198          1.0         2.0                         777.0     1990.0   \n",
       "2    0.0060          2.0         3.0                        1101.0     1956.0   \n",
       "3   -0.0566          1.5         2.0                        1554.0     1965.0   \n",
       "4    0.0573          2.5         4.0                        2415.0     1984.0   \n",
       "\n",
       "   taxvaluedollarcnt  taxamount  landtaxvaluedollarcnt  \n",
       "0           191811.0    2015.06                76724.0  \n",
       "1           239679.0    2581.30                95870.0  \n",
       "2            47853.0     591.64                14234.0  \n",
       "3            62914.0     682.78                17305.0  \n",
       "4           554000.0    5886.92               277000.0  "
      ]
     },
     "execution_count": 15,
     "metadata": {},
     "output_type": "execute_result"
    }
   ],
   "source": [
    "# Filling in the other NA values with the mean of their column\n",
    "\n",
    "zil_trimmed = zil_trimmed.fillna(zil_trimmed.mean())\n",
    "zil_trimmed.head()"
   ]
  },
  {
   "cell_type": "code",
   "execution_count": 16,
   "metadata": {},
   "outputs": [],
   "source": [
    "# Setting a new df for my working one that is ready to go\n",
    "\n",
    "df_zillow = zil_trimmed"
   ]
  },
  {
   "cell_type": "code",
   "execution_count": null,
   "metadata": {},
   "outputs": [],
   "source": []
  },
  {
   "cell_type": "code",
   "execution_count": 17,
   "metadata": {},
   "outputs": [
    {
     "data": {
      "text/plain": [
       "logerror                        0\n",
       "bathroomcnt                     0\n",
       "bedroomcnt                      0\n",
       "calculatedfinishedsquarefeet    0\n",
       "yearbuilt                       0\n",
       "taxvaluedollarcnt               0\n",
       "taxamount                       0\n",
       "landtaxvaluedollarcnt           0\n",
       "dtype: int64"
      ]
     },
     "execution_count": 17,
     "metadata": {},
     "output_type": "execute_result"
    }
   ],
   "source": [
    "df_zillow.isnull().sum()"
   ]
  },
  {
   "cell_type": "code",
   "execution_count": 18,
   "metadata": {},
   "outputs": [
    {
     "data": {
      "text/html": [
       "<div>\n",
       "<style scoped>\n",
       "    .dataframe tbody tr th:only-of-type {\n",
       "        vertical-align: middle;\n",
       "    }\n",
       "\n",
       "    .dataframe tbody tr th {\n",
       "        vertical-align: top;\n",
       "    }\n",
       "\n",
       "    .dataframe thead th {\n",
       "        text-align: right;\n",
       "    }\n",
       "</style>\n",
       "<table border=\"1\" class=\"dataframe\">\n",
       "  <thead>\n",
       "    <tr style=\"text-align: right;\">\n",
       "      <th></th>\n",
       "      <th>logerror</th>\n",
       "      <th>bathroomcnt</th>\n",
       "      <th>bedroomcnt</th>\n",
       "      <th>calculatedfinishedsquarefeet</th>\n",
       "      <th>yearbuilt</th>\n",
       "      <th>taxvaluedollarcnt</th>\n",
       "      <th>taxamount</th>\n",
       "      <th>landtaxvaluedollarcnt</th>\n",
       "    </tr>\n",
       "  </thead>\n",
       "  <tbody>\n",
       "    <tr>\n",
       "      <th>count</th>\n",
       "      <td>89614.000000</td>\n",
       "      <td>89614.000000</td>\n",
       "      <td>89614.000000</td>\n",
       "      <td>89614.000000</td>\n",
       "      <td>89614.000000</td>\n",
       "      <td>8.961400e+04</td>\n",
       "      <td>89614.000000</td>\n",
       "      <td>8.961400e+04</td>\n",
       "    </tr>\n",
       "    <tr>\n",
       "      <th>mean</th>\n",
       "      <td>0.011558</td>\n",
       "      <td>2.296114</td>\n",
       "      <td>3.054009</td>\n",
       "      <td>1773.185987</td>\n",
       "      <td>1968.531752</td>\n",
       "      <td>4.577683e+05</td>\n",
       "      <td>5974.879994</td>\n",
       "      <td>2.783299e+05</td>\n",
       "    </tr>\n",
       "    <tr>\n",
       "      <th>std</th>\n",
       "      <td>0.159826</td>\n",
       "      <td>0.988833</td>\n",
       "      <td>1.131242</td>\n",
       "      <td>928.162393</td>\n",
       "      <td>23.748451</td>\n",
       "      <td>5.532027e+05</td>\n",
       "      <td>6800.820139</td>\n",
       "      <td>3.998701e+05</td>\n",
       "    </tr>\n",
       "    <tr>\n",
       "      <th>min</th>\n",
       "      <td>-4.605000</td>\n",
       "      <td>0.000000</td>\n",
       "      <td>0.000000</td>\n",
       "      <td>2.000000</td>\n",
       "      <td>1885.000000</td>\n",
       "      <td>2.200000e+01</td>\n",
       "      <td>49.080000</td>\n",
       "      <td>2.200000e+01</td>\n",
       "    </tr>\n",
       "    <tr>\n",
       "      <th>25%</th>\n",
       "      <td>-0.025300</td>\n",
       "      <td>2.000000</td>\n",
       "      <td>2.000000</td>\n",
       "      <td>1184.000000</td>\n",
       "      <td>1953.000000</td>\n",
       "      <td>2.001525e+05</td>\n",
       "      <td>2879.727500</td>\n",
       "      <td>8.243225e+04</td>\n",
       "    </tr>\n",
       "    <tr>\n",
       "      <th>50%</th>\n",
       "      <td>0.006000</td>\n",
       "      <td>2.000000</td>\n",
       "      <td>3.000000</td>\n",
       "      <td>1540.000000</td>\n",
       "      <td>1970.000000</td>\n",
       "      <td>3.436775e+05</td>\n",
       "      <td>4545.950000</td>\n",
       "      <td>1.935100e+05</td>\n",
       "    </tr>\n",
       "    <tr>\n",
       "      <th>75%</th>\n",
       "      <td>0.039200</td>\n",
       "      <td>3.000000</td>\n",
       "      <td>4.000000</td>\n",
       "      <td>2095.000000</td>\n",
       "      <td>1987.000000</td>\n",
       "      <td>5.409985e+05</td>\n",
       "      <td>6897.575000</td>\n",
       "      <td>3.459612e+05</td>\n",
       "    </tr>\n",
       "    <tr>\n",
       "      <th>max</th>\n",
       "      <td>4.737000</td>\n",
       "      <td>20.000000</td>\n",
       "      <td>16.000000</td>\n",
       "      <td>22741.000000</td>\n",
       "      <td>2015.000000</td>\n",
       "      <td>2.775000e+07</td>\n",
       "      <td>321936.090000</td>\n",
       "      <td>2.450000e+07</td>\n",
       "    </tr>\n",
       "  </tbody>\n",
       "</table>\n",
       "</div>"
      ],
      "text/plain": [
       "           logerror   bathroomcnt    bedroomcnt  calculatedfinishedsquarefeet  \\\n",
       "count  89614.000000  89614.000000  89614.000000                  89614.000000   \n",
       "mean       0.011558      2.296114      3.054009                   1773.185987   \n",
       "std        0.159826      0.988833      1.131242                    928.162393   \n",
       "min       -4.605000      0.000000      0.000000                      2.000000   \n",
       "25%       -0.025300      2.000000      2.000000                   1184.000000   \n",
       "50%        0.006000      2.000000      3.000000                   1540.000000   \n",
       "75%        0.039200      3.000000      4.000000                   2095.000000   \n",
       "max        4.737000     20.000000     16.000000                  22741.000000   \n",
       "\n",
       "          yearbuilt  taxvaluedollarcnt      taxamount  landtaxvaluedollarcnt  \n",
       "count  89614.000000       8.961400e+04   89614.000000           8.961400e+04  \n",
       "mean    1968.531752       4.577683e+05    5974.879994           2.783299e+05  \n",
       "std       23.748451       5.532027e+05    6800.820139           3.998701e+05  \n",
       "min     1885.000000       2.200000e+01      49.080000           2.200000e+01  \n",
       "25%     1953.000000       2.001525e+05    2879.727500           8.243225e+04  \n",
       "50%     1970.000000       3.436775e+05    4545.950000           1.935100e+05  \n",
       "75%     1987.000000       5.409985e+05    6897.575000           3.459612e+05  \n",
       "max     2015.000000       2.775000e+07  321936.090000           2.450000e+07  "
      ]
     },
     "execution_count": 18,
     "metadata": {},
     "output_type": "execute_result"
    }
   ],
   "source": [
    "df_zillow.describe()"
   ]
  },
  {
   "cell_type": "code",
   "execution_count": null,
   "metadata": {},
   "outputs": [],
   "source": []
  },
  {
   "cell_type": "markdown",
   "metadata": {},
   "source": [
    "#### Create a list of the independent variable names (aka attributes) and assign it to `x_vars` \n",
    "Why? During exploration, you will likely use this list to refer to the attribute names."
   ]
  },
  {
   "cell_type": "code",
   "execution_count": 19,
   "metadata": {},
   "outputs": [
    {
     "data": {
      "text/plain": [
       "['bathroomcnt',\n",
       " 'bedroomcnt',\n",
       " 'calculatedfinishedsquarefeet',\n",
       " 'yearbuilt',\n",
       " 'taxvaluedollarcnt',\n",
       " 'taxamount',\n",
       " 'landtaxvaluedollarcnt']"
      ]
     },
     "execution_count": 19,
     "metadata": {},
     "output_type": "execute_result"
    }
   ],
   "source": [
    "x_vars = df_zillow.drop(columns='logerror')\n",
    "x_vars = list(x_vars.columns.values)\n",
    "x_vars\n"
   ]
  },
  {
   "cell_type": "markdown",
   "metadata": {},
   "source": [
    "#### Clearly identify your dependent (target) variable. \n",
    "- What is the name of the variable? \n",
    "- Is it discrete or continuous?"
   ]
  },
  {
   "cell_type": "code",
   "execution_count": 20,
   "metadata": {},
   "outputs": [
    {
     "data": {
      "text/plain": [
       "['logerror']"
      ]
     },
     "execution_count": 20,
     "metadata": {},
     "output_type": "execute_result"
    }
   ],
   "source": [
    "y_var = df_zillow[['logerror']]\n",
    "y_var = list(y_var.columns.values)\n",
    "y_var\n"
   ]
  },
  {
   "cell_type": "code",
   "execution_count": 21,
   "metadata": {},
   "outputs": [
    {
     "data": {
      "text/plain": [
       "(89614, 8)"
      ]
     },
     "execution_count": 21,
     "metadata": {},
     "output_type": "execute_result"
    }
   ],
   "source": [
    "df_zillow.shape"
   ]
  },
  {
   "cell_type": "code",
   "execution_count": null,
   "metadata": {},
   "outputs": [],
   "source": []
  },
  {
   "cell_type": "code",
   "execution_count": null,
   "metadata": {},
   "outputs": [],
   "source": []
  },
  {
   "cell_type": "code",
   "execution_count": 22,
   "metadata": {},
   "outputs": [],
   "source": [
    "# Price per SQFT\n",
    "\n",
    "tax_per_sqft = df_zillow.taxamount / df_zillow.calculatedfinishedsquarefeet\n",
    "tax_per_sqft_df = pd.DataFrame(tax_per_sqft)\n",
    "tax_per_sqft_df = tax_per_sqft_df.rename(columns={0: 'tax_per_sqft'})\n",
    "df_zillow = df_zillow.join(tax_per_sqft_df)\n"
   ]
  },
  {
   "cell_type": "code",
   "execution_count": 23,
   "metadata": {},
   "outputs": [],
   "source": [
    "# creating a log version of taxamount\n",
    "\n",
    "log_taxamount = np.log(df_zillow.taxamount)\n",
    "log_taxamount_df = pd.DataFrame(log_taxamount)\n",
    "log_taxamount_df = log_taxamount_df.rename(columns={'taxamount': 'log_taxamount'})\n",
    "df_zillow = df_zillow.join(log_taxamount_df)"
   ]
  },
  {
   "cell_type": "code",
   "execution_count": 24,
   "metadata": {},
   "outputs": [],
   "source": [
    "# creating a log version of sqft\n",
    "\n",
    "log_sqft = np.log(df_zillow.calculatedfinishedsquarefeet)\n",
    "log_sqft_df = pd.DataFrame(log_sqft)\n",
    "log_sqft_df = log_sqft_df.rename(columns={'calculatedfinishedsquarefeet': 'log_sqft'})\n",
    "df_zillow = df_zillow.join(log_sqft_df)"
   ]
  },
  {
   "cell_type": "code",
   "execution_count": 25,
   "metadata": {},
   "outputs": [],
   "source": [
    "# creating a log version, feature eng (combining sqft and tax amnt)\n",
    "\n",
    "log_price_sqft = df_zillow.log_taxamount / df_zillow.log_sqft\n",
    "log_price_sqft_df = pd.DataFrame(log_price_sqft)\n",
    "log_price_sqft_df = log_price_sqft_df.rename(columns={0: 'log_price_sqft'})\n",
    "df_zillow = df_zillow.join(log_price_sqft_df)"
   ]
  },
  {
   "cell_type": "code",
   "execution_count": 26,
   "metadata": {},
   "outputs": [],
   "source": [
    "# creating a log version of tax dollar cnt\n",
    "\n",
    "log_taxvaluedollarcnt = np.log(df_zillow.taxvaluedollarcnt)\n",
    "log_taxvaluedollarcnt_df = pd.DataFrame(log_taxvaluedollarcnt)\n",
    "log_taxvaluedollarcnt_df = log_taxvaluedollarcnt_df.rename(columns={'taxvaluedollarcnt': 'log_taxvaluedollarcnt'})\n",
    "df_zillow = df_zillow.join(log_taxvaluedollarcnt_df)\n",
    "\n"
   ]
  },
  {
   "cell_type": "code",
   "execution_count": 27,
   "metadata": {},
   "outputs": [],
   "source": [
    "# creating a log version of land tax value\n",
    "\n",
    "log_landtaxvaluedollarcnt = np.log(df_zillow.landtaxvaluedollarcnt)\n",
    "log_landtaxvaluedollarcnt_df = pd.DataFrame(log_landtaxvaluedollarcnt)\n",
    "log_landtaxvaluedollarcnt_df = log_landtaxvaluedollarcnt_df.rename(columns={'landtaxvaluedollarcnt': 'log_landtaxvaluedollarcnt'})\n",
    "df_zillow = df_zillow.join(log_landtaxvaluedollarcnt_df)\n",
    "\n"
   ]
  },
  {
   "cell_type": "code",
   "execution_count": 28,
   "metadata": {},
   "outputs": [],
   "source": [
    "# combining bedroom and bathroom\n",
    "\n",
    "df_zillow['bednbath'] = df_zillow.bedroomcnt + df_zillow.bathroomcnt"
   ]
  },
  {
   "cell_type": "code",
   "execution_count": 29,
   "metadata": {},
   "outputs": [],
   "source": [
    "df_zillow['age'] = 2019 - df_zillow.yearbuilt"
   ]
  },
  {
   "cell_type": "code",
   "execution_count": 30,
   "metadata": {},
   "outputs": [],
   "source": [
    "# abs value for logerror\n",
    "\n",
    "df_zillow['abs_logerror'] = df_zillow.logerror.abs()"
   ]
  },
  {
   "cell_type": "code",
   "execution_count": null,
   "metadata": {},
   "outputs": [],
   "source": []
  },
  {
   "cell_type": "code",
   "execution_count": null,
   "metadata": {},
   "outputs": [],
   "source": []
  },
  {
   "cell_type": "code",
   "execution_count": 31,
   "metadata": {},
   "outputs": [
    {
     "data": {
      "text/html": [
       "<div>\n",
       "<style scoped>\n",
       "    .dataframe tbody tr th:only-of-type {\n",
       "        vertical-align: middle;\n",
       "    }\n",
       "\n",
       "    .dataframe tbody tr th {\n",
       "        vertical-align: top;\n",
       "    }\n",
       "\n",
       "    .dataframe thead th {\n",
       "        text-align: right;\n",
       "    }\n",
       "</style>\n",
       "<table border=\"1\" class=\"dataframe\">\n",
       "  <thead>\n",
       "    <tr style=\"text-align: right;\">\n",
       "      <th></th>\n",
       "      <th>logerror</th>\n",
       "      <th>bathroomcnt</th>\n",
       "      <th>bedroomcnt</th>\n",
       "      <th>calculatedfinishedsquarefeet</th>\n",
       "      <th>yearbuilt</th>\n",
       "      <th>taxvaluedollarcnt</th>\n",
       "      <th>taxamount</th>\n",
       "      <th>landtaxvaluedollarcnt</th>\n",
       "      <th>tax_per_sqft</th>\n",
       "      <th>log_taxamount</th>\n",
       "      <th>log_sqft</th>\n",
       "      <th>log_price_sqft</th>\n",
       "      <th>log_taxvaluedollarcnt</th>\n",
       "      <th>log_landtaxvaluedollarcnt</th>\n",
       "      <th>bednbath</th>\n",
       "      <th>age</th>\n",
       "      <th>abs_logerror</th>\n",
       "    </tr>\n",
       "  </thead>\n",
       "  <tbody>\n",
       "    <tr>\n",
       "      <th>0</th>\n",
       "      <td>0.0953</td>\n",
       "      <td>2.5</td>\n",
       "      <td>3.0</td>\n",
       "      <td>1264.0</td>\n",
       "      <td>1986.0</td>\n",
       "      <td>191811.0</td>\n",
       "      <td>2015.06</td>\n",
       "      <td>76724.0</td>\n",
       "      <td>1.594193</td>\n",
       "      <td>7.608404</td>\n",
       "      <td>7.142037</td>\n",
       "      <td>1.065299</td>\n",
       "      <td>12.164266</td>\n",
       "      <td>11.247970</td>\n",
       "      <td>5.5</td>\n",
       "      <td>33.0</td>\n",
       "      <td>0.0953</td>\n",
       "    </tr>\n",
       "    <tr>\n",
       "      <th>1</th>\n",
       "      <td>0.0198</td>\n",
       "      <td>1.0</td>\n",
       "      <td>2.0</td>\n",
       "      <td>777.0</td>\n",
       "      <td>1990.0</td>\n",
       "      <td>239679.0</td>\n",
       "      <td>2581.30</td>\n",
       "      <td>95870.0</td>\n",
       "      <td>3.322136</td>\n",
       "      <td>7.856048</td>\n",
       "      <td>6.655440</td>\n",
       "      <td>1.180395</td>\n",
       "      <td>12.387056</td>\n",
       "      <td>11.470748</td>\n",
       "      <td>3.0</td>\n",
       "      <td>29.0</td>\n",
       "      <td>0.0198</td>\n",
       "    </tr>\n",
       "    <tr>\n",
       "      <th>2</th>\n",
       "      <td>0.0060</td>\n",
       "      <td>2.0</td>\n",
       "      <td>3.0</td>\n",
       "      <td>1101.0</td>\n",
       "      <td>1956.0</td>\n",
       "      <td>47853.0</td>\n",
       "      <td>591.64</td>\n",
       "      <td>14234.0</td>\n",
       "      <td>0.537366</td>\n",
       "      <td>6.382898</td>\n",
       "      <td>7.003974</td>\n",
       "      <td>0.911325</td>\n",
       "      <td>10.775889</td>\n",
       "      <td>9.563389</td>\n",
       "      <td>5.0</td>\n",
       "      <td>63.0</td>\n",
       "      <td>0.0060</td>\n",
       "    </tr>\n",
       "    <tr>\n",
       "      <th>3</th>\n",
       "      <td>-0.0566</td>\n",
       "      <td>1.5</td>\n",
       "      <td>2.0</td>\n",
       "      <td>1554.0</td>\n",
       "      <td>1965.0</td>\n",
       "      <td>62914.0</td>\n",
       "      <td>682.78</td>\n",
       "      <td>17305.0</td>\n",
       "      <td>0.439369</td>\n",
       "      <td>6.526173</td>\n",
       "      <td>7.348588</td>\n",
       "      <td>0.888085</td>\n",
       "      <td>11.049524</td>\n",
       "      <td>9.758751</td>\n",
       "      <td>3.5</td>\n",
       "      <td>54.0</td>\n",
       "      <td>0.0566</td>\n",
       "    </tr>\n",
       "    <tr>\n",
       "      <th>4</th>\n",
       "      <td>0.0573</td>\n",
       "      <td>2.5</td>\n",
       "      <td>4.0</td>\n",
       "      <td>2415.0</td>\n",
       "      <td>1984.0</td>\n",
       "      <td>554000.0</td>\n",
       "      <td>5886.92</td>\n",
       "      <td>277000.0</td>\n",
       "      <td>2.437648</td>\n",
       "      <td>8.680488</td>\n",
       "      <td>7.789455</td>\n",
       "      <td>1.114390</td>\n",
       "      <td>13.224920</td>\n",
       "      <td>12.531773</td>\n",
       "      <td>6.5</td>\n",
       "      <td>35.0</td>\n",
       "      <td>0.0573</td>\n",
       "    </tr>\n",
       "  </tbody>\n",
       "</table>\n",
       "</div>"
      ],
      "text/plain": [
       "   logerror  bathroomcnt  bedroomcnt  calculatedfinishedsquarefeet  yearbuilt  \\\n",
       "0    0.0953          2.5         3.0                        1264.0     1986.0   \n",
       "1    0.0198          1.0         2.0                         777.0     1990.0   \n",
       "2    0.0060          2.0         3.0                        1101.0     1956.0   \n",
       "3   -0.0566          1.5         2.0                        1554.0     1965.0   \n",
       "4    0.0573          2.5         4.0                        2415.0     1984.0   \n",
       "\n",
       "   taxvaluedollarcnt  taxamount  landtaxvaluedollarcnt  tax_per_sqft  \\\n",
       "0           191811.0    2015.06                76724.0      1.594193   \n",
       "1           239679.0    2581.30                95870.0      3.322136   \n",
       "2            47853.0     591.64                14234.0      0.537366   \n",
       "3            62914.0     682.78                17305.0      0.439369   \n",
       "4           554000.0    5886.92               277000.0      2.437648   \n",
       "\n",
       "   log_taxamount  log_sqft  log_price_sqft  log_taxvaluedollarcnt  \\\n",
       "0       7.608404  7.142037        1.065299              12.164266   \n",
       "1       7.856048  6.655440        1.180395              12.387056   \n",
       "2       6.382898  7.003974        0.911325              10.775889   \n",
       "3       6.526173  7.348588        0.888085              11.049524   \n",
       "4       8.680488  7.789455        1.114390              13.224920   \n",
       "\n",
       "   log_landtaxvaluedollarcnt  bednbath   age  abs_logerror  \n",
       "0                  11.247970       5.5  33.0        0.0953  \n",
       "1                  11.470748       3.0  29.0        0.0198  \n",
       "2                   9.563389       5.0  63.0        0.0060  \n",
       "3                   9.758751       3.5  54.0        0.0566  \n",
       "4                  12.531773       6.5  35.0        0.0573  "
      ]
     },
     "execution_count": 31,
     "metadata": {},
     "output_type": "execute_result"
    }
   ],
   "source": [
    "# DF has both log and non-log versions now\n",
    "\n",
    "df_zillow.head()"
   ]
  },
  {
   "cell_type": "code",
   "execution_count": 32,
   "metadata": {},
   "outputs": [],
   "source": [
    "# Dropping the non-log and ones used in feature eng  to have working ones.\n",
    "\n",
    "df_zillow = df_zillow.drop(['taxamount', \n",
    "                            'calculatedfinishedsquarefeet',\n",
    "                            'tax_per_sqft',\n",
    "                            'taxvaluedollarcnt',\n",
    "                            'landtaxvaluedollarcnt',\n",
    "                            'bathroomcnt',\n",
    "                            'bedroomcnt',\n",
    "                            'yearbuilt',\n",
    "                            'log_taxamount',\n",
    "                            'log_sqft'], axis=1)\n",
    "\n"
   ]
  },
  {
   "cell_type": "code",
   "execution_count": 33,
   "metadata": {},
   "outputs": [
    {
     "data": {
      "text/html": [
       "<div>\n",
       "<style scoped>\n",
       "    .dataframe tbody tr th:only-of-type {\n",
       "        vertical-align: middle;\n",
       "    }\n",
       "\n",
       "    .dataframe tbody tr th {\n",
       "        vertical-align: top;\n",
       "    }\n",
       "\n",
       "    .dataframe thead th {\n",
       "        text-align: right;\n",
       "    }\n",
       "</style>\n",
       "<table border=\"1\" class=\"dataframe\">\n",
       "  <thead>\n",
       "    <tr style=\"text-align: right;\">\n",
       "      <th></th>\n",
       "      <th>logerror</th>\n",
       "      <th>log_price_sqft</th>\n",
       "      <th>log_taxvaluedollarcnt</th>\n",
       "      <th>log_landtaxvaluedollarcnt</th>\n",
       "      <th>bednbath</th>\n",
       "      <th>age</th>\n",
       "      <th>abs_logerror</th>\n",
       "    </tr>\n",
       "  </thead>\n",
       "  <tbody>\n",
       "    <tr>\n",
       "      <th>0</th>\n",
       "      <td>0.0953</td>\n",
       "      <td>1.065299</td>\n",
       "      <td>12.164266</td>\n",
       "      <td>11.247970</td>\n",
       "      <td>5.5</td>\n",
       "      <td>33.0</td>\n",
       "      <td>0.0953</td>\n",
       "    </tr>\n",
       "    <tr>\n",
       "      <th>1</th>\n",
       "      <td>0.0198</td>\n",
       "      <td>1.180395</td>\n",
       "      <td>12.387056</td>\n",
       "      <td>11.470748</td>\n",
       "      <td>3.0</td>\n",
       "      <td>29.0</td>\n",
       "      <td>0.0198</td>\n",
       "    </tr>\n",
       "    <tr>\n",
       "      <th>2</th>\n",
       "      <td>0.0060</td>\n",
       "      <td>0.911325</td>\n",
       "      <td>10.775889</td>\n",
       "      <td>9.563389</td>\n",
       "      <td>5.0</td>\n",
       "      <td>63.0</td>\n",
       "      <td>0.0060</td>\n",
       "    </tr>\n",
       "    <tr>\n",
       "      <th>3</th>\n",
       "      <td>-0.0566</td>\n",
       "      <td>0.888085</td>\n",
       "      <td>11.049524</td>\n",
       "      <td>9.758751</td>\n",
       "      <td>3.5</td>\n",
       "      <td>54.0</td>\n",
       "      <td>0.0566</td>\n",
       "    </tr>\n",
       "    <tr>\n",
       "      <th>4</th>\n",
       "      <td>0.0573</td>\n",
       "      <td>1.114390</td>\n",
       "      <td>13.224920</td>\n",
       "      <td>12.531773</td>\n",
       "      <td>6.5</td>\n",
       "      <td>35.0</td>\n",
       "      <td>0.0573</td>\n",
       "    </tr>\n",
       "  </tbody>\n",
       "</table>\n",
       "</div>"
      ],
      "text/plain": [
       "   logerror  log_price_sqft  log_taxvaluedollarcnt  log_landtaxvaluedollarcnt  \\\n",
       "0    0.0953        1.065299              12.164266                  11.247970   \n",
       "1    0.0198        1.180395              12.387056                  11.470748   \n",
       "2    0.0060        0.911325              10.775889                   9.563389   \n",
       "3   -0.0566        0.888085              11.049524                   9.758751   \n",
       "4    0.0573        1.114390              13.224920                  12.531773   \n",
       "\n",
       "   bednbath   age  abs_logerror  \n",
       "0       5.5  33.0        0.0953  \n",
       "1       3.0  29.0        0.0198  \n",
       "2       5.0  63.0        0.0060  \n",
       "3       3.5  54.0        0.0566  \n",
       "4       6.5  35.0        0.0573  "
      ]
     },
     "execution_count": 33,
     "metadata": {},
     "output_type": "execute_result"
    }
   ],
   "source": [
    "df_zillow.head()"
   ]
  },
  {
   "cell_type": "code",
   "execution_count": 34,
   "metadata": {},
   "outputs": [
    {
     "data": {
      "text/plain": [
       "['logerror',\n",
       " 'log_price_sqft',\n",
       " 'log_taxvaluedollarcnt',\n",
       " 'log_landtaxvaluedollarcnt',\n",
       " 'bednbath',\n",
       " 'age',\n",
       " 'abs_logerror']"
      ]
     },
     "execution_count": 34,
     "metadata": {},
     "output_type": "execute_result"
    }
   ],
   "source": [
    "# redoing colnames with log_names\n",
    "\n",
    "colnames = list(df_zillow.columns.values)\n",
    "colnames"
   ]
  },
  {
   "cell_type": "code",
   "execution_count": 35,
   "metadata": {},
   "outputs": [
    {
     "data": {
      "text/plain": [
       "['log_price_sqft',\n",
       " 'log_taxvaluedollarcnt',\n",
       " 'log_landtaxvaluedollarcnt',\n",
       " 'bednbath',\n",
       " 'age']"
      ]
     },
     "execution_count": 35,
     "metadata": {},
     "output_type": "execute_result"
    }
   ],
   "source": [
    "# Resetting x_vars for the log_names\n",
    "\n",
    "x_vars = df_zillow.drop(['logerror', 'abs_logerror'], axis=1)\n",
    "x_vars = list(x_vars.columns.values)\n",
    "x_vars\n"
   ]
  },
  {
   "cell_type": "markdown",
   "metadata": {},
   "source": [
    "#### View the distribution of the numeric variables\n",
    "- plot a histogram and box plot of each variable. \n",
    "- Why? To see the distribution, skewness, outliers, and unit scales. You will use this information in your decision of whether to normalize, standardize or neither."
   ]
  },
  {
   "cell_type": "code",
   "execution_count": 37,
   "metadata": {},
   "outputs": [
    {
     "data": {
      "image/png": "[encoded data removed]",
      "text/plain": [
       "<Figure size 1080x720 with 6 Axes>"
      ]
     },
     "metadata": {
      "needs_background": "light"
     },
     "output_type": "display_data"
    }
   ],
   "source": [
    "# With a lot of outliers\n",
    "\n",
    "plt.figure(figsize=(15,10))\n",
    "\n",
    "\n",
    "for i, col in enumerate(x_vars + y_var):\n",
    "    plot_number = i + 1\n",
    "    series = df_zillow[col]\n",
    "    plt.subplot(3,3,plot_number)\n",
    "    plt.title(col)\n",
    "    series.hist(density=False, cumulative=False, log=False)"
   ]
  },
  {
   "cell_type": "code",
   "execution_count": null,
   "metadata": {},
   "outputs": [],
   "source": []
  },
  {
   "cell_type": "code",
   "execution_count": 38,
   "metadata": {},
   "outputs": [
    {
     "data": {
      "image/png": "[encoded data removed]",
      "text/plain": [
       "<Figure size 1080x1080 with 6 Axes>"
      ]
     },
     "metadata": {
      "needs_background": "light"
     },
     "output_type": "display_data"
    }
   ],
   "source": [
    "# With a lot of outliers\n",
    "\n",
    "\n",
    "plt.figure(figsize=(15, 15))\n",
    "\n",
    "\n",
    "for i, col in enumerate(x_vars + y_var):\n",
    "    plot_number = i + 1\n",
    "    series = df_zillow[col]\n",
    "    plt.subplot(3,3,plot_number)\n",
    "    plt.title(col)\n",
    "    sns.boxplot(data=series)"
   ]
  },
  {
   "cell_type": "code",
   "execution_count": 39,
   "metadata": {},
   "outputs": [
    {
     "data": {
      "text/html": [
       "<div>\n",
       "<style scoped>\n",
       "    .dataframe tbody tr th:only-of-type {\n",
       "        vertical-align: middle;\n",
       "    }\n",
       "\n",
       "    .dataframe tbody tr th {\n",
       "        vertical-align: top;\n",
       "    }\n",
       "\n",
       "    .dataframe thead th {\n",
       "        text-align: right;\n",
       "    }\n",
       "</style>\n",
       "<table border=\"1\" class=\"dataframe\">\n",
       "  <thead>\n",
       "    <tr style=\"text-align: right;\">\n",
       "      <th></th>\n",
       "      <th>logerror</th>\n",
       "      <th>log_price_sqft</th>\n",
       "      <th>log_taxvaluedollarcnt</th>\n",
       "      <th>log_landtaxvaluedollarcnt</th>\n",
       "      <th>bednbath</th>\n",
       "      <th>age</th>\n",
       "      <th>abs_logerror</th>\n",
       "    </tr>\n",
       "  </thead>\n",
       "  <tbody>\n",
       "    <tr>\n",
       "      <th>count</th>\n",
       "      <td>89614.000000</td>\n",
       "      <td>89614.000000</td>\n",
       "      <td>89614.000000</td>\n",
       "      <td>89614.000000</td>\n",
       "      <td>89614.000000</td>\n",
       "      <td>89614.000000</td>\n",
       "      <td>89614.000000</td>\n",
       "    </tr>\n",
       "    <tr>\n",
       "      <th>mean</th>\n",
       "      <td>0.011558</td>\n",
       "      <td>1.139011</td>\n",
       "      <td>12.675069</td>\n",
       "      <td>11.996436</td>\n",
       "      <td>5.350124</td>\n",
       "      <td>50.468248</td>\n",
       "      <td>0.067967</td>\n",
       "    </tr>\n",
       "    <tr>\n",
       "      <th>std</th>\n",
       "      <td>0.159826</td>\n",
       "      <td>0.095425</td>\n",
       "      <td>0.852783</td>\n",
       "      <td>1.100586</td>\n",
       "      <td>1.915166</td>\n",
       "      <td>23.748451</td>\n",
       "      <td>0.145115</td>\n",
       "    </tr>\n",
       "    <tr>\n",
       "      <th>min</th>\n",
       "      <td>-4.605000</td>\n",
       "      <td>0.528903</td>\n",
       "      <td>3.091042</td>\n",
       "      <td>3.091042</td>\n",
       "      <td>0.000000</td>\n",
       "      <td>4.000000</td>\n",
       "      <td>0.000000</td>\n",
       "    </tr>\n",
       "    <tr>\n",
       "      <th>25%</th>\n",
       "      <td>-0.025300</td>\n",
       "      <td>1.092362</td>\n",
       "      <td>12.206835</td>\n",
       "      <td>11.319732</td>\n",
       "      <td>4.000000</td>\n",
       "      <td>32.000000</td>\n",
       "      <td>0.013900</td>\n",
       "    </tr>\n",
       "    <tr>\n",
       "      <th>50%</th>\n",
       "      <td>0.006000</td>\n",
       "      <td>1.148787</td>\n",
       "      <td>12.747459</td>\n",
       "      <td>12.173084</td>\n",
       "      <td>5.000000</td>\n",
       "      <td>49.000000</td>\n",
       "      <td>0.032500</td>\n",
       "    </tr>\n",
       "    <tr>\n",
       "      <th>75%</th>\n",
       "      <td>0.039200</td>\n",
       "      <td>1.195065</td>\n",
       "      <td>13.201172</td>\n",
       "      <td>12.754082</td>\n",
       "      <td>6.000000</td>\n",
       "      <td>66.000000</td>\n",
       "      <td>0.069400</td>\n",
       "    </tr>\n",
       "    <tr>\n",
       "      <th>max</th>\n",
       "      <td>4.737000</td>\n",
       "      <td>12.023623</td>\n",
       "      <td>17.138746</td>\n",
       "      <td>17.014184</td>\n",
       "      <td>26.000000</td>\n",
       "      <td>134.000000</td>\n",
       "      <td>4.737000</td>\n",
       "    </tr>\n",
       "  </tbody>\n",
       "</table>\n",
       "</div>"
      ],
      "text/plain": [
       "           logerror  log_price_sqft  log_taxvaluedollarcnt  \\\n",
       "count  89614.000000    89614.000000           89614.000000   \n",
       "mean       0.011558        1.139011              12.675069   \n",
       "std        0.159826        0.095425               0.852783   \n",
       "min       -4.605000        0.528903               3.091042   \n",
       "25%       -0.025300        1.092362              12.206835   \n",
       "50%        0.006000        1.148787              12.747459   \n",
       "75%        0.039200        1.195065              13.201172   \n",
       "max        4.737000       12.023623              17.138746   \n",
       "\n",
       "       log_landtaxvaluedollarcnt      bednbath           age  abs_logerror  \n",
       "count               89614.000000  89614.000000  89614.000000  89614.000000  \n",
       "mean                   11.996436      5.350124     50.468248      0.067967  \n",
       "std                     1.100586      1.915166     23.748451      0.145115  \n",
       "min                     3.091042      0.000000      4.000000      0.000000  \n",
       "25%                    11.319732      4.000000     32.000000      0.013900  \n",
       "50%                    12.173084      5.000000     49.000000      0.032500  \n",
       "75%                    12.754082      6.000000     66.000000      0.069400  \n",
       "max                    17.014184     26.000000    134.000000      4.737000  "
      ]
     },
     "execution_count": 39,
     "metadata": {},
     "output_type": "execute_result"
    }
   ],
   "source": [
    "# Lets take a look at data\n",
    "\n",
    "df_zillow.describe()"
   ]
  },
  {
   "cell_type": "code",
   "execution_count": 40,
   "metadata": {},
   "outputs": [],
   "source": [
    "# removing all extra large homes more than 11 bednbath, outliers \n",
    "\n",
    "df_zillow.drop(df_zillow.loc[df_zillow['bednbath']>10].index, inplace=True)\n"
   ]
  },
  {
   "cell_type": "code",
   "execution_count": 41,
   "metadata": {},
   "outputs": [],
   "source": [
    "df_zillow.drop(df_zillow.loc[df_zillow['bednbath']==0].index, inplace=True)\n"
   ]
  },
  {
   "cell_type": "code",
   "execution_count": 42,
   "metadata": {},
   "outputs": [],
   "source": [
    "# Trying newer houses only\n",
    "\n",
    "df_zillow.drop(df_zillow.loc[df_zillow['age']>50].index, inplace=True)\n"
   ]
  },
  {
   "cell_type": "code",
   "execution_count": 43,
   "metadata": {},
   "outputs": [],
   "source": [
    "df_zillow[['log_landtaxvaluedollarcnt']].sort_values('log_landtaxvaluedollarcnt').head()\n",
    "df_zillow.drop(index=14427, inplace=True)"
   ]
  },
  {
   "cell_type": "code",
   "execution_count": 44,
   "metadata": {},
   "outputs": [],
   "source": [
    "# Huge outlier for price per sqft\n",
    "\n",
    "df_zillow[['log_price_sqft']].sort_values('log_price_sqft').tail()\n",
    "df_zillow.drop(index=81433, inplace=True)"
   ]
  },
  {
   "cell_type": "code",
   "execution_count": 45,
   "metadata": {},
   "outputs": [],
   "source": [
    "# This one gives me problems sometimes with 0/0\n",
    "# df_zillow = df_zillow.drop(81433)"
   ]
  },
  {
   "cell_type": "code",
   "execution_count": 46,
   "metadata": {},
   "outputs": [
    {
     "data": {
      "text/plain": [
       "(45030, 7)"
      ]
     },
     "execution_count": 46,
     "metadata": {},
     "output_type": "execute_result"
    }
   ],
   "source": [
    "df_zillow.shape"
   ]
  },
  {
   "cell_type": "code",
   "execution_count": 47,
   "metadata": {},
   "outputs": [
    {
     "data": {
      "image/png": "[encoded data removed]",
      "text/plain": [
       "<Figure size 1080x1080 with 6 Axes>"
      ]
     },
     "metadata": {
      "needs_background": "light"
     },
     "output_type": "display_data"
    }
   ],
   "source": [
    "# Took out the houses with outliers in bedroom and bathroom count.\n",
    "\n",
    "plt.figure(figsize=(15, 15))\n",
    "\n",
    "\n",
    "for i, col in enumerate(x_vars + y_var):\n",
    "    plot_number = i + 1\n",
    "    series = df_zillow[col]\n",
    "    plt.subplot(3,3,plot_number)\n",
    "    plt.title(col)\n",
    "    sns.boxplot(data=series)"
   ]
  },
  {
   "cell_type": "markdown",
   "metadata": {},
   "source": [
    "#### BONUS:  Data standardization \n",
    "Create a new data frame that is the min-max normalization of the independent variable in the original data frame (+ the original dependent variable). You will normalize each of the numeric independent variables independently, i.e. using the min and max of each variable, not the min/max of the whole dataframe. Why? Regression is very sensitive to difference in units. It will be almost impossible to extract a meaningful linear regression model with such extreme differences in scale. For more context, see: https://medium.com/@rrfd/standardize-or-normalize-examples-in-python-e3f174b65dfc\n",
    "You will use this dataframe in the future analysis."
   ]
  },
  {
   "cell_type": "code",
   "execution_count": 48,
   "metadata": {
    "scrolled": true
   },
   "outputs": [
    {
     "data": {
      "text/html": [
       "<div>\n",
       "<style scoped>\n",
       "    .dataframe tbody tr th:only-of-type {\n",
       "        vertical-align: middle;\n",
       "    }\n",
       "\n",
       "    .dataframe tbody tr th {\n",
       "        vertical-align: top;\n",
       "    }\n",
       "\n",
       "    .dataframe thead th {\n",
       "        text-align: right;\n",
       "    }\n",
       "</style>\n",
       "<table border=\"1\" class=\"dataframe\">\n",
       "  <thead>\n",
       "    <tr style=\"text-align: right;\">\n",
       "      <th></th>\n",
       "      <th>0</th>\n",
       "      <th>1</th>\n",
       "      <th>2</th>\n",
       "      <th>3</th>\n",
       "      <th>4</th>\n",
       "      <th>5</th>\n",
       "      <th>6</th>\n",
       "    </tr>\n",
       "  </thead>\n",
       "  <tbody>\n",
       "    <tr>\n",
       "      <th>0</th>\n",
       "      <td>0.503136</td>\n",
       "      <td>0.542840</td>\n",
       "      <td>0.425050</td>\n",
       "      <td>0.522330</td>\n",
       "      <td>0.500000</td>\n",
       "      <td>0.630435</td>\n",
       "      <td>0.020118</td>\n",
       "    </tr>\n",
       "    <tr>\n",
       "      <th>1</th>\n",
       "      <td>0.495055</td>\n",
       "      <td>0.660832</td>\n",
       "      <td>0.454664</td>\n",
       "      <td>0.543034</td>\n",
       "      <td>0.222222</td>\n",
       "      <td>0.543478</td>\n",
       "      <td>0.004180</td>\n",
       "    </tr>\n",
       "    <tr>\n",
       "      <th>2</th>\n",
       "      <td>0.499069</td>\n",
       "      <td>0.593166</td>\n",
       "      <td>0.566038</td>\n",
       "      <td>0.641641</td>\n",
       "      <td>0.611111</td>\n",
       "      <td>0.673913</td>\n",
       "      <td>0.012096</td>\n",
       "    </tr>\n",
       "    <tr>\n",
       "      <th>3</th>\n",
       "      <td>0.498972</td>\n",
       "      <td>0.485715</td>\n",
       "      <td>0.479818</td>\n",
       "      <td>0.510480</td>\n",
       "      <td>0.611111</td>\n",
       "      <td>0.760870</td>\n",
       "      <td>0.011906</td>\n",
       "    </tr>\n",
       "    <tr>\n",
       "      <th>4</th>\n",
       "      <td>0.496307</td>\n",
       "      <td>0.634389</td>\n",
       "      <td>0.559144</td>\n",
       "      <td>0.660959</td>\n",
       "      <td>0.444444</td>\n",
       "      <td>0.804348</td>\n",
       "      <td>0.006650</td>\n",
       "    </tr>\n",
       "  </tbody>\n",
       "</table>\n",
       "</div>"
      ],
      "text/plain": [
       "          0         1         2         3         4         5         6\n",
       "0  0.503136  0.542840  0.425050  0.522330  0.500000  0.630435  0.020118\n",
       "1  0.495055  0.660832  0.454664  0.543034  0.222222  0.543478  0.004180\n",
       "2  0.499069  0.593166  0.566038  0.641641  0.611111  0.673913  0.012096\n",
       "3  0.498972  0.485715  0.479818  0.510480  0.611111  0.760870  0.011906\n",
       "4  0.496307  0.634389  0.559144  0.660959  0.444444  0.804348  0.006650"
      ]
     },
     "execution_count": 48,
     "metadata": {},
     "output_type": "execute_result"
    }
   ],
   "source": [
    "# Applying MinMax scale\n",
    "\n",
    "data = df_zillow\n",
    "scaler = MinMaxScaler()\n",
    "scaler.fit(data)\n",
    "zil_xform = scaler.transform(data)\n",
    "zil_xform_df = pd.DataFrame(zil_xform)\n",
    "zil_xform_df.head()"
   ]
  },
  {
   "cell_type": "code",
   "execution_count": 49,
   "metadata": {},
   "outputs": [
    {
     "data": {
      "text/html": [
       "<div>\n",
       "<style scoped>\n",
       "    .dataframe tbody tr th:only-of-type {\n",
       "        vertical-align: middle;\n",
       "    }\n",
       "\n",
       "    .dataframe tbody tr th {\n",
       "        vertical-align: top;\n",
       "    }\n",
       "\n",
       "    .dataframe thead th {\n",
       "        text-align: right;\n",
       "    }\n",
       "</style>\n",
       "<table border=\"1\" class=\"dataframe\">\n",
       "  <thead>\n",
       "    <tr style=\"text-align: right;\">\n",
       "      <th></th>\n",
       "      <th>logerror</th>\n",
       "      <th>log_price_sqft</th>\n",
       "      <th>log_taxvaluedollarcnt</th>\n",
       "      <th>log_landtaxvaluedollarcnt</th>\n",
       "      <th>bednbath</th>\n",
       "      <th>age</th>\n",
       "      <th>abs_logerror</th>\n",
       "    </tr>\n",
       "  </thead>\n",
       "  <tbody>\n",
       "    <tr>\n",
       "      <th>0</th>\n",
       "      <td>0.503136</td>\n",
       "      <td>0.542840</td>\n",
       "      <td>0.425050</td>\n",
       "      <td>0.522330</td>\n",
       "      <td>0.500000</td>\n",
       "      <td>0.630435</td>\n",
       "      <td>0.020118</td>\n",
       "    </tr>\n",
       "    <tr>\n",
       "      <th>1</th>\n",
       "      <td>0.495055</td>\n",
       "      <td>0.660832</td>\n",
       "      <td>0.454664</td>\n",
       "      <td>0.543034</td>\n",
       "      <td>0.222222</td>\n",
       "      <td>0.543478</td>\n",
       "      <td>0.004180</td>\n",
       "    </tr>\n",
       "    <tr>\n",
       "      <th>2</th>\n",
       "      <td>0.499069</td>\n",
       "      <td>0.593166</td>\n",
       "      <td>0.566038</td>\n",
       "      <td>0.641641</td>\n",
       "      <td>0.611111</td>\n",
       "      <td>0.673913</td>\n",
       "      <td>0.012096</td>\n",
       "    </tr>\n",
       "    <tr>\n",
       "      <th>3</th>\n",
       "      <td>0.498972</td>\n",
       "      <td>0.485715</td>\n",
       "      <td>0.479818</td>\n",
       "      <td>0.510480</td>\n",
       "      <td>0.611111</td>\n",
       "      <td>0.760870</td>\n",
       "      <td>0.011906</td>\n",
       "    </tr>\n",
       "    <tr>\n",
       "      <th>4</th>\n",
       "      <td>0.496307</td>\n",
       "      <td>0.634389</td>\n",
       "      <td>0.559144</td>\n",
       "      <td>0.660959</td>\n",
       "      <td>0.444444</td>\n",
       "      <td>0.804348</td>\n",
       "      <td>0.006650</td>\n",
       "    </tr>\n",
       "  </tbody>\n",
       "</table>\n",
       "</div>"
      ],
      "text/plain": [
       "   logerror  log_price_sqft  log_taxvaluedollarcnt  log_landtaxvaluedollarcnt  \\\n",
       "0  0.503136        0.542840               0.425050                   0.522330   \n",
       "1  0.495055        0.660832               0.454664                   0.543034   \n",
       "2  0.499069        0.593166               0.566038                   0.641641   \n",
       "3  0.498972        0.485715               0.479818                   0.510480   \n",
       "4  0.496307        0.634389               0.559144                   0.660959   \n",
       "\n",
       "   bednbath       age  abs_logerror  \n",
       "0  0.500000  0.630435      0.020118  \n",
       "1  0.222222  0.543478      0.004180  \n",
       "2  0.611111  0.673913      0.012096  \n",
       "3  0.611111  0.760870      0.011906  \n",
       "4  0.444444  0.804348      0.006650  "
      ]
     },
     "execution_count": 49,
     "metadata": {},
     "output_type": "execute_result"
    }
   ],
   "source": [
    "# Relabel\n",
    "\n",
    "zil_xform_df= zil_xform_df.rename(columns={0: 'logerror',\n",
    "                                           1: 'log_price_sqft',\n",
    "                                           2: 'log_taxvaluedollarcnt',\n",
    "                                           3: 'log_landtaxvaluedollarcnt',\n",
    "                                           4: 'bednbath',\n",
    "                                           5: 'age',\n",
    "                                           6: 'abs_logerror'})\n",
    "                         \n",
    "zil_xform_df.head()"
   ]
  },
  {
   "cell_type": "code",
   "execution_count": null,
   "metadata": {},
   "outputs": [],
   "source": []
  },
  {
   "cell_type": "code",
   "execution_count": null,
   "metadata": {},
   "outputs": [],
   "source": []
  },
  {
   "cell_type": "code",
   "execution_count": null,
   "metadata": {},
   "outputs": [],
   "source": []
  },
  {
   "cell_type": "markdown",
   "metadata": {},
   "source": [
    "### Data Exploration\n",
    "\n",
    "Goal is to address each of the questions you posed in your planning & brainstorming through visual or statistical analysis.\n",
    "\n",
    "When you have completed this step, you will have the findings from your analysis that will be used in your final report, the answers to your questions and your customer's questions that will reach the goal. "
   ]
  },
  {
   "cell_type": "code",
   "execution_count": null,
   "metadata": {},
   "outputs": [],
   "source": []
  },
  {
   "cell_type": "markdown",
   "metadata": {},
   "source": [
    "#### Split data into training and test datasets"
   ]
  },
  {
   "cell_type": "code",
   "execution_count": 50,
   "metadata": {},
   "outputs": [],
   "source": [
    "# Split the unscalled data\n",
    "\n",
    "X = df_zillow[x_vars]\n",
    "y = df_zillow[y_var]\n",
    "\n",
    "X_train, X_test, y_train, y_test = train_test_split(X, y, train_size=.7, random_state=0)\n",
    "\n",
    "train = pd.concat([X_train, y_train], axis=1)\n",
    "test = pd.concat([X_test, y_test], axis=1)"
   ]
  },
  {
   "cell_type": "code",
   "execution_count": 82,
   "metadata": {},
   "outputs": [],
   "source": [
    "# Split the scalled data\n",
    "\n",
    "X_xform = zil_xform_df[x_vars]\n",
    "y_xform = zil_xform_df[y_var]\n",
    "\n",
    "X_train_xform, X_test_xform, y_train_xform, y_test_xform = train_test_split(X_xform, y_xform, train_size=.6, random_state=0)\n",
    "\n",
    "train_xform = pd.concat([X_train_xform, y_train_xform], axis=1)\n",
    "test_xform = pd.concat([X_test_xform, y_test_xform], axis=1)"
   ]
  },
  {
   "cell_type": "code",
   "execution_count": null,
   "metadata": {},
   "outputs": [],
   "source": []
  },
  {
   "cell_type": "code",
   "execution_count": null,
   "metadata": {},
   "outputs": [],
   "source": []
  },
  {
   "cell_type": "markdown",
   "metadata": {},
   "source": [
    "#### Create a jointplot for each independent variable (normalized version) with the dependent variable. \n",
    "\n",
    "Be sure you have Pearson's r and p-value annotated on each plot."
   ]
  },
  {
   "cell_type": "code",
   "execution_count": 83,
   "metadata": {},
   "outputs": [],
   "source": [
    "# for i, col in enumerate(colnames):\n",
    "#     with sns.axes_style('white'):\n",
    "#         plot_number = i + 1\n",
    "#         series = df_zillow[col]\n",
    "#         j = sns.jointplot(series, 'abs_logerror', data=df_zillow, kind='reg', height=5)\n",
    "#         j.annotate(stats.pearsonr)"
   ]
  },
  {
   "cell_type": "markdown",
   "metadata": {},
   "source": []
  },
  {
   "cell_type": "code",
   "execution_count": 84,
   "metadata": {},
   "outputs": [
    {
     "data": {
      "image/png": "[encoded data removed]",
      "text/plain": [
       "<Figure size 360x360 with 3 Axes>"
      ]
     },
     "metadata": {},
     "output_type": "display_data"
    },
    {
     "data": {
      "image/png": "[encoded data removed]",
      "text/plain": [
       "<Figure size 360x360 with 3 Axes>"
      ]
     },
     "metadata": {},
     "output_type": "display_data"
    },
    {
     "data": {
      "image/png": "[encoded data removed]",
      "text/plain": [
       "<Figure size 360x360 with 3 Axes>"
      ]
     },
     "metadata": {},
     "output_type": "display_data"
    },
    {
     "data": {
      "image/png": "[encoded data removed]",
      "text/plain": [
       "<Figure size 360x360 with 3 Axes>"
      ]
     },
     "metadata": {},
     "output_type": "display_data"
    },
    {
     "data": {
      "image/png": "[encoded data removed]",
      "text/plain": [
       "<Figure size 360x360 with 3 Axes>"
      ]
     },
     "metadata": {},
     "output_type": "display_data"
    },
    {
     "data": {
      "image/png": "[encoded data removed]",
      "text/plain": [
       "<Figure size 360x360 with 3 Axes>"
      ]
     },
     "metadata": {},
     "output_type": "display_data"
    },
    {
     "data": {
      "image/png": "[encoded data removed]",
      "text/plain": [
       "<Figure size 360x360 with 3 Axes>"
      ]
     },
     "metadata": {},
     "output_type": "display_data"
    }
   ],
   "source": [
    "for i, col in enumerate(colnames):\n",
    "    with sns.axes_style('white'):\n",
    "        plot_number = i + 1\n",
    "        series = zil_xform_df[col]\n",
    "        j = sns.jointplot(series, 'abs_logerror', data=zil_xform_df, kind='reg', height=5)\n",
    "        j.annotate(stats.pearsonr)"
   ]
  },
  {
   "cell_type": "markdown",
   "metadata": {},
   "source": [
    "#### Create a feature plot using seaborn's PairGrid() of the interaction between each variable (dependent + independent). \n",
    "\n",
    "You may want to use a normalized dataframe (if you did that) or adjust the axis scale (set to logarithmic, e.g) so you can more clearly view the interactions."
   ]
  },
  {
   "cell_type": "code",
   "execution_count": 85,
   "metadata": {},
   "outputs": [],
   "source": [
    "# g = sns.PairGrid(train)\n",
    "# g.map_diag(plt.hist)\n",
    "# g.map_offdiag(plt.scatter)"
   ]
  },
  {
   "cell_type": "code",
   "execution_count": 86,
   "metadata": {},
   "outputs": [
    {
     "data": {
      "text/plain": [
       "<seaborn.axisgrid.PairGrid at 0x1c2a1f5c88>"
      ]
     },
     "execution_count": 86,
     "metadata": {},
     "output_type": "execute_result"
    },
    {
     "data": {
      "image/png": "[encoded data removed]",
      "text/plain": [
       "<Figure size 1080x1080 with 42 Axes>"
      ]
     },
     "metadata": {
      "needs_background": "light"
     },
     "output_type": "display_data"
    }
   ],
   "source": [
    "g = sns.PairGrid(train_xform)\n",
    "g.map_diag(plt.hist)\n",
    "g.map_offdiag(plt.scatter)"
   ]
  },
  {
   "cell_type": "markdown",
   "metadata": {},
   "source": [
    "#### Create a heatmap of the correlation between each variable pair."
   ]
  },
  {
   "cell_type": "code",
   "execution_count": 87,
   "metadata": {},
   "outputs": [],
   "source": [
    "# plt.figure(figsize=(10, 10))\n",
    "\n",
    "\n",
    "# sns.heatmap(train.corr(), cmap='Greens', annot=True)\n"
   ]
  },
  {
   "cell_type": "code",
   "execution_count": 88,
   "metadata": {},
   "outputs": [
    {
     "data": {
      "text/plain": [
       "<matplotlib.axes._subplots.AxesSubplot at 0x1c29c6a748>"
      ]
     },
     "execution_count": 88,
     "metadata": {},
     "output_type": "execute_result"
    },
    {
     "data": {
      "image/png": "[encoded data removed]",
      "text/plain": [
       "<Figure size 576x576 with 2 Axes>"
      ]
     },
     "metadata": {
      "needs_background": "light"
     },
     "output_type": "display_data"
    }
   ],
   "source": [
    "plt.figure(figsize=(8, 8))\n",
    "\n",
    "\n",
    "sns.heatmap(train_xform.corr(), cmap='Greens', annot=True)"
   ]
  },
  {
   "cell_type": "markdown",
   "metadata": {},
   "source": [
    "#### Summarize your conclusions from all of these steps.  "
   ]
  },
  {
   "cell_type": "code",
   "execution_count": null,
   "metadata": {},
   "outputs": [],
   "source": []
  },
  {
   "cell_type": "markdown",
   "metadata": {},
   "source": [
    "#### Is the logerror significantly different for homes with 3 bedrooms vs those with 5 or more bedrooms? \n",
    "Run a t-test to test this difference."
   ]
  },
  {
   "cell_type": "code",
   "execution_count": 89,
   "metadata": {},
   "outputs": [
    {
     "data": {
      "text/plain": [
       "Ttest_indResult(statistic=-1.2695105630693142, pvalue=0.2042718281876132)"
      ]
     },
     "execution_count": 89,
     "metadata": {},
     "output_type": "execute_result"
    }
   ],
   "source": [
    "bed3 = train[train.bednbath == 3].logerror\n",
    "bed5 = train[train.bednbath >= 5].logerror\n",
    "\n",
    "stats.ttest_ind(bed3, bed5)"
   ]
  },
  {
   "cell_type": "markdown",
   "metadata": {},
   "source": [
    "#### Do the same for another 2 samples you are interested in comparing (e.g. those with 1 bath vs. x baths)"
   ]
  },
  {
   "cell_type": "code",
   "execution_count": 90,
   "metadata": {},
   "outputs": [
    {
     "data": {
      "text/plain": [
       "Ttest_indResult(statistic=3.2561829232185464, pvalue=0.001130402024274286)"
      ]
     },
     "execution_count": 90,
     "metadata": {},
     "output_type": "execute_result"
    }
   ],
   "source": [
    "# sqft\n",
    "\n",
    "mean_sqft = train.log_price_sqft.mean()\n",
    "small_sqft = train[train.log_price_sqft < mean_sqft].logerror\n",
    "large_sqft = train[train.log_price_sqft > mean_sqft].logerror\n",
    "\n",
    "stats.ttest_ind(small_sqft, large_sqft)\n"
   ]
  },
  {
   "cell_type": "code",
   "execution_count": 91,
   "metadata": {},
   "outputs": [
    {
     "data": {
      "text/plain": [
       "Ttest_indResult(statistic=-0.04617565479626959, pvalue=0.9631705389764487)"
      ]
     },
     "execution_count": 91,
     "metadata": {},
     "output_type": "execute_result"
    }
   ],
   "source": [
    "# Age, old is 50+\n",
    "\n",
    "new = train[train.age < 50].logerror\n",
    "old = train[train.age >= 50].logerror\n",
    "\n",
    "stats.ttest_ind(new, old)\n"
   ]
  },
  {
   "cell_type": "code",
   "execution_count": null,
   "metadata": {},
   "outputs": [],
   "source": []
  },
  {
   "cell_type": "code",
   "execution_count": null,
   "metadata": {},
   "outputs": [],
   "source": []
  },
  {
   "cell_type": "markdown",
   "metadata": {},
   "source": [
    "### Data Modeling"
   ]
  },
  {
   "cell_type": "markdown",
   "metadata": {},
   "source": [
    "#### Feature Engineering & Selection\n",
    "\n",
    "#### Are there new features you could create based on existing features that might be helpful? \n",
    "\n",
    "Come up with at least one possible new feature that is a calculation from 2+ existing variables. \n",
    "\n",
    "#### Use statsmodels ordinary least squares to assess the importance of each feature with respect to the target\n",
    "\n",
    "#### Summarize your conclusions and next steps from your analysis in above. \n",
    "What will you try when developing your model? (which features to use/not use/etc)\n",
    "\n",
    "#### Train & Test Model\n",
    "\n",
    "#### Fit, predict (in-sample) & evaluate multiple linear regression models to find the best one.\n",
    "\n",
    "- Make any changes as necessary to improve your model.\n",
    "\n",
    "- Identify the best model after all training\n",
    "\n",
    "- Compare the models by plotting the predictions of each model with actual values (see plot right above section 12 in 'Regression in Python' lesson\n",
    "\n",
    "(the predictions are a 1 x 83 two dimensional matrix, but we want just a single array of predictions. We can use the .ravel method to achieve this.)\n",
    "\n",
    "`pd.DataFrame({'actual': y_train.final_grade,  \n",
    "              'lm1': y_pred_lm1.ravel(),  \n",
    "              'lm2': y_pred_lm2.ravel()})\\  \n",
    "    .melt(id_vars=['actual'], var_name='model', value_name='prediction')\\  \n",
    "    .pipe((sns.relplot, 'data'), x='actual', y='prediction', hue='model')  \n",
    "\n",
    "plt.plot([60, 100], [60, 100], c='black', ls=':')  \n",
    "plt.ylim(60, 100)  \n",
    "plt.xlim(60, 100)  \n",
    "plt.title('Predicted vs Actual Final Grade')`  \n",
    "\n",
    "#### Predict & evaluate on out-of-sample data (test)    \n",
    "\n",
    "- Plot the residuals from your out-of-sample predictions.\n",
    "\n",
    "- Summarize your expectations about how you estimate this model will perform in production."
   ]
  },
  {
   "cell_type": "code",
   "execution_count": null,
   "metadata": {},
   "outputs": [],
   "source": []
  },
  {
   "cell_type": "code",
   "execution_count": 92,
   "metadata": {},
   "outputs": [
    {
     "data": {
      "text/plain": [
       "['logerror',\n",
       " 'log_price_sqft',\n",
       " 'log_taxvaluedollarcnt',\n",
       " 'log_landtaxvaluedollarcnt',\n",
       " 'bednbath',\n",
       " 'age',\n",
       " 'abs_logerror']"
      ]
     },
     "execution_count": 92,
     "metadata": {},
     "output_type": "execute_result"
    }
   ],
   "source": [
    "colnames"
   ]
  },
  {
   "cell_type": "code",
   "execution_count": 93,
   "metadata": {},
   "outputs": [],
   "source": [
    "# Are there new features you could create based on existing features that might be helpful?\n",
    "# Come up with at least one possible new feature that is a calculation from 2+ existing variables.\n",
    "\n",
    "# assessed value per sqft\n",
    "\n",
    "# tax_per_sqft = train.log_sqft / train.log_sqft\n"
   ]
  },
  {
   "cell_type": "code",
   "execution_count": 94,
   "metadata": {},
   "outputs": [
    {
     "data": {
      "text/html": [
       "<table class=\"simpletable\">\n",
       "<caption>OLS Regression Results</caption>\n",
       "<tr>\n",
       "  <th>Dep. Variable:</th>        <td>logerror</td>     <th>  R-squared:         </th>  <td>   0.009</td> \n",
       "</tr>\n",
       "<tr>\n",
       "  <th>Model:</th>                   <td>OLS</td>       <th>  Adj. R-squared:    </th>  <td>   0.009</td> \n",
       "</tr>\n",
       "<tr>\n",
       "  <th>Method:</th>             <td>Least Squares</td>  <th>  F-statistic:       </th>  <td>   60.27</td> \n",
       "</tr>\n",
       "<tr>\n",
       "  <th>Date:</th>             <td>Tue, 26 Mar 2019</td> <th>  Prob (F-statistic):</th>  <td>1.03e-62</td> \n",
       "</tr>\n",
       "<tr>\n",
       "  <th>Time:</th>                 <td>08:59:54</td>     <th>  Log-Likelihood:    </th>  <td>  18663.</td> \n",
       "</tr>\n",
       "<tr>\n",
       "  <th>No. Observations:</th>      <td> 31520</td>      <th>  AIC:               </th> <td>-3.732e+04</td>\n",
       "</tr>\n",
       "<tr>\n",
       "  <th>Df Residuals:</th>          <td> 31515</td>      <th>  BIC:               </th> <td>-3.727e+04</td>\n",
       "</tr>\n",
       "<tr>\n",
       "  <th>Df Model:</th>              <td>     5</td>      <th>                     </th>      <td> </td>    \n",
       "</tr>\n",
       "<tr>\n",
       "  <th>Covariance Type:</th>      <td>nonrobust</td>    <th>                     </th>      <td> </td>    \n",
       "</tr>\n",
       "</table>\n",
       "<table class=\"simpletable\">\n",
       "<tr>\n",
       "              <td></td>                 <th>coef</th>     <th>std err</th>      <th>t</th>      <th>P>|t|</th>  <th>[0.025</th>    <th>0.975]</th>  \n",
       "</tr>\n",
       "<tr>\n",
       "  <th>log_price_sqft</th>            <td>   -0.0948</td> <td>    0.019</td> <td>   -5.086</td> <td> 0.000</td> <td>   -0.131</td> <td>   -0.058</td>\n",
       "</tr>\n",
       "<tr>\n",
       "  <th>log_taxvaluedollarcnt</th>     <td>    0.0092</td> <td>    0.003</td> <td>    3.649</td> <td> 0.000</td> <td>    0.004</td> <td>    0.014</td>\n",
       "</tr>\n",
       "<tr>\n",
       "  <th>log_landtaxvaluedollarcnt</th> <td>    0.0005</td> <td>    0.002</td> <td>    0.311</td> <td> 0.756</td> <td>   -0.003</td> <td>    0.004</td>\n",
       "</tr>\n",
       "<tr>\n",
       "  <th>bednbath</th>                  <td>   -0.0006</td> <td>    0.001</td> <td>   -0.791</td> <td> 0.429</td> <td>   -0.002</td> <td>    0.001</td>\n",
       "</tr>\n",
       "<tr>\n",
       "  <th>age</th>                       <td> -1.15e-05</td> <td> 6.22e-05</td> <td>   -0.185</td> <td> 0.853</td> <td>   -0.000</td> <td>    0.000</td>\n",
       "</tr>\n",
       "</table>\n",
       "<table class=\"simpletable\">\n",
       "<tr>\n",
       "  <th>Omnibus:</th>       <td>19775.581</td> <th>  Durbin-Watson:     </th>   <td>   2.009</td>  \n",
       "</tr>\n",
       "<tr>\n",
       "  <th>Prob(Omnibus):</th>  <td> 0.000</td>   <th>  Jarque-Bera (JB):  </th> <td>56170100.873</td>\n",
       "</tr>\n",
       "<tr>\n",
       "  <th>Skew:</th>           <td> 1.366</td>   <th>  Prob(JB):          </th>   <td>    0.00</td>  \n",
       "</tr>\n",
       "<tr>\n",
       "  <th>Kurtosis:</th>       <td>209.789</td>  <th>  Cond. No.          </th>   <td>    944.</td>  \n",
       "</tr>\n",
       "</table><br/><br/>Warnings:<br/>[1] Standard Errors assume that the covariance matrix of the errors is correctly specified."
      ],
      "text/plain": [
       "<class 'statsmodels.iolib.summary.Summary'>\n",
       "\"\"\"\n",
       "                            OLS Regression Results                            \n",
       "==============================================================================\n",
       "Dep. Variable:               logerror   R-squared:                       0.009\n",
       "Model:                            OLS   Adj. R-squared:                  0.009\n",
       "Method:                 Least Squares   F-statistic:                     60.27\n",
       "Date:                Tue, 26 Mar 2019   Prob (F-statistic):           1.03e-62\n",
       "Time:                        08:59:54   Log-Likelihood:                 18663.\n",
       "No. Observations:               31520   AIC:                        -3.732e+04\n",
       "Df Residuals:                   31515   BIC:                        -3.727e+04\n",
       "Df Model:                           5                                         \n",
       "Covariance Type:            nonrobust                                         \n",
       "=============================================================================================\n",
       "                                coef    std err          t      P>|t|      [0.025      0.975]\n",
       "---------------------------------------------------------------------------------------------\n",
       "log_price_sqft               -0.0948      0.019     -5.086      0.000      -0.131      -0.058\n",
       "log_taxvaluedollarcnt         0.0092      0.003      3.649      0.000       0.004       0.014\n",
       "log_landtaxvaluedollarcnt     0.0005      0.002      0.311      0.756      -0.003       0.004\n",
       "bednbath                     -0.0006      0.001     -0.791      0.429      -0.002       0.001\n",
       "age                        -1.15e-05   6.22e-05     -0.185      0.853      -0.000       0.000\n",
       "==============================================================================\n",
       "Omnibus:                    19775.581   Durbin-Watson:                   2.009\n",
       "Prob(Omnibus):                  0.000   Jarque-Bera (JB):         56170100.873\n",
       "Skew:                           1.366   Prob(JB):                         0.00\n",
       "Kurtosis:                     209.789   Cond. No.                         944.\n",
       "==============================================================================\n",
       "\n",
       "Warnings:\n",
       "[1] Standard Errors assume that the covariance matrix of the errors is correctly specified.\n",
       "\"\"\""
      ]
     },
     "execution_count": 94,
     "metadata": {},
     "output_type": "execute_result"
    }
   ],
   "source": [
    "# Use statsmodels ordinary least squares to assess the importance of each feature with respect to the target\n",
    "#  Non-standardized\n",
    "\n",
    "ols_model_1 = sm.OLS(y_train, X_train)\n",
    "fit = ols_model_1.fit()\n",
    "fit.summary()\n"
   ]
  },
  {
   "cell_type": "code",
   "execution_count": null,
   "metadata": {},
   "outputs": [],
   "source": []
  },
  {
   "cell_type": "code",
   "execution_count": 95,
   "metadata": {},
   "outputs": [
    {
     "data": {
      "text/html": [
       "<table class=\"simpletable\">\n",
       "<caption>OLS Regression Results</caption>\n",
       "<tr>\n",
       "  <th>Dep. Variable:</th>        <td>logerror</td>     <th>  R-squared:         </th>  <td>   0.993</td> \n",
       "</tr>\n",
       "<tr>\n",
       "  <th>Model:</th>                   <td>OLS</td>       <th>  Adj. R-squared:    </th>  <td>   0.993</td> \n",
       "</tr>\n",
       "<tr>\n",
       "  <th>Method:</th>             <td>Least Squares</td>  <th>  F-statistic:       </th>  <td>7.624e+05</td>\n",
       "</tr>\n",
       "<tr>\n",
       "  <th>Date:</th>             <td>Tue, 26 Mar 2019</td> <th>  Prob (F-statistic):</th>   <td>  0.00</td>  \n",
       "</tr>\n",
       "<tr>\n",
       "  <th>Time:</th>                 <td>08:59:54</td>     <th>  Log-Likelihood:    </th>  <td>  47653.</td> \n",
       "</tr>\n",
       "<tr>\n",
       "  <th>No. Observations:</th>      <td> 27018</td>      <th>  AIC:               </th> <td>-9.530e+04</td>\n",
       "</tr>\n",
       "<tr>\n",
       "  <th>Df Residuals:</th>          <td> 27013</td>      <th>  BIC:               </th> <td>-9.525e+04</td>\n",
       "</tr>\n",
       "<tr>\n",
       "  <th>Df Model:</th>              <td>     5</td>      <th>                     </th>      <td> </td>    \n",
       "</tr>\n",
       "<tr>\n",
       "  <th>Covariance Type:</th>      <td>nonrobust</td>    <th>                     </th>      <td> </td>    \n",
       "</tr>\n",
       "</table>\n",
       "<table class=\"simpletable\">\n",
       "<tr>\n",
       "              <td></td>                 <th>coef</th>     <th>std err</th>      <th>t</th>      <th>P>|t|</th>  <th>[0.025</th>    <th>0.975]</th>  \n",
       "</tr>\n",
       "<tr>\n",
       "  <th>log_price_sqft</th>            <td>    0.7757</td> <td>    0.004</td> <td>  201.405</td> <td> 0.000</td> <td>    0.768</td> <td>    0.783</td>\n",
       "</tr>\n",
       "<tr>\n",
       "  <th>log_taxvaluedollarcnt</th>     <td>   -0.3706</td> <td>    0.009</td> <td>  -41.756</td> <td> 0.000</td> <td>   -0.388</td> <td>   -0.353</td>\n",
       "</tr>\n",
       "<tr>\n",
       "  <th>log_landtaxvaluedollarcnt</th> <td>    0.0723</td> <td>    0.008</td> <td>    8.943</td> <td> 0.000</td> <td>    0.056</td> <td>    0.088</td>\n",
       "</tr>\n",
       "<tr>\n",
       "  <th>bednbath</th>                  <td>    0.2182</td> <td>    0.002</td> <td>  120.843</td> <td> 0.000</td> <td>    0.215</td> <td>    0.222</td>\n",
       "</tr>\n",
       "<tr>\n",
       "  <th>age</th>                       <td>    0.0757</td> <td>    0.001</td> <td>   75.959</td> <td> 0.000</td> <td>    0.074</td> <td>    0.078</td>\n",
       "</tr>\n",
       "</table>\n",
       "<table class=\"simpletable\">\n",
       "<tr>\n",
       "  <th>Omnibus:</th>       <td>2457.789</td> <th>  Durbin-Watson:     </th> <td>   2.011</td> \n",
       "</tr>\n",
       "<tr>\n",
       "  <th>Prob(Omnibus):</th>  <td> 0.000</td>  <th>  Jarque-Bera (JB):  </th> <td>16392.435</td>\n",
       "</tr>\n",
       "<tr>\n",
       "  <th>Skew:</th>           <td> 0.141</td>  <th>  Prob(JB):          </th> <td>    0.00</td> \n",
       "</tr>\n",
       "<tr>\n",
       "  <th>Kurtosis:</th>       <td> 6.806</td>  <th>  Cond. No.          </th> <td>    58.5</td> \n",
       "</tr>\n",
       "</table><br/><br/>Warnings:<br/>[1] Standard Errors assume that the covariance matrix of the errors is correctly specified."
      ],
      "text/plain": [
       "<class 'statsmodels.iolib.summary.Summary'>\n",
       "\"\"\"\n",
       "                            OLS Regression Results                            \n",
       "==============================================================================\n",
       "Dep. Variable:               logerror   R-squared:                       0.993\n",
       "Model:                            OLS   Adj. R-squared:                  0.993\n",
       "Method:                 Least Squares   F-statistic:                 7.624e+05\n",
       "Date:                Tue, 26 Mar 2019   Prob (F-statistic):               0.00\n",
       "Time:                        08:59:54   Log-Likelihood:                 47653.\n",
       "No. Observations:               27018   AIC:                        -9.530e+04\n",
       "Df Residuals:                   27013   BIC:                        -9.525e+04\n",
       "Df Model:                           5                                         \n",
       "Covariance Type:            nonrobust                                         \n",
       "=============================================================================================\n",
       "                                coef    std err          t      P>|t|      [0.025      0.975]\n",
       "---------------------------------------------------------------------------------------------\n",
       "log_price_sqft                0.7757      0.004    201.405      0.000       0.768       0.783\n",
       "log_taxvaluedollarcnt        -0.3706      0.009    -41.756      0.000      -0.388      -0.353\n",
       "log_landtaxvaluedollarcnt     0.0723      0.008      8.943      0.000       0.056       0.088\n",
       "bednbath                      0.2182      0.002    120.843      0.000       0.215       0.222\n",
       "age                           0.0757      0.001     75.959      0.000       0.074       0.078\n",
       "==============================================================================\n",
       "Omnibus:                     2457.789   Durbin-Watson:                   2.011\n",
       "Prob(Omnibus):                  0.000   Jarque-Bera (JB):            16392.435\n",
       "Skew:                           0.141   Prob(JB):                         0.00\n",
       "Kurtosis:                       6.806   Cond. No.                         58.5\n",
       "==============================================================================\n",
       "\n",
       "Warnings:\n",
       "[1] Standard Errors assume that the covariance matrix of the errors is correctly specified.\n",
       "\"\"\""
      ]
     },
     "execution_count": 95,
     "metadata": {},
     "output_type": "execute_result"
    }
   ],
   "source": [
    "# OLS with min-max stand, all x_vars\n",
    "\n",
    "ols_model_2 = sm.OLS(y_train_xform, X_train_xform)\n",
    "fit = ols_model_2.fit()\n",
    "fit.summary()"
   ]
  },
  {
   "cell_type": "code",
   "execution_count": null,
   "metadata": {},
   "outputs": [],
   "source": []
  },
  {
   "cell_type": "code",
   "execution_count": 96,
   "metadata": {},
   "outputs": [
    {
     "data": {
      "text/html": [
       "<table class=\"simpletable\">\n",
       "<caption>OLS Regression Results</caption>\n",
       "<tr>\n",
       "  <th>Dep. Variable:</th>        <td>logerror</td>     <th>  R-squared:         </th>  <td>   0.993</td> \n",
       "</tr>\n",
       "<tr>\n",
       "  <th>Model:</th>                   <td>OLS</td>       <th>  Adj. R-squared:    </th>  <td>   0.993</td> \n",
       "</tr>\n",
       "<tr>\n",
       "  <th>Method:</th>             <td>Least Squares</td>  <th>  F-statistic:       </th>  <td>9.503e+05</td>\n",
       "</tr>\n",
       "<tr>\n",
       "  <th>Date:</th>             <td>Tue, 26 Mar 2019</td> <th>  Prob (F-statistic):</th>   <td>  0.00</td>  \n",
       "</tr>\n",
       "<tr>\n",
       "  <th>Time:</th>                 <td>08:59:54</td>     <th>  Log-Likelihood:    </th>  <td>  47613.</td> \n",
       "</tr>\n",
       "<tr>\n",
       "  <th>No. Observations:</th>      <td> 27018</td>      <th>  AIC:               </th> <td>-9.522e+04</td>\n",
       "</tr>\n",
       "<tr>\n",
       "  <th>Df Residuals:</th>          <td> 27014</td>      <th>  BIC:               </th> <td>-9.518e+04</td>\n",
       "</tr>\n",
       "<tr>\n",
       "  <th>Df Model:</th>              <td>     4</td>      <th>                     </th>      <td> </td>    \n",
       "</tr>\n",
       "<tr>\n",
       "  <th>Covariance Type:</th>      <td>nonrobust</td>    <th>                     </th>      <td> </td>    \n",
       "</tr>\n",
       "</table>\n",
       "<table class=\"simpletable\">\n",
       "<tr>\n",
       "            <td></td>               <th>coef</th>     <th>std err</th>      <th>t</th>      <th>P>|t|</th>  <th>[0.025</th>    <th>0.975]</th>  \n",
       "</tr>\n",
       "<tr>\n",
       "  <th>log_price_sqft</th>        <td>    0.7894</td> <td>    0.004</td> <td>  223.090</td> <td> 0.000</td> <td>    0.782</td> <td>    0.796</td>\n",
       "</tr>\n",
       "<tr>\n",
       "  <th>log_taxvaluedollarcnt</th> <td>   -0.3045</td> <td>    0.005</td> <td>  -61.787</td> <td> 0.000</td> <td>   -0.314</td> <td>   -0.295</td>\n",
       "</tr>\n",
       "<tr>\n",
       "  <th>bednbath</th>              <td>    0.2155</td> <td>    0.002</td> <td>  120.864</td> <td> 0.000</td> <td>    0.212</td> <td>    0.219</td>\n",
       "</tr>\n",
       "<tr>\n",
       "  <th>age</th>                   <td>    0.0790</td> <td>    0.001</td> <td>   85.605</td> <td> 0.000</td> <td>    0.077</td> <td>    0.081</td>\n",
       "</tr>\n",
       "</table>\n",
       "<table class=\"simpletable\">\n",
       "<tr>\n",
       "  <th>Omnibus:</th>       <td>2489.050</td> <th>  Durbin-Watson:     </th> <td>   2.011</td> \n",
       "</tr>\n",
       "<tr>\n",
       "  <th>Prob(Omnibus):</th>  <td> 0.000</td>  <th>  Jarque-Bera (JB):  </th> <td>17099.704</td>\n",
       "</tr>\n",
       "<tr>\n",
       "  <th>Skew:</th>           <td> 0.129</td>  <th>  Prob(JB):          </th> <td>    0.00</td> \n",
       "</tr>\n",
       "<tr>\n",
       "  <th>Kurtosis:</th>       <td> 6.889</td>  <th>  Cond. No.          </th> <td>    27.2</td> \n",
       "</tr>\n",
       "</table><br/><br/>Warnings:<br/>[1] Standard Errors assume that the covariance matrix of the errors is correctly specified."
      ],
      "text/plain": [
       "<class 'statsmodels.iolib.summary.Summary'>\n",
       "\"\"\"\n",
       "                            OLS Regression Results                            \n",
       "==============================================================================\n",
       "Dep. Variable:               logerror   R-squared:                       0.993\n",
       "Model:                            OLS   Adj. R-squared:                  0.993\n",
       "Method:                 Least Squares   F-statistic:                 9.503e+05\n",
       "Date:                Tue, 26 Mar 2019   Prob (F-statistic):               0.00\n",
       "Time:                        08:59:54   Log-Likelihood:                 47613.\n",
       "No. Observations:               27018   AIC:                        -9.522e+04\n",
       "Df Residuals:                   27014   BIC:                        -9.518e+04\n",
       "Df Model:                           4                                         \n",
       "Covariance Type:            nonrobust                                         \n",
       "=========================================================================================\n",
       "                            coef    std err          t      P>|t|      [0.025      0.975]\n",
       "-----------------------------------------------------------------------------------------\n",
       "log_price_sqft            0.7894      0.004    223.090      0.000       0.782       0.796\n",
       "log_taxvaluedollarcnt    -0.3045      0.005    -61.787      0.000      -0.314      -0.295\n",
       "bednbath                  0.2155      0.002    120.864      0.000       0.212       0.219\n",
       "age                       0.0790      0.001     85.605      0.000       0.077       0.081\n",
       "==============================================================================\n",
       "Omnibus:                     2489.050   Durbin-Watson:                   2.011\n",
       "Prob(Omnibus):                  0.000   Jarque-Bera (JB):            17099.704\n",
       "Skew:                           0.129   Prob(JB):                         0.00\n",
       "Kurtosis:                       6.889   Cond. No.                         27.2\n",
       "==============================================================================\n",
       "\n",
       "Warnings:\n",
       "[1] Standard Errors assume that the covariance matrix of the errors is correctly specified.\n",
       "\"\"\""
      ]
     },
     "execution_count": 96,
     "metadata": {},
     "output_type": "execute_result"
    }
   ],
   "source": [
    "# Dropping $/sqft\n",
    "\n",
    "ols_model_3 = sm.OLS(y_train_xform, X_train_xform.drop('log_landtaxvaluedollarcnt', axis=1))\n",
    "fit = ols_model_3.fit()\n",
    "fit.summary()"
   ]
  },
  {
   "cell_type": "code",
   "execution_count": null,
   "metadata": {},
   "outputs": [],
   "source": []
  },
  {
   "cell_type": "code",
   "execution_count": null,
   "metadata": {},
   "outputs": [],
   "source": []
  },
  {
   "cell_type": "code",
   "execution_count": null,
   "metadata": {},
   "outputs": [],
   "source": []
  },
  {
   "cell_type": "code",
   "execution_count": null,
   "metadata": {},
   "outputs": [],
   "source": []
  },
  {
   "cell_type": "code",
   "execution_count": null,
   "metadata": {},
   "outputs": [],
   "source": []
  },
  {
   "cell_type": "code",
   "execution_count": null,
   "metadata": {},
   "outputs": [],
   "source": []
  },
  {
   "cell_type": "code",
   "execution_count": 97,
   "metadata": {},
   "outputs": [],
   "source": [
    "# Summarize your conclusions and next steps from your analysis in above.\n",
    "# What will you try when developing your model? (which features to use/not use/etc)\n",
    "\n"
   ]
  },
  {
   "cell_type": "code",
   "execution_count": null,
   "metadata": {},
   "outputs": [],
   "source": []
  },
  {
   "cell_type": "code",
   "execution_count": null,
   "metadata": {},
   "outputs": [],
   "source": []
  },
  {
   "cell_type": "code",
   "execution_count": 98,
   "metadata": {},
   "outputs": [
    {
     "name": "stdout",
     "output_type": "stream",
     "text": [
      "[0.49706914]\n",
      "[[-9.56780050e-03  6.90353841e-03 -3.08176689e-05 -6.03435426e-04\n",
      "  -1.32641995e-04]]\n"
     ]
    }
   ],
   "source": [
    "lm1 = LinearRegression()\n",
    "\n",
    "lm1.fit(X_train_xform, y_train_xform)\n",
    "\n",
    "lm1_y_intercept = lm1.intercept_\n",
    "print(lm1_y_intercept)\n",
    "\n",
    "lm1_coefficients = lm1.coef_\n",
    "print(lm1_coefficients)\n",
    "\n"
   ]
  },
  {
   "cell_type": "code",
   "execution_count": 99,
   "metadata": {},
   "outputs": [
    {
     "data": {
      "text/plain": [
       "array([[0.49303239],\n",
       "       [0.49409108],\n",
       "       [0.49527009],\n",
       "       ...,\n",
       "       [0.49405985],\n",
       "       [0.4945991 ],\n",
       "       [0.49418786]])"
      ]
     },
     "execution_count": 99,
     "metadata": {},
     "output_type": "execute_result"
    }
   ],
   "source": [
    "y_pred_lm1 = lm1.predict(X_train_xform)\n",
    "y_pred_lm1"
   ]
  },
  {
   "cell_type": "code",
   "execution_count": 100,
   "metadata": {},
   "outputs": [
    {
     "name": "stdout",
     "output_type": "stream",
     "text": [
      "r^2: 0.13%\n",
      "mse: 0.000209\n",
      "mae: 0.00296\n"
     ]
    }
   ],
   "source": [
    "r2_lm1 = r2_score(y_train_xform, y_pred_lm1)\n",
    "print('r^2: {:.2%}'.format(r2_lm1))\n",
    "\n",
    "mse_lm1 = mean_squared_error(y_train_xform, y_pred_lm1)\n",
    "print(\"mse: {:.3}\".format(mse_lm1)) \n",
    "\n",
    "mae_lm1 = median_absolute_error(y_train_xform, y_pred_lm1)\n",
    "print(\"mae: {:.3}\".format(mae_lm1)) \n"
   ]
  },
  {
   "cell_type": "code",
   "execution_count": null,
   "metadata": {},
   "outputs": [],
   "source": []
  },
  {
   "cell_type": "code",
   "execution_count": 101,
   "metadata": {},
   "outputs": [
    {
     "data": {
      "text/plain": [
       "array([[0.49414716],\n",
       "       [0.49432664],\n",
       "       [0.49443666],\n",
       "       ...,\n",
       "       [0.49514328],\n",
       "       [0.49401793],\n",
       "       [0.49375458]])"
      ]
     },
     "execution_count": 101,
     "metadata": {},
     "output_type": "execute_result"
    }
   ],
   "source": [
    "y_pred_lm1_test = lm1.predict(X_test_xform)\n",
    "y_pred_lm1_test\n"
   ]
  },
  {
   "cell_type": "code",
   "execution_count": 102,
   "metadata": {},
   "outputs": [
    {
     "name": "stdout",
     "output_type": "stream",
     "text": [
      "r^2: 0.26%\n",
      "mse: 0.00024\n",
      "mae: 0.0029\n"
     ]
    }
   ],
   "source": [
    "\n",
    "r2_lm1_test = r2_score(y_test_xform, y_pred_lm1_test)\n",
    "print('r^2: {:.2%}'.format(r2_lm1_test))\n",
    "\n",
    "mse_lm1_test = mean_squared_error(y_test_xform, y_pred_lm1_test)\n",
    "print(\"mse: {:.3}\".format(mse_lm1_test)) \n",
    "\n",
    "mae_lm1_test = median_absolute_error(y_test_xform, y_pred_lm1_test)\n",
    "print(\"mae: {:.3}\".format(mae_lm1_test)) \n"
   ]
  },
  {
   "cell_type": "code",
   "execution_count": null,
   "metadata": {},
   "outputs": [],
   "source": []
  },
  {
   "cell_type": "code",
   "execution_count": 103,
   "metadata": {
    "scrolled": true
   },
   "outputs": [
    {
     "data": {
      "text/plain": [
       "Text(0, 0.5, 'Residuals')"
      ]
     },
     "execution_count": 103,
     "metadata": {},
     "output_type": "execute_result"
    },
    {
     "data": {
      "image/png": "[encoded data removed]",
      "text/plain": [
       "<Figure size 432x288 with 1 Axes>"
      ]
     },
     "metadata": {
      "needs_background": "light"
     },
     "output_type": "display_data"
    }
   ],
   "source": [
    "plt.scatter(y_pred_lm1_test, y_pred_lm1_test - y_test_xform, c='g', s=1)\n",
    "plt.hlines(y=0, xmin=0.49, xmax=0.502)\n",
    "plt.title(\"Residual plot\")\n",
    "plt.ylabel('Residuals')\n",
    "\n"
   ]
  },
  {
   "cell_type": "code",
   "execution_count": null,
   "metadata": {},
   "outputs": [],
   "source": []
  },
  {
   "cell_type": "code",
   "execution_count": null,
   "metadata": {},
   "outputs": [],
   "source": []
  },
  {
   "cell_type": "code",
   "execution_count": 104,
   "metadata": {},
   "outputs": [
    {
     "name": "stdout",
     "output_type": "stream",
     "text": [
      "LinearRegression(copy_X=True, fit_intercept=True, n_jobs=None,\n",
      "         normalize=False)\n",
      "[0.03707968]\n",
      "[[-1.04239936e-01  4.87219246e-03  3.02658643e-03 -4.45480820e-04\n",
      "  -7.11543564e-05]]\n"
     ]
    }
   ],
   "source": [
    "lm2 = LinearRegression()\n",
    "\n",
    "lm2.fit(X_train, y_train)\n",
    "print(lm2)\n",
    "\n",
    "lm2_y_intercept = lm2.intercept_\n",
    "print(lm2_y_intercept)\n",
    "\n",
    "lm2_coefficients = lm2.coef_\n",
    "print(lm2_coefficients)"
   ]
  },
  {
   "cell_type": "code",
   "execution_count": 105,
   "metadata": {},
   "outputs": [
    {
     "data": {
      "text/plain": [
       "array([[1.70844427e-02],\n",
       "       [8.59214762e-03],\n",
       "       [1.47480501e-06],\n",
       "       ...,\n",
       "       [1.00700812e-02],\n",
       "       [1.53886533e-02],\n",
       "       [1.26471874e-02]])"
      ]
     },
     "execution_count": 105,
     "metadata": {},
     "output_type": "execute_result"
    }
   ],
   "source": [
    "y_pred_lm2 = lm2.predict(X_train)\n",
    "y_pred_lm2"
   ]
  },
  {
   "cell_type": "code",
   "execution_count": 106,
   "metadata": {},
   "outputs": [
    {
     "name": "stdout",
     "output_type": "stream",
     "text": [
      "r^2: 0.16%\n",
      "mse: 0.0179\n",
      "mae: 0.0276\n"
     ]
    }
   ],
   "source": [
    "r2_lm2 = r2_score(y_train, y_pred_lm2)\n",
    "print('r^2: {:.2%}'.format(r2_lm2))\n",
    "\n",
    "mse_lm2 = mean_squared_error(y_train, y_pred_lm2)\n",
    "print(\"mse: {:.3}\".format(mse_lm2)) \n",
    "\n",
    "mae_lm2 = median_absolute_error(y_train, y_pred_lm2)\n",
    "print(\"mae: {:.3}\".format(mae_lm2)) \n"
   ]
  },
  {
   "cell_type": "code",
   "execution_count": 107,
   "metadata": {},
   "outputs": [
    {
     "data": {
      "text/plain": [
       "array([[0.56977829],\n",
       "       [0.57188134],\n",
       "       [0.570228  ],\n",
       "       ...,\n",
       "       [0.57117937],\n",
       "       [0.56495113],\n",
       "       [0.56664998]])"
      ]
     },
     "execution_count": 107,
     "metadata": {},
     "output_type": "execute_result"
    }
   ],
   "source": [
    "y_pred_lm2_test = lm1.predict(X_test)\n",
    "y_pred_lm2_test"
   ]
  },
  {
   "cell_type": "code",
   "execution_count": 108,
   "metadata": {},
   "outputs": [
    {
     "name": "stdout",
     "output_type": "stream",
     "text": [
      "r^2: -1358.83%\n",
      "mse: 0.329\n",
      "mae: 0.56\n"
     ]
    }
   ],
   "source": [
    "r2_lm2 = r2_score(y_test, y_pred_lm2_test)\n",
    "print('r^2: {:.2%}'.format(r2_lm2))\n",
    "\n",
    "mse_lm2 = mean_squared_error(y_test, y_pred_lm2_test)\n",
    "print(\"mse: {:.3}\".format(mse_lm2)) \n",
    "\n",
    "mae_lm2 = median_absolute_error(y_test, y_pred_lm2_test)\n",
    "print(\"mae: {:.3}\".format(mae_lm2)) \n",
    "\n"
   ]
  },
  {
   "cell_type": "code",
   "execution_count": null,
   "metadata": {},
   "outputs": [],
   "source": []
  },
  {
   "cell_type": "code",
   "execution_count": null,
   "metadata": {},
   "outputs": [],
   "source": []
  }
 ],
 "metadata": {
  "kernelspec": {
   "display_name": "Python 3",
   "language": "python",
   "name": "python3"
  },
  "language_info": {
   "codemirror_mode": {
    "name": "ipython",
    "version": 3
   },
   "file_extension": ".py",
   "mimetype": "text/x-python",
   "name": "python",
   "nbconvert_exporter": "python",
   "pygments_lexer": "ipython3",
   "version": "3.7.1"
  }
 },
 "nbformat": 4,
 "nbformat_minor": 2
}
