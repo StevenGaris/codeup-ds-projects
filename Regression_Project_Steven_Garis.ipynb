{
 "cells": [
  {
   "cell_type": "markdown",
   "metadata": {},
   "source": [
    "# Your title for your regression project"
   ]
  },
  {
   "cell_type": "markdown",
   "metadata": {},
   "source": [
    "## Project Planning\n",
    "\n",
    "### Goals\n",
    "\n",
    "(see background)...your customer is the zillow data science team.  state your goals as if you were delivering this to zillow.  They have asked for something from you (see 'background') and you are basically communicating in a more concise way, and very clearly, the goals as you understand them and as you have taken and acted upon through your research. \n",
    "\n",
    "*Project Overview\n",
    "Background:\n",
    "Zillow wants to improve their Zestimate. The zestimate is estimated value of a home. Zillow theorizes that there is more information to be gained to improve its existing model. Because of that, Zillow wants you to develop a model to predict the error between the Zestimate and the sales price of a home. In predicting the error, you will discover features that will help them improve the Zestimate estimate itself. Your goal of this project is to develop a linear regression model that will best predict the log error of the Zestimate. The error is the difference of the sales price and the Zestimate. The log error is computed by taking the log function of that error. You don't need to worry about the fact that the error is of a logarithmic function. It is a continuous number that represents an error rate.*\n",
    "\n"
   ]
  },
  {
   "cell_type": "markdown",
   "metadata": {},
   "source": [
    "### Deliverables\n",
    "\n",
    "What should the zillow team expect to receive from you?  Again, as you were communicating to them, not to your instructors.  \n",
    "\n",
    "*your deliverables:*\n",
    "1. *A report (in the form of a presentation, both verbal and through a slides) that summarizes your findings about the drivers of the Zestimate error. This will come from the analysis you do during the exploration phase of the pipeline. In the report, you will have charts that visually tell the story of what is driving the errors.*\n",
    "\n",
    "2. *A Jupyter notebook, titled 'Regression_Proj_YourName', that contains a clearly labeled section and code clearly documented for each the stages below (project planning, data acquisition, data prep, exploration, and modeling). All of the work will take place in your jupyter notebook.*"
   ]
  },
  {
   "cell_type": "markdown",
   "metadata": {},
   "source": [
    "### Data Dictionary & Details\n",
    "\n",
    "**we will be using 2016 data so do NOT use properties_2017 or predictions_2017**  \n",
    "\n",
    "Data dictionary of fields you will use. Why? So that you can refer back and others can refer to the meanings as you are developing your model. This is about gaining knowledge in the domain space so that you will understand when data doesn't look right, be able to more effectively develop hypotheses, and use that domain knowledge to build a more robust model (among other reasons)\n",
    "\n",
    "Define your fields.   You may be able to to some ahead of time, but you may need to return to this section after you have explored the data and understand more about what each field means.  Also, look for a data dictionary either in the database or in the original data source (kaggle.com). \n",
    "\n",
    "You are free to use more fields than is mentioned, but I would recommend not expanding it to too many fields in the beginning as it will add complexity and you want to make sure you get an initial version completed before diving in deeper.  \n",
    "\n",
    "- `logerror` - Difference between zest and sold price\n",
    "- `bathroomcnt` - # of bathrooms (half included)\n",
    "- `bedroomcnt` - # of bedrooms\n",
    "- `calculatedfinishedsquarefeet` - finished sqft\n",
    "- `fullbathcnt` - # of full baths\n",
    "- `garagecarcnt` - # of car garg\n",
    "- `roomcnt` - # of rooms\n",
    "- `yearbuilt` - construction year\n",
    "- `taxvaluedollarcnt` - assessed value\n",
    "- `taxamount` - anual tax payment\n"
   ]
  },
  {
   "cell_type": "markdown",
   "metadata": {},
   "source": [
    "### Initial Thoughts, Ideas, Hypotheses\n",
    "\n",
    "Brainstorming ideas, hypotheses, related to how variables might impact or relate to each other, both within independent variables and between the independent variables and dependent variable, and also related to any ideas for new features you may have while first looking at the existing variables and challenge ahead of you."
   ]
  },
  {
   "cell_type": "markdown",
   "metadata": {},
   "source": [
    "### Prepare your environment\n",
    "\n",
    "import libraries you will use throughout the project.  You may need to add to this as you go.  But try to keep all of your imports in this section"
   ]
  },
  {
   "cell_type": "code",
   "execution_count": 1,
   "metadata": {},
   "outputs": [],
   "source": [
    "import numpy as np\n",
    "import pandas as pd\n",
    "import seaborn as sns\n",
    "import matplotlib.pyplot as plt\n",
    "from scipy import stats\n",
    "from sklearn.model_selection import train_test_split\n",
    "from sklearn.linear_model import LinearRegression\n",
    "from sklearn.metrics import mean_squared_error, r2_score, mean_absolute_error, median_absolute_error\n",
    "from sklearn.feature_selection import f_regression\n",
    "import statsmodels.api as sm\n",
    "from sklearn.preprocessing import MinMaxScaler\n",
    "import warnings\n",
    "warnings.filterwarnings(\"ignore\")\n",
    "\n",
    "\n"
   ]
  },
  {
   "cell_type": "markdown",
   "metadata": {},
   "source": [
    "### Data Acquisition\n",
    "\n",
    "#### Acquire via csv\n",
    "\n",
    "- add the path to where your files are located in your env.py file. \n",
    "- ensure that others can read the files based on their local env.py file. \n",
    "\n",
    "- Filter out any from predictions_2016 that do not have a logerror. \n",
    "- Generate a cohesive data set that includes the following fields:\n",
    "\n",
    "- `logerror`\n",
    "- `bathroomcnt`\n",
    "- `bedroomcnt`\n",
    "- `calculatedfinishedsquarefeet`\n",
    "- `fullbathcnt`\n",
    "- `garagecarcnt`\n",
    "- `roomcnt`\n",
    "- `yearbuilt`\n",
    "- `taxvaluedollarcnt`\n",
    "- `taxamount`\n",
    "- (optional) `regionidzip`\n",
    "\n",
    "recommendations for dealing with the large dataset\n",
    "- remove any without a logerror\n",
    "- sample until you have the right query (and then pull entire dataset)\n",
    "- export to local csv \n",
    "- read from local csv (sample, but larger sample than your first) \n",
    "- save sql query to add into to_sql() function in python. \n"
   ]
  },
  {
   "cell_type": "markdown",
   "metadata": {},
   "source": [
    "#### Summarize the data. \n",
    "\n",
    "Why? So you can confirm the data look like what you would expect.\n",
    "\n",
    "- peek at a few rows\n",
    "- data types\n",
    "- summary stats\n",
    "- column names\n",
    "- number of rows and columns\n",
    "- ..."
   ]
  },
  {
   "cell_type": "code",
   "execution_count": 2,
   "metadata": {},
   "outputs": [],
   "source": [
    "zil_prop = pd.read_csv('properties_2016.csv')\n",
    "zil_train = pd.read_csv('train_2016_v2.csv')"
   ]
  },
  {
   "cell_type": "code",
   "execution_count": 3,
   "metadata": {},
   "outputs": [
    {
     "data": {
      "text/html": [
       "<div>\n",
       "<style scoped>\n",
       "    .dataframe tbody tr th:only-of-type {\n",
       "        vertical-align: middle;\n",
       "    }\n",
       "\n",
       "    .dataframe tbody tr th {\n",
       "        vertical-align: top;\n",
       "    }\n",
       "\n",
       "    .dataframe thead th {\n",
       "        text-align: right;\n",
       "    }\n",
       "</style>\n",
       "<table border=\"1\" class=\"dataframe\">\n",
       "  <thead>\n",
       "    <tr style=\"text-align: right;\">\n",
       "      <th></th>\n",
       "      <th>parcelid</th>\n",
       "      <th>airconditioningtypeid</th>\n",
       "      <th>architecturalstyletypeid</th>\n",
       "      <th>basementsqft</th>\n",
       "      <th>bathroomcnt</th>\n",
       "      <th>bedroomcnt</th>\n",
       "      <th>buildingclasstypeid</th>\n",
       "      <th>buildingqualitytypeid</th>\n",
       "      <th>calculatedbathnbr</th>\n",
       "      <th>decktypeid</th>\n",
       "      <th>...</th>\n",
       "      <th>numberofstories</th>\n",
       "      <th>fireplaceflag</th>\n",
       "      <th>structuretaxvaluedollarcnt</th>\n",
       "      <th>taxvaluedollarcnt</th>\n",
       "      <th>assessmentyear</th>\n",
       "      <th>landtaxvaluedollarcnt</th>\n",
       "      <th>taxamount</th>\n",
       "      <th>taxdelinquencyflag</th>\n",
       "      <th>taxdelinquencyyear</th>\n",
       "      <th>censustractandblock</th>\n",
       "    </tr>\n",
       "  </thead>\n",
       "  <tbody>\n",
       "    <tr>\n",
       "      <th>0</th>\n",
       "      <td>10754147</td>\n",
       "      <td>NaN</td>\n",
       "      <td>NaN</td>\n",
       "      <td>NaN</td>\n",
       "      <td>0.0</td>\n",
       "      <td>0.0</td>\n",
       "      <td>NaN</td>\n",
       "      <td>NaN</td>\n",
       "      <td>NaN</td>\n",
       "      <td>NaN</td>\n",
       "      <td>...</td>\n",
       "      <td>NaN</td>\n",
       "      <td>NaN</td>\n",
       "      <td>NaN</td>\n",
       "      <td>9.0</td>\n",
       "      <td>2015.0</td>\n",
       "      <td>9.0</td>\n",
       "      <td>NaN</td>\n",
       "      <td>NaN</td>\n",
       "      <td>NaN</td>\n",
       "      <td>NaN</td>\n",
       "    </tr>\n",
       "    <tr>\n",
       "      <th>1</th>\n",
       "      <td>10759547</td>\n",
       "      <td>NaN</td>\n",
       "      <td>NaN</td>\n",
       "      <td>NaN</td>\n",
       "      <td>0.0</td>\n",
       "      <td>0.0</td>\n",
       "      <td>NaN</td>\n",
       "      <td>NaN</td>\n",
       "      <td>NaN</td>\n",
       "      <td>NaN</td>\n",
       "      <td>...</td>\n",
       "      <td>NaN</td>\n",
       "      <td>NaN</td>\n",
       "      <td>NaN</td>\n",
       "      <td>27516.0</td>\n",
       "      <td>2015.0</td>\n",
       "      <td>27516.0</td>\n",
       "      <td>NaN</td>\n",
       "      <td>NaN</td>\n",
       "      <td>NaN</td>\n",
       "      <td>NaN</td>\n",
       "    </tr>\n",
       "    <tr>\n",
       "      <th>2</th>\n",
       "      <td>10843547</td>\n",
       "      <td>NaN</td>\n",
       "      <td>NaN</td>\n",
       "      <td>NaN</td>\n",
       "      <td>0.0</td>\n",
       "      <td>0.0</td>\n",
       "      <td>NaN</td>\n",
       "      <td>NaN</td>\n",
       "      <td>NaN</td>\n",
       "      <td>NaN</td>\n",
       "      <td>...</td>\n",
       "      <td>NaN</td>\n",
       "      <td>NaN</td>\n",
       "      <td>650756.0</td>\n",
       "      <td>1413387.0</td>\n",
       "      <td>2015.0</td>\n",
       "      <td>762631.0</td>\n",
       "      <td>20800.37</td>\n",
       "      <td>NaN</td>\n",
       "      <td>NaN</td>\n",
       "      <td>NaN</td>\n",
       "    </tr>\n",
       "    <tr>\n",
       "      <th>3</th>\n",
       "      <td>10859147</td>\n",
       "      <td>NaN</td>\n",
       "      <td>NaN</td>\n",
       "      <td>NaN</td>\n",
       "      <td>0.0</td>\n",
       "      <td>0.0</td>\n",
       "      <td>3.0</td>\n",
       "      <td>7.0</td>\n",
       "      <td>NaN</td>\n",
       "      <td>NaN</td>\n",
       "      <td>...</td>\n",
       "      <td>1.0</td>\n",
       "      <td>NaN</td>\n",
       "      <td>571346.0</td>\n",
       "      <td>1156834.0</td>\n",
       "      <td>2015.0</td>\n",
       "      <td>585488.0</td>\n",
       "      <td>14557.57</td>\n",
       "      <td>NaN</td>\n",
       "      <td>NaN</td>\n",
       "      <td>NaN</td>\n",
       "    </tr>\n",
       "    <tr>\n",
       "      <th>4</th>\n",
       "      <td>10879947</td>\n",
       "      <td>NaN</td>\n",
       "      <td>NaN</td>\n",
       "      <td>NaN</td>\n",
       "      <td>0.0</td>\n",
       "      <td>0.0</td>\n",
       "      <td>4.0</td>\n",
       "      <td>NaN</td>\n",
       "      <td>NaN</td>\n",
       "      <td>NaN</td>\n",
       "      <td>...</td>\n",
       "      <td>NaN</td>\n",
       "      <td>NaN</td>\n",
       "      <td>193796.0</td>\n",
       "      <td>433491.0</td>\n",
       "      <td>2015.0</td>\n",
       "      <td>239695.0</td>\n",
       "      <td>5725.17</td>\n",
       "      <td>NaN</td>\n",
       "      <td>NaN</td>\n",
       "      <td>NaN</td>\n",
       "    </tr>\n",
       "  </tbody>\n",
       "</table>\n",
       "<p>5 rows × 58 columns</p>\n",
       "</div>"
      ],
      "text/plain": [
       "   parcelid  airconditioningtypeid  architecturalstyletypeid  basementsqft  \\\n",
       "0  10754147                    NaN                       NaN           NaN   \n",
       "1  10759547                    NaN                       NaN           NaN   \n",
       "2  10843547                    NaN                       NaN           NaN   \n",
       "3  10859147                    NaN                       NaN           NaN   \n",
       "4  10879947                    NaN                       NaN           NaN   \n",
       "\n",
       "   bathroomcnt  bedroomcnt  buildingclasstypeid  buildingqualitytypeid  \\\n",
       "0          0.0         0.0                  NaN                    NaN   \n",
       "1          0.0         0.0                  NaN                    NaN   \n",
       "2          0.0         0.0                  NaN                    NaN   \n",
       "3          0.0         0.0                  3.0                    7.0   \n",
       "4          0.0         0.0                  4.0                    NaN   \n",
       "\n",
       "   calculatedbathnbr  decktypeid         ...           numberofstories  \\\n",
       "0                NaN         NaN         ...                       NaN   \n",
       "1                NaN         NaN         ...                       NaN   \n",
       "2                NaN         NaN         ...                       NaN   \n",
       "3                NaN         NaN         ...                       1.0   \n",
       "4                NaN         NaN         ...                       NaN   \n",
       "\n",
       "   fireplaceflag  structuretaxvaluedollarcnt  taxvaluedollarcnt  \\\n",
       "0            NaN                         NaN                9.0   \n",
       "1            NaN                         NaN            27516.0   \n",
       "2            NaN                    650756.0          1413387.0   \n",
       "3            NaN                    571346.0          1156834.0   \n",
       "4            NaN                    193796.0           433491.0   \n",
       "\n",
       "   assessmentyear  landtaxvaluedollarcnt  taxamount  taxdelinquencyflag  \\\n",
       "0          2015.0                    9.0        NaN                 NaN   \n",
       "1          2015.0                27516.0        NaN                 NaN   \n",
       "2          2015.0               762631.0   20800.37                 NaN   \n",
       "3          2015.0               585488.0   14557.57                 NaN   \n",
       "4          2015.0               239695.0    5725.17                 NaN   \n",
       "\n",
       "   taxdelinquencyyear  censustractandblock  \n",
       "0                 NaN                  NaN  \n",
       "1                 NaN                  NaN  \n",
       "2                 NaN                  NaN  \n",
       "3                 NaN                  NaN  \n",
       "4                 NaN                  NaN  \n",
       "\n",
       "[5 rows x 58 columns]"
      ]
     },
     "execution_count": 3,
     "metadata": {},
     "output_type": "execute_result"
    }
   ],
   "source": [
    "zil_prop.head()"
   ]
  },
  {
   "cell_type": "code",
   "execution_count": 4,
   "metadata": {},
   "outputs": [
    {
     "data": {
      "text/html": [
       "<div>\n",
       "<style scoped>\n",
       "    .dataframe tbody tr th:only-of-type {\n",
       "        vertical-align: middle;\n",
       "    }\n",
       "\n",
       "    .dataframe tbody tr th {\n",
       "        vertical-align: top;\n",
       "    }\n",
       "\n",
       "    .dataframe thead th {\n",
       "        text-align: right;\n",
       "    }\n",
       "</style>\n",
       "<table border=\"1\" class=\"dataframe\">\n",
       "  <thead>\n",
       "    <tr style=\"text-align: right;\">\n",
       "      <th></th>\n",
       "      <th>parcelid</th>\n",
       "      <th>logerror</th>\n",
       "      <th>transactiondate</th>\n",
       "    </tr>\n",
       "  </thead>\n",
       "  <tbody>\n",
       "    <tr>\n",
       "      <th>0</th>\n",
       "      <td>11016594</td>\n",
       "      <td>0.0276</td>\n",
       "      <td>2016-01-01</td>\n",
       "    </tr>\n",
       "    <tr>\n",
       "      <th>1</th>\n",
       "      <td>14366692</td>\n",
       "      <td>-0.1684</td>\n",
       "      <td>2016-01-01</td>\n",
       "    </tr>\n",
       "    <tr>\n",
       "      <th>2</th>\n",
       "      <td>12098116</td>\n",
       "      <td>-0.0040</td>\n",
       "      <td>2016-01-01</td>\n",
       "    </tr>\n",
       "    <tr>\n",
       "      <th>3</th>\n",
       "      <td>12643413</td>\n",
       "      <td>0.0218</td>\n",
       "      <td>2016-01-02</td>\n",
       "    </tr>\n",
       "    <tr>\n",
       "      <th>4</th>\n",
       "      <td>14432541</td>\n",
       "      <td>-0.0050</td>\n",
       "      <td>2016-01-02</td>\n",
       "    </tr>\n",
       "  </tbody>\n",
       "</table>\n",
       "</div>"
      ],
      "text/plain": [
       "   parcelid  logerror transactiondate\n",
       "0  11016594    0.0276      2016-01-01\n",
       "1  14366692   -0.1684      2016-01-01\n",
       "2  12098116   -0.0040      2016-01-01\n",
       "3  12643413    0.0218      2016-01-02\n",
       "4  14432541   -0.0050      2016-01-02"
      ]
     },
     "execution_count": 4,
     "metadata": {},
     "output_type": "execute_result"
    }
   ],
   "source": [
    "zil_train.head()"
   ]
  },
  {
   "cell_type": "code",
   "execution_count": 5,
   "metadata": {},
   "outputs": [
    {
     "data": {
      "text/html": [
       "<div>\n",
       "<style scoped>\n",
       "    .dataframe tbody tr th:only-of-type {\n",
       "        vertical-align: middle;\n",
       "    }\n",
       "\n",
       "    .dataframe tbody tr th {\n",
       "        vertical-align: top;\n",
       "    }\n",
       "\n",
       "    .dataframe thead th {\n",
       "        text-align: right;\n",
       "    }\n",
       "</style>\n",
       "<table border=\"1\" class=\"dataframe\">\n",
       "  <thead>\n",
       "    <tr style=\"text-align: right;\">\n",
       "      <th></th>\n",
       "      <th>parcelid</th>\n",
       "      <th>airconditioningtypeid</th>\n",
       "      <th>architecturalstyletypeid</th>\n",
       "      <th>basementsqft</th>\n",
       "      <th>bathroomcnt</th>\n",
       "      <th>bedroomcnt</th>\n",
       "      <th>buildingclasstypeid</th>\n",
       "      <th>buildingqualitytypeid</th>\n",
       "      <th>calculatedbathnbr</th>\n",
       "      <th>decktypeid</th>\n",
       "      <th>...</th>\n",
       "      <th>structuretaxvaluedollarcnt</th>\n",
       "      <th>taxvaluedollarcnt</th>\n",
       "      <th>assessmentyear</th>\n",
       "      <th>landtaxvaluedollarcnt</th>\n",
       "      <th>taxamount</th>\n",
       "      <th>taxdelinquencyflag</th>\n",
       "      <th>taxdelinquencyyear</th>\n",
       "      <th>censustractandblock</th>\n",
       "      <th>logerror</th>\n",
       "      <th>transactiondate</th>\n",
       "    </tr>\n",
       "  </thead>\n",
       "  <tbody>\n",
       "    <tr>\n",
       "      <th>0</th>\n",
       "      <td>17073783</td>\n",
       "      <td>NaN</td>\n",
       "      <td>NaN</td>\n",
       "      <td>NaN</td>\n",
       "      <td>2.5</td>\n",
       "      <td>3.0</td>\n",
       "      <td>NaN</td>\n",
       "      <td>NaN</td>\n",
       "      <td>2.5</td>\n",
       "      <td>NaN</td>\n",
       "      <td>...</td>\n",
       "      <td>115087.0</td>\n",
       "      <td>191811.0</td>\n",
       "      <td>2015.0</td>\n",
       "      <td>76724.0</td>\n",
       "      <td>2015.06</td>\n",
       "      <td>NaN</td>\n",
       "      <td>NaN</td>\n",
       "      <td>6.111002e+13</td>\n",
       "      <td>0.0953</td>\n",
       "      <td>2016-01-27</td>\n",
       "    </tr>\n",
       "    <tr>\n",
       "      <th>1</th>\n",
       "      <td>17088994</td>\n",
       "      <td>NaN</td>\n",
       "      <td>NaN</td>\n",
       "      <td>NaN</td>\n",
       "      <td>1.0</td>\n",
       "      <td>2.0</td>\n",
       "      <td>NaN</td>\n",
       "      <td>NaN</td>\n",
       "      <td>1.0</td>\n",
       "      <td>NaN</td>\n",
       "      <td>...</td>\n",
       "      <td>143809.0</td>\n",
       "      <td>239679.0</td>\n",
       "      <td>2015.0</td>\n",
       "      <td>95870.0</td>\n",
       "      <td>2581.30</td>\n",
       "      <td>NaN</td>\n",
       "      <td>NaN</td>\n",
       "      <td>6.111002e+13</td>\n",
       "      <td>0.0198</td>\n",
       "      <td>2016-03-30</td>\n",
       "    </tr>\n",
       "    <tr>\n",
       "      <th>2</th>\n",
       "      <td>17100444</td>\n",
       "      <td>NaN</td>\n",
       "      <td>NaN</td>\n",
       "      <td>NaN</td>\n",
       "      <td>2.0</td>\n",
       "      <td>3.0</td>\n",
       "      <td>NaN</td>\n",
       "      <td>NaN</td>\n",
       "      <td>2.0</td>\n",
       "      <td>NaN</td>\n",
       "      <td>...</td>\n",
       "      <td>33619.0</td>\n",
       "      <td>47853.0</td>\n",
       "      <td>2015.0</td>\n",
       "      <td>14234.0</td>\n",
       "      <td>591.64</td>\n",
       "      <td>NaN</td>\n",
       "      <td>NaN</td>\n",
       "      <td>6.111001e+13</td>\n",
       "      <td>0.0060</td>\n",
       "      <td>2016-05-27</td>\n",
       "    </tr>\n",
       "    <tr>\n",
       "      <th>3</th>\n",
       "      <td>17102429</td>\n",
       "      <td>NaN</td>\n",
       "      <td>NaN</td>\n",
       "      <td>NaN</td>\n",
       "      <td>1.5</td>\n",
       "      <td>2.0</td>\n",
       "      <td>NaN</td>\n",
       "      <td>NaN</td>\n",
       "      <td>1.5</td>\n",
       "      <td>NaN</td>\n",
       "      <td>...</td>\n",
       "      <td>45609.0</td>\n",
       "      <td>62914.0</td>\n",
       "      <td>2015.0</td>\n",
       "      <td>17305.0</td>\n",
       "      <td>682.78</td>\n",
       "      <td>NaN</td>\n",
       "      <td>NaN</td>\n",
       "      <td>6.111001e+13</td>\n",
       "      <td>-0.0566</td>\n",
       "      <td>2016-06-07</td>\n",
       "    </tr>\n",
       "    <tr>\n",
       "      <th>4</th>\n",
       "      <td>17109604</td>\n",
       "      <td>NaN</td>\n",
       "      <td>NaN</td>\n",
       "      <td>NaN</td>\n",
       "      <td>2.5</td>\n",
       "      <td>4.0</td>\n",
       "      <td>NaN</td>\n",
       "      <td>NaN</td>\n",
       "      <td>2.5</td>\n",
       "      <td>NaN</td>\n",
       "      <td>...</td>\n",
       "      <td>277000.0</td>\n",
       "      <td>554000.0</td>\n",
       "      <td>2015.0</td>\n",
       "      <td>277000.0</td>\n",
       "      <td>5886.92</td>\n",
       "      <td>NaN</td>\n",
       "      <td>NaN</td>\n",
       "      <td>6.111001e+13</td>\n",
       "      <td>0.0573</td>\n",
       "      <td>2016-08-08</td>\n",
       "    </tr>\n",
       "  </tbody>\n",
       "</table>\n",
       "<p>5 rows × 60 columns</p>\n",
       "</div>"
      ],
      "text/plain": [
       "   parcelid  airconditioningtypeid  architecturalstyletypeid  basementsqft  \\\n",
       "0  17073783                    NaN                       NaN           NaN   \n",
       "1  17088994                    NaN                       NaN           NaN   \n",
       "2  17100444                    NaN                       NaN           NaN   \n",
       "3  17102429                    NaN                       NaN           NaN   \n",
       "4  17109604                    NaN                       NaN           NaN   \n",
       "\n",
       "   bathroomcnt  bedroomcnt  buildingclasstypeid  buildingqualitytypeid  \\\n",
       "0          2.5         3.0                  NaN                    NaN   \n",
       "1          1.0         2.0                  NaN                    NaN   \n",
       "2          2.0         3.0                  NaN                    NaN   \n",
       "3          1.5         2.0                  NaN                    NaN   \n",
       "4          2.5         4.0                  NaN                    NaN   \n",
       "\n",
       "   calculatedbathnbr  decktypeid       ...         structuretaxvaluedollarcnt  \\\n",
       "0                2.5         NaN       ...                           115087.0   \n",
       "1                1.0         NaN       ...                           143809.0   \n",
       "2                2.0         NaN       ...                            33619.0   \n",
       "3                1.5         NaN       ...                            45609.0   \n",
       "4                2.5         NaN       ...                           277000.0   \n",
       "\n",
       "   taxvaluedollarcnt  assessmentyear  landtaxvaluedollarcnt  taxamount  \\\n",
       "0           191811.0          2015.0                76724.0    2015.06   \n",
       "1           239679.0          2015.0                95870.0    2581.30   \n",
       "2            47853.0          2015.0                14234.0     591.64   \n",
       "3            62914.0          2015.0                17305.0     682.78   \n",
       "4           554000.0          2015.0               277000.0    5886.92   \n",
       "\n",
       "   taxdelinquencyflag  taxdelinquencyyear  censustractandblock  logerror  \\\n",
       "0                 NaN                 NaN         6.111002e+13    0.0953   \n",
       "1                 NaN                 NaN         6.111002e+13    0.0198   \n",
       "2                 NaN                 NaN         6.111001e+13    0.0060   \n",
       "3                 NaN                 NaN         6.111001e+13   -0.0566   \n",
       "4                 NaN                 NaN         6.111001e+13    0.0573   \n",
       "\n",
       "   transactiondate  \n",
       "0       2016-01-27  \n",
       "1       2016-03-30  \n",
       "2       2016-05-27  \n",
       "3       2016-06-07  \n",
       "4       2016-08-08  \n",
       "\n",
       "[5 rows x 60 columns]"
      ]
     },
     "execution_count": 5,
     "metadata": {},
     "output_type": "execute_result"
    }
   ],
   "source": [
    "zil_full = zil_prop.merge(zil_train, on=['parcelid'])\n",
    "zil_full.head()"
   ]
  },
  {
   "cell_type": "code",
   "execution_count": null,
   "metadata": {},
   "outputs": [],
   "source": []
  },
  {
   "cell_type": "markdown",
   "metadata": {},
   "source": [
    "### Data Preparation\n",
    "\n",
    "Goal: leave this section with a dataset that is ready to be analyzed. "
   ]
  },
  {
   "cell_type": "code",
   "execution_count": 6,
   "metadata": {},
   "outputs": [],
   "source": [
    "zil_df = zil_full[['logerror',\n",
    "                'bathroomcnt',\n",
    "                'bedroomcnt',\n",
    "                'calculatedfinishedsquarefeet',\n",
    "                'fullbathcnt',\n",
    "                'garagecarcnt',\n",
    "                'roomcnt',\n",
    "                'yearbuilt',\n",
    "                'taxvaluedollarcnt',\n",
    "                'taxamount']]"
   ]
  },
  {
   "cell_type": "code",
   "execution_count": 7,
   "metadata": {},
   "outputs": [
    {
     "data": {
      "text/html": [
       "<div>\n",
       "<style scoped>\n",
       "    .dataframe tbody tr th:only-of-type {\n",
       "        vertical-align: middle;\n",
       "    }\n",
       "\n",
       "    .dataframe tbody tr th {\n",
       "        vertical-align: top;\n",
       "    }\n",
       "\n",
       "    .dataframe thead th {\n",
       "        text-align: right;\n",
       "    }\n",
       "</style>\n",
       "<table border=\"1\" class=\"dataframe\">\n",
       "  <thead>\n",
       "    <tr style=\"text-align: right;\">\n",
       "      <th></th>\n",
       "      <th>parcelid</th>\n",
       "      <th>transactiondate</th>\n",
       "    </tr>\n",
       "  </thead>\n",
       "  <tbody>\n",
       "    <tr>\n",
       "      <th>52333</th>\n",
       "      <td>10736972</td>\n",
       "      <td>2016-02-22</td>\n",
       "    </tr>\n",
       "    <tr>\n",
       "      <th>52334</th>\n",
       "      <td>10736972</td>\n",
       "      <td>2016-12-14</td>\n",
       "    </tr>\n",
       "    <tr>\n",
       "      <th>68065</th>\n",
       "      <td>10790468</td>\n",
       "      <td>2016-02-12</td>\n",
       "    </tr>\n",
       "    <tr>\n",
       "      <th>68066</th>\n",
       "      <td>10790468</td>\n",
       "      <td>2016-09-13</td>\n",
       "    </tr>\n",
       "    <tr>\n",
       "      <th>80309</th>\n",
       "      <td>10796614</td>\n",
       "      <td>2016-06-14</td>\n",
       "    </tr>\n",
       "    <tr>\n",
       "      <th>80308</th>\n",
       "      <td>10796614</td>\n",
       "      <td>2016-01-13</td>\n",
       "    </tr>\n",
       "    <tr>\n",
       "      <th>33824</th>\n",
       "      <td>10798910</td>\n",
       "      <td>2016-04-12</td>\n",
       "    </tr>\n",
       "    <tr>\n",
       "      <th>33825</th>\n",
       "      <td>10798910</td>\n",
       "      <td>2016-05-24</td>\n",
       "    </tr>\n",
       "    <tr>\n",
       "      <th>4504</th>\n",
       "      <td>10799924</td>\n",
       "      <td>2016-08-09</td>\n",
       "    </tr>\n",
       "    <tr>\n",
       "      <th>4503</th>\n",
       "      <td>10799924</td>\n",
       "      <td>2016-01-29</td>\n",
       "    </tr>\n",
       "  </tbody>\n",
       "</table>\n",
       "</div>"
      ],
      "text/plain": [
       "       parcelid transactiondate\n",
       "52333  10736972      2016-02-22\n",
       "52334  10736972      2016-12-14\n",
       "68065  10790468      2016-02-12\n",
       "68066  10790468      2016-09-13\n",
       "80309  10796614      2016-06-14\n",
       "80308  10796614      2016-01-13\n",
       "33824  10798910      2016-04-12\n",
       "33825  10798910      2016-05-24\n",
       "4504   10799924      2016-08-09\n",
       "4503   10799924      2016-01-29"
      ]
     },
     "execution_count": 7,
     "metadata": {},
     "output_type": "execute_result"
    }
   ],
   "source": [
    "# Duplicate parcel id but different transactions, dont drop.\n",
    "\n",
    "zil_full = zil_prop.merge(zil_train, on=['parcelid'])\n",
    "zil_full[['parcelid','transactiondate']][zil_full.duplicated('parcelid', False)].sort_values('parcelid').head(10)"
   ]
  },
  {
   "cell_type": "code",
   "execution_count": null,
   "metadata": {},
   "outputs": [],
   "source": []
  },
  {
   "cell_type": "code",
   "execution_count": null,
   "metadata": {},
   "outputs": [],
   "source": []
  },
  {
   "cell_type": "markdown",
   "metadata": {},
   "source": [
    "#### Create a variable, `colnames`, that is a list of the column names. \n",
    "Why? You will likely reference this variable later."
   ]
  },
  {
   "cell_type": "code",
   "execution_count": 8,
   "metadata": {},
   "outputs": [
    {
     "data": {
      "text/plain": [
       "['logerror',\n",
       " 'bathroomcnt',\n",
       " 'bedroomcnt',\n",
       " 'calculatedfinishedsquarefeet',\n",
       " 'fullbathcnt',\n",
       " 'garagecarcnt',\n",
       " 'roomcnt',\n",
       " 'yearbuilt',\n",
       " 'taxvaluedollarcnt',\n",
       " 'taxamount']"
      ]
     },
     "execution_count": 8,
     "metadata": {},
     "output_type": "execute_result"
    }
   ],
   "source": [
    "full_colnames = list(zil_df.columns.values)\n",
    "full_colnames\n"
   ]
  },
  {
   "cell_type": "markdown",
   "metadata": {},
   "source": [
    "#### Identify the data types of each variable. Why? \n",
    "You need to make sure they are what makes sense for the data and the meaning of the data that lies in that variable. If it does not, make necessary changes."
   ]
  },
  {
   "cell_type": "code",
   "execution_count": 9,
   "metadata": {},
   "outputs": [
    {
     "data": {
      "text/plain": [
       "logerror                        float64\n",
       "bathroomcnt                     float64\n",
       "bedroomcnt                      float64\n",
       "calculatedfinishedsquarefeet    float64\n",
       "fullbathcnt                     float64\n",
       "garagecarcnt                    float64\n",
       "roomcnt                         float64\n",
       "yearbuilt                       float64\n",
       "taxvaluedollarcnt               float64\n",
       "taxamount                       float64\n",
       "dtype: object"
      ]
     },
     "execution_count": 9,
     "metadata": {},
     "output_type": "execute_result"
    }
   ],
   "source": [
    "zil_df.dtypes"
   ]
  },
  {
   "cell_type": "markdown",
   "metadata": {},
   "source": [
    "#### Identify the columns that have missing values and the number of missing values in each column. \n",
    "Why? Missing values are going to cause issues down the line so you will need to handle those appropriately. For each variable with missing values, if it makes sense to replace those missing with a 0, do so. For those where that doesn't make sense, decide if you should drop the entire observations (rows) that contain the missing values, or drop the entire variable (column) that contains the missing values."
   ]
  },
  {
   "cell_type": "code",
   "execution_count": 10,
   "metadata": {},
   "outputs": [
    {
     "data": {
      "text/plain": [
       "logerror                            0\n",
       "bathroomcnt                         0\n",
       "bedroomcnt                          0\n",
       "calculatedfinishedsquarefeet      661\n",
       "fullbathcnt                      1182\n",
       "garagecarcnt                    60338\n",
       "roomcnt                             0\n",
       "yearbuilt                         756\n",
       "taxvaluedollarcnt                   1\n",
       "taxamount                           6\n",
       "dtype: int64"
      ]
     },
     "execution_count": 10,
     "metadata": {},
     "output_type": "execute_result"
    }
   ],
   "source": [
    "zil_df.isnull().sum()"
   ]
  },
  {
   "cell_type": "code",
   "execution_count": 11,
   "metadata": {},
   "outputs": [
    {
     "data": {
      "text/html": [
       "<div>\n",
       "<style scoped>\n",
       "    .dataframe tbody tr th:only-of-type {\n",
       "        vertical-align: middle;\n",
       "    }\n",
       "\n",
       "    .dataframe tbody tr th {\n",
       "        vertical-align: top;\n",
       "    }\n",
       "\n",
       "    .dataframe thead th {\n",
       "        text-align: right;\n",
       "    }\n",
       "</style>\n",
       "<table border=\"1\" class=\"dataframe\">\n",
       "  <thead>\n",
       "    <tr style=\"text-align: right;\">\n",
       "      <th></th>\n",
       "      <th>logerror</th>\n",
       "      <th>bathroomcnt</th>\n",
       "      <th>bedroomcnt</th>\n",
       "      <th>calculatedfinishedsquarefeet</th>\n",
       "      <th>roomcnt</th>\n",
       "      <th>yearbuilt</th>\n",
       "      <th>taxvaluedollarcnt</th>\n",
       "      <th>taxamount</th>\n",
       "    </tr>\n",
       "  </thead>\n",
       "  <tbody>\n",
       "    <tr>\n",
       "      <th>0</th>\n",
       "      <td>0.0953</td>\n",
       "      <td>2.5</td>\n",
       "      <td>3.0</td>\n",
       "      <td>1264.0</td>\n",
       "      <td>5.0</td>\n",
       "      <td>1986.0</td>\n",
       "      <td>191811.0</td>\n",
       "      <td>2015.06</td>\n",
       "    </tr>\n",
       "    <tr>\n",
       "      <th>1</th>\n",
       "      <td>0.0198</td>\n",
       "      <td>1.0</td>\n",
       "      <td>2.0</td>\n",
       "      <td>777.0</td>\n",
       "      <td>4.0</td>\n",
       "      <td>1990.0</td>\n",
       "      <td>239679.0</td>\n",
       "      <td>2581.30</td>\n",
       "    </tr>\n",
       "    <tr>\n",
       "      <th>2</th>\n",
       "      <td>0.0060</td>\n",
       "      <td>2.0</td>\n",
       "      <td>3.0</td>\n",
       "      <td>1101.0</td>\n",
       "      <td>5.0</td>\n",
       "      <td>1956.0</td>\n",
       "      <td>47853.0</td>\n",
       "      <td>591.64</td>\n",
       "    </tr>\n",
       "    <tr>\n",
       "      <th>3</th>\n",
       "      <td>-0.0566</td>\n",
       "      <td>1.5</td>\n",
       "      <td>2.0</td>\n",
       "      <td>1554.0</td>\n",
       "      <td>5.0</td>\n",
       "      <td>1965.0</td>\n",
       "      <td>62914.0</td>\n",
       "      <td>682.78</td>\n",
       "    </tr>\n",
       "    <tr>\n",
       "      <th>4</th>\n",
       "      <td>0.0573</td>\n",
       "      <td>2.5</td>\n",
       "      <td>4.0</td>\n",
       "      <td>2415.0</td>\n",
       "      <td>8.0</td>\n",
       "      <td>1984.0</td>\n",
       "      <td>554000.0</td>\n",
       "      <td>5886.92</td>\n",
       "    </tr>\n",
       "  </tbody>\n",
       "</table>\n",
       "</div>"
      ],
      "text/plain": [
       "   logerror  bathroomcnt  bedroomcnt  calculatedfinishedsquarefeet  roomcnt  \\\n",
       "0    0.0953          2.5         3.0                        1264.0      5.0   \n",
       "1    0.0198          1.0         2.0                         777.0      4.0   \n",
       "2    0.0060          2.0         3.0                        1101.0      5.0   \n",
       "3   -0.0566          1.5         2.0                        1554.0      5.0   \n",
       "4    0.0573          2.5         4.0                        2415.0      8.0   \n",
       "\n",
       "   yearbuilt  taxvaluedollarcnt  taxamount  \n",
       "0     1986.0           191811.0    2015.06  \n",
       "1     1990.0           239679.0    2581.30  \n",
       "2     1956.0            47853.0     591.64  \n",
       "3     1965.0            62914.0     682.78  \n",
       "4     1984.0           554000.0    5886.92  "
      ]
     },
     "execution_count": 11,
     "metadata": {},
     "output_type": "execute_result"
    }
   ],
   "source": [
    "# Too many missing in garagecarcnt, dropping column\n",
    "# fullbathcnt similar to bathroomcnt but need the half bath info, dropping column.\n",
    "\n",
    "zil_trimmed = zil_df.drop(columns=['fullbathcnt', 'garagecarcnt'])\n",
    "zil_trimmed.head()"
   ]
  },
  {
   "cell_type": "code",
   "execution_count": 12,
   "metadata": {},
   "outputs": [],
   "source": [
    "# A few missing square feet, dropping the rows.\n",
    "\n",
    "zil_trimmed = zil_trimmed.dropna(how='any', subset=['calculatedfinishedsquarefeet'])"
   ]
  },
  {
   "cell_type": "code",
   "execution_count": 13,
   "metadata": {},
   "outputs": [
    {
     "data": {
      "text/html": [
       "<div>\n",
       "<style scoped>\n",
       "    .dataframe tbody tr th:only-of-type {\n",
       "        vertical-align: middle;\n",
       "    }\n",
       "\n",
       "    .dataframe tbody tr th {\n",
       "        vertical-align: top;\n",
       "    }\n",
       "\n",
       "    .dataframe thead th {\n",
       "        text-align: right;\n",
       "    }\n",
       "</style>\n",
       "<table border=\"1\" class=\"dataframe\">\n",
       "  <thead>\n",
       "    <tr style=\"text-align: right;\">\n",
       "      <th></th>\n",
       "      <th>logerror</th>\n",
       "      <th>bathroomcnt</th>\n",
       "      <th>bedroomcnt</th>\n",
       "      <th>calculatedfinishedsquarefeet</th>\n",
       "      <th>roomcnt</th>\n",
       "      <th>yearbuilt</th>\n",
       "      <th>taxvaluedollarcnt</th>\n",
       "      <th>taxamount</th>\n",
       "    </tr>\n",
       "  </thead>\n",
       "  <tbody>\n",
       "    <tr>\n",
       "      <th>86423</th>\n",
       "      <td>0.0344</td>\n",
       "      <td>4.0</td>\n",
       "      <td>8.0</td>\n",
       "      <td>3192.0</td>\n",
       "      <td>0.0</td>\n",
       "      <td>NaN</td>\n",
       "      <td>270905.0</td>\n",
       "      <td>6634.59</td>\n",
       "    </tr>\n",
       "    <tr>\n",
       "      <th>87752</th>\n",
       "      <td>0.6233</td>\n",
       "      <td>3.0</td>\n",
       "      <td>3.0</td>\n",
       "      <td>2025.0</td>\n",
       "      <td>0.0</td>\n",
       "      <td>NaN</td>\n",
       "      <td>469190.0</td>\n",
       "      <td>5822.71</td>\n",
       "    </tr>\n",
       "    <tr>\n",
       "      <th>88089</th>\n",
       "      <td>-0.0192</td>\n",
       "      <td>1.0</td>\n",
       "      <td>2.0</td>\n",
       "      <td>1152.0</td>\n",
       "      <td>0.0</td>\n",
       "      <td>NaN</td>\n",
       "      <td>235909.0</td>\n",
       "      <td>3305.07</td>\n",
       "    </tr>\n",
       "    <tr>\n",
       "      <th>88334</th>\n",
       "      <td>0.1856</td>\n",
       "      <td>0.0</td>\n",
       "      <td>0.0</td>\n",
       "      <td>1416.0</td>\n",
       "      <td>0.0</td>\n",
       "      <td>NaN</td>\n",
       "      <td>36452.0</td>\n",
       "      <td>864.04</td>\n",
       "    </tr>\n",
       "    <tr>\n",
       "      <th>89062</th>\n",
       "      <td>0.0000</td>\n",
       "      <td>0.0</td>\n",
       "      <td>0.0</td>\n",
       "      <td>3764.0</td>\n",
       "      <td>0.0</td>\n",
       "      <td>NaN</td>\n",
       "      <td>695876.0</td>\n",
       "      <td>8766.60</td>\n",
       "    </tr>\n",
       "  </tbody>\n",
       "</table>\n",
       "</div>"
      ],
      "text/plain": [
       "       logerror  bathroomcnt  bedroomcnt  calculatedfinishedsquarefeet  \\\n",
       "86423    0.0344          4.0         8.0                        3192.0   \n",
       "87752    0.6233          3.0         3.0                        2025.0   \n",
       "88089   -0.0192          1.0         2.0                        1152.0   \n",
       "88334    0.1856          0.0         0.0                        1416.0   \n",
       "89062    0.0000          0.0         0.0                        3764.0   \n",
       "\n",
       "       roomcnt  yearbuilt  taxvaluedollarcnt  taxamount  \n",
       "86423      0.0        NaN           270905.0    6634.59  \n",
       "87752      0.0        NaN           469190.0    5822.71  \n",
       "88089      0.0        NaN           235909.0    3305.07  \n",
       "88334      0.0        NaN            36452.0     864.04  \n",
       "89062      0.0        NaN           695876.0    8766.60  "
      ]
     },
     "execution_count": 13,
     "metadata": {},
     "output_type": "execute_result"
    }
   ],
   "source": [
    "zil_trimmed.sort_values('yearbuilt').tail()"
   ]
  },
  {
   "cell_type": "code",
   "execution_count": 14,
   "metadata": {},
   "outputs": [
    {
     "data": {
      "text/html": [
       "<div>\n",
       "<style scoped>\n",
       "    .dataframe tbody tr th:only-of-type {\n",
       "        vertical-align: middle;\n",
       "    }\n",
       "\n",
       "    .dataframe tbody tr th {\n",
       "        vertical-align: top;\n",
       "    }\n",
       "\n",
       "    .dataframe thead th {\n",
       "        text-align: right;\n",
       "    }\n",
       "</style>\n",
       "<table border=\"1\" class=\"dataframe\">\n",
       "  <thead>\n",
       "    <tr style=\"text-align: right;\">\n",
       "      <th></th>\n",
       "      <th>logerror</th>\n",
       "      <th>bathroomcnt</th>\n",
       "      <th>bedroomcnt</th>\n",
       "      <th>calculatedfinishedsquarefeet</th>\n",
       "      <th>roomcnt</th>\n",
       "      <th>yearbuilt</th>\n",
       "      <th>taxvaluedollarcnt</th>\n",
       "      <th>taxamount</th>\n",
       "    </tr>\n",
       "  </thead>\n",
       "  <tbody>\n",
       "    <tr>\n",
       "      <th>0</th>\n",
       "      <td>0.0953</td>\n",
       "      <td>2.5</td>\n",
       "      <td>3.0</td>\n",
       "      <td>1264.0</td>\n",
       "      <td>5.0</td>\n",
       "      <td>1986.0</td>\n",
       "      <td>191811.0</td>\n",
       "      <td>2015.06</td>\n",
       "    </tr>\n",
       "    <tr>\n",
       "      <th>1</th>\n",
       "      <td>0.0198</td>\n",
       "      <td>1.0</td>\n",
       "      <td>2.0</td>\n",
       "      <td>777.0</td>\n",
       "      <td>4.0</td>\n",
       "      <td>1990.0</td>\n",
       "      <td>239679.0</td>\n",
       "      <td>2581.30</td>\n",
       "    </tr>\n",
       "    <tr>\n",
       "      <th>2</th>\n",
       "      <td>0.0060</td>\n",
       "      <td>2.0</td>\n",
       "      <td>3.0</td>\n",
       "      <td>1101.0</td>\n",
       "      <td>5.0</td>\n",
       "      <td>1956.0</td>\n",
       "      <td>47853.0</td>\n",
       "      <td>591.64</td>\n",
       "    </tr>\n",
       "    <tr>\n",
       "      <th>3</th>\n",
       "      <td>-0.0566</td>\n",
       "      <td>1.5</td>\n",
       "      <td>2.0</td>\n",
       "      <td>1554.0</td>\n",
       "      <td>5.0</td>\n",
       "      <td>1965.0</td>\n",
       "      <td>62914.0</td>\n",
       "      <td>682.78</td>\n",
       "    </tr>\n",
       "    <tr>\n",
       "      <th>4</th>\n",
       "      <td>0.0573</td>\n",
       "      <td>2.5</td>\n",
       "      <td>4.0</td>\n",
       "      <td>2415.0</td>\n",
       "      <td>8.0</td>\n",
       "      <td>1984.0</td>\n",
       "      <td>554000.0</td>\n",
       "      <td>5886.92</td>\n",
       "    </tr>\n",
       "  </tbody>\n",
       "</table>\n",
       "</div>"
      ],
      "text/plain": [
       "   logerror  bathroomcnt  bedroomcnt  calculatedfinishedsquarefeet  roomcnt  \\\n",
       "0    0.0953          2.5         3.0                        1264.0      5.0   \n",
       "1    0.0198          1.0         2.0                         777.0      4.0   \n",
       "2    0.0060          2.0         3.0                        1101.0      5.0   \n",
       "3   -0.0566          1.5         2.0                        1554.0      5.0   \n",
       "4    0.0573          2.5         4.0                        2415.0      8.0   \n",
       "\n",
       "   yearbuilt  taxvaluedollarcnt  taxamount  \n",
       "0     1986.0           191811.0    2015.06  \n",
       "1     1990.0           239679.0    2581.30  \n",
       "2     1956.0            47853.0     591.64  \n",
       "3     1965.0            62914.0     682.78  \n",
       "4     1984.0           554000.0    5886.92  "
      ]
     },
     "execution_count": 14,
     "metadata": {},
     "output_type": "execute_result"
    }
   ],
   "source": [
    "# Filling in the other NA values with the mean of their column\n",
    "\n",
    "zil_trimmed = zil_trimmed.fillna(zil_trimmed.mean())\n",
    "zil_trimmed.head()"
   ]
  },
  {
   "cell_type": "code",
   "execution_count": 15,
   "metadata": {},
   "outputs": [
    {
     "data": {
      "text/plain": [
       "logerror                        0\n",
       "bathroomcnt                     0\n",
       "bedroomcnt                      0\n",
       "calculatedfinishedsquarefeet    0\n",
       "roomcnt                         0\n",
       "yearbuilt                       0\n",
       "taxvaluedollarcnt               0\n",
       "taxamount                       0\n",
       "dtype: int64"
      ]
     },
     "execution_count": 15,
     "metadata": {},
     "output_type": "execute_result"
    }
   ],
   "source": [
    "zil_trimmed.isnull().sum()"
   ]
  },
  {
   "cell_type": "code",
   "execution_count": 16,
   "metadata": {},
   "outputs": [
    {
     "data": {
      "text/plain": [
       "['logerror',\n",
       " 'bathroomcnt',\n",
       " 'bedroomcnt',\n",
       " 'calculatedfinishedsquarefeet',\n",
       " 'roomcnt',\n",
       " 'yearbuilt',\n",
       " 'taxvaluedollarcnt',\n",
       " 'taxamount']"
      ]
     },
     "execution_count": 16,
     "metadata": {},
     "output_type": "execute_result"
    }
   ],
   "source": [
    "colnames = list(zil_trimmed.columns.values)\n",
    "colnames"
   ]
  },
  {
   "cell_type": "code",
   "execution_count": null,
   "metadata": {},
   "outputs": [],
   "source": []
  },
  {
   "cell_type": "markdown",
   "metadata": {},
   "source": [
    "#### Create a list of the independent variable names (aka attributes) and assign it to `x_vars` \n",
    "Why? During exploration, you will likely use this list to refer to the attribute names."
   ]
  },
  {
   "cell_type": "code",
   "execution_count": 17,
   "metadata": {},
   "outputs": [
    {
     "data": {
      "text/plain": [
       "['bathroomcnt',\n",
       " 'bedroomcnt',\n",
       " 'calculatedfinishedsquarefeet',\n",
       " 'roomcnt',\n",
       " 'yearbuilt',\n",
       " 'taxvaluedollarcnt',\n",
       " 'taxamount']"
      ]
     },
     "execution_count": 17,
     "metadata": {},
     "output_type": "execute_result"
    }
   ],
   "source": [
    "x_vars = zil_trimmed.drop(columns='logerror')\n",
    "x_vars = list(x_vars.columns.values)\n",
    "x_vars\n"
   ]
  },
  {
   "cell_type": "markdown",
   "metadata": {},
   "source": [
    "#### Clearly identify your dependent (target) variable. \n",
    "- What is the name of the variable? \n",
    "- Is it discrete or continuous?"
   ]
  },
  {
   "cell_type": "code",
   "execution_count": 18,
   "metadata": {},
   "outputs": [
    {
     "data": {
      "text/plain": [
       "['logerror']"
      ]
     },
     "execution_count": 18,
     "metadata": {},
     "output_type": "execute_result"
    }
   ],
   "source": [
    "y_var = zil_trimmed[['logerror']]\n",
    "y_var = list(y_var.columns.values)\n",
    "y_var\n"
   ]
  },
  {
   "cell_type": "code",
   "execution_count": 19,
   "metadata": {},
   "outputs": [
    {
     "data": {
      "text/plain": [
       "(89614, 8)"
      ]
     },
     "execution_count": 19,
     "metadata": {},
     "output_type": "execute_result"
    }
   ],
   "source": [
    "df_zillow = zil_trimmed\n",
    "df_zillow.shape"
   ]
  },
  {
   "cell_type": "code",
   "execution_count": null,
   "metadata": {},
   "outputs": [],
   "source": []
  },
  {
   "cell_type": "markdown",
   "metadata": {},
   "source": [
    "#### View the distribution of the numeric variables\n",
    "- plot a histogram and box plot of each variable. \n",
    "- Why? To see the distribution, skewness, outliers, and unit scales. You will use this information in your decision of whether to normalize, standardize or neither."
   ]
  },
  {
   "cell_type": "code",
   "execution_count": 20,
   "metadata": {},
   "outputs": [
    {
     "data": {
      "image/png": "[encoded data removed]",
      "text/plain": [
       "<Figure size 1440x720 with 8 Axes>"
      ]
     },
     "metadata": {
      "needs_background": "light"
     },
     "output_type": "display_data"
    }
   ],
   "source": [
    "plt.figure(figsize=(20, 10))\n",
    "\n",
    "\n",
    "for i, col in enumerate(colnames):\n",
    "    plot_number = i + 1\n",
    "    series = df_zillow[col]\n",
    "    plt.subplot(2,4,plot_number)\n",
    "    plt.title(col)\n",
    "    series.hist(density=False, cumulative=False, log=False)"
   ]
  },
  {
   "cell_type": "code",
   "execution_count": 21,
   "metadata": {},
   "outputs": [
    {
     "data": {
      "image/png": "[encoded data removed]",
      "text/plain": [
       "<Figure size 1440x720 with 8 Axes>"
      ]
     },
     "metadata": {
      "needs_background": "light"
     },
     "output_type": "display_data"
    }
   ],
   "source": [
    "plt.figure(figsize=(20, 10))\n",
    "\n",
    "\n",
    "for i, col in enumerate(colnames):\n",
    "    plot_number = i + 1\n",
    "    series = df_zillow[col]\n",
    "    plt.subplot(2,4,plot_number)\n",
    "    plt.title(col)\n",
    "    sns.boxplot(data=series)"
   ]
  },
  {
   "cell_type": "markdown",
   "metadata": {},
   "source": [
    "#### BONUS:  Data standardization \n",
    "Create a new data frame that is the min-max normalization of the independent variable in the original data frame (+ the original dependent variable). You will normalize each of the numeric independent variables independently, i.e. using the min and max of each variable, not the min/max of the whole dataframe. Why? Regression is very sensitive to difference in units. It will be almost impossible to extract a meaningful linear regression model with such extreme differences in scale. For more context, see: https://medium.com/@rrfd/standardize-or-normalize-examples-in-python-e3f174b65dfc\n",
    "You will use this dataframe in the future analysis."
   ]
  },
  {
   "cell_type": "code",
   "execution_count": 22,
   "metadata": {
    "scrolled": true
   },
   "outputs": [
    {
     "data": {
      "text/html": [
       "<div>\n",
       "<style scoped>\n",
       "    .dataframe tbody tr th:only-of-type {\n",
       "        vertical-align: middle;\n",
       "    }\n",
       "\n",
       "    .dataframe tbody tr th {\n",
       "        vertical-align: top;\n",
       "    }\n",
       "\n",
       "    .dataframe thead th {\n",
       "        text-align: right;\n",
       "    }\n",
       "</style>\n",
       "<table border=\"1\" class=\"dataframe\">\n",
       "  <thead>\n",
       "    <tr style=\"text-align: right;\">\n",
       "      <th></th>\n",
       "      <th>0</th>\n",
       "      <th>1</th>\n",
       "      <th>2</th>\n",
       "      <th>3</th>\n",
       "      <th>4</th>\n",
       "      <th>5</th>\n",
       "      <th>6</th>\n",
       "      <th>7</th>\n",
       "    </tr>\n",
       "  </thead>\n",
       "  <tbody>\n",
       "    <tr>\n",
       "      <th>0</th>\n",
       "      <td>0.503136</td>\n",
       "      <td>0.125</td>\n",
       "      <td>0.1875</td>\n",
       "      <td>0.055499</td>\n",
       "      <td>0.277778</td>\n",
       "      <td>0.776923</td>\n",
       "      <td>0.006911</td>\n",
       "      <td>0.006108</td>\n",
       "    </tr>\n",
       "    <tr>\n",
       "      <th>1</th>\n",
       "      <td>0.495055</td>\n",
       "      <td>0.050</td>\n",
       "      <td>0.1250</td>\n",
       "      <td>0.034082</td>\n",
       "      <td>0.222222</td>\n",
       "      <td>0.807692</td>\n",
       "      <td>0.008636</td>\n",
       "      <td>0.007867</td>\n",
       "    </tr>\n",
       "    <tr>\n",
       "      <th>2</th>\n",
       "      <td>0.493577</td>\n",
       "      <td>0.100</td>\n",
       "      <td>0.1875</td>\n",
       "      <td>0.048331</td>\n",
       "      <td>0.277778</td>\n",
       "      <td>0.546154</td>\n",
       "      <td>0.001724</td>\n",
       "      <td>0.001686</td>\n",
       "    </tr>\n",
       "    <tr>\n",
       "      <th>3</th>\n",
       "      <td>0.486876</td>\n",
       "      <td>0.075</td>\n",
       "      <td>0.1250</td>\n",
       "      <td>0.068253</td>\n",
       "      <td>0.277778</td>\n",
       "      <td>0.615385</td>\n",
       "      <td>0.002266</td>\n",
       "      <td>0.001969</td>\n",
       "    </tr>\n",
       "    <tr>\n",
       "      <th>4</th>\n",
       "      <td>0.499069</td>\n",
       "      <td>0.125</td>\n",
       "      <td>0.2500</td>\n",
       "      <td>0.106117</td>\n",
       "      <td>0.444444</td>\n",
       "      <td>0.761538</td>\n",
       "      <td>0.019963</td>\n",
       "      <td>0.018136</td>\n",
       "    </tr>\n",
       "  </tbody>\n",
       "</table>\n",
       "</div>"
      ],
      "text/plain": [
       "          0      1       2         3         4         5         6         7\n",
       "0  0.503136  0.125  0.1875  0.055499  0.277778  0.776923  0.006911  0.006108\n",
       "1  0.495055  0.050  0.1250  0.034082  0.222222  0.807692  0.008636  0.007867\n",
       "2  0.493577  0.100  0.1875  0.048331  0.277778  0.546154  0.001724  0.001686\n",
       "3  0.486876  0.075  0.1250  0.068253  0.277778  0.615385  0.002266  0.001969\n",
       "4  0.499069  0.125  0.2500  0.106117  0.444444  0.761538  0.019963  0.018136"
      ]
     },
     "execution_count": 22,
     "metadata": {},
     "output_type": "execute_result"
    }
   ],
   "source": [
    "data = df_zillow\n",
    "scaler = MinMaxScaler()\n",
    "scaler.fit(data)\n",
    "zil_xform = scaler.transform(data)\n",
    "zil_xform_df = pd.DataFrame(zil_xform)\n",
    "zil_xform_df.head()"
   ]
  },
  {
   "cell_type": "code",
   "execution_count": 23,
   "metadata": {},
   "outputs": [
    {
     "data": {
      "text/html": [
       "<div>\n",
       "<style scoped>\n",
       "    .dataframe tbody tr th:only-of-type {\n",
       "        vertical-align: middle;\n",
       "    }\n",
       "\n",
       "    .dataframe tbody tr th {\n",
       "        vertical-align: top;\n",
       "    }\n",
       "\n",
       "    .dataframe thead th {\n",
       "        text-align: right;\n",
       "    }\n",
       "</style>\n",
       "<table border=\"1\" class=\"dataframe\">\n",
       "  <thead>\n",
       "    <tr style=\"text-align: right;\">\n",
       "      <th></th>\n",
       "      <th>logerror</th>\n",
       "      <th>bathroomcnt</th>\n",
       "      <th>bedroomcnt</th>\n",
       "      <th>calculatedfinishedsquarefeet</th>\n",
       "      <th>roomcnt</th>\n",
       "      <th>yearbuilt</th>\n",
       "      <th>taxvaluedollarcnt</th>\n",
       "      <th>taxamount</th>\n",
       "    </tr>\n",
       "  </thead>\n",
       "  <tbody>\n",
       "    <tr>\n",
       "      <th>0</th>\n",
       "      <td>0.503136</td>\n",
       "      <td>0.125</td>\n",
       "      <td>0.1875</td>\n",
       "      <td>0.055499</td>\n",
       "      <td>0.277778</td>\n",
       "      <td>0.776923</td>\n",
       "      <td>0.006911</td>\n",
       "      <td>0.006108</td>\n",
       "    </tr>\n",
       "    <tr>\n",
       "      <th>1</th>\n",
       "      <td>0.495055</td>\n",
       "      <td>0.050</td>\n",
       "      <td>0.1250</td>\n",
       "      <td>0.034082</td>\n",
       "      <td>0.222222</td>\n",
       "      <td>0.807692</td>\n",
       "      <td>0.008636</td>\n",
       "      <td>0.007867</td>\n",
       "    </tr>\n",
       "    <tr>\n",
       "      <th>2</th>\n",
       "      <td>0.493577</td>\n",
       "      <td>0.100</td>\n",
       "      <td>0.1875</td>\n",
       "      <td>0.048331</td>\n",
       "      <td>0.277778</td>\n",
       "      <td>0.546154</td>\n",
       "      <td>0.001724</td>\n",
       "      <td>0.001686</td>\n",
       "    </tr>\n",
       "    <tr>\n",
       "      <th>3</th>\n",
       "      <td>0.486876</td>\n",
       "      <td>0.075</td>\n",
       "      <td>0.1250</td>\n",
       "      <td>0.068253</td>\n",
       "      <td>0.277778</td>\n",
       "      <td>0.615385</td>\n",
       "      <td>0.002266</td>\n",
       "      <td>0.001969</td>\n",
       "    </tr>\n",
       "    <tr>\n",
       "      <th>4</th>\n",
       "      <td>0.499069</td>\n",
       "      <td>0.125</td>\n",
       "      <td>0.2500</td>\n",
       "      <td>0.106117</td>\n",
       "      <td>0.444444</td>\n",
       "      <td>0.761538</td>\n",
       "      <td>0.019963</td>\n",
       "      <td>0.018136</td>\n",
       "    </tr>\n",
       "  </tbody>\n",
       "</table>\n",
       "</div>"
      ],
      "text/plain": [
       "   logerror  bathroomcnt  bedroomcnt  calculatedfinishedsquarefeet   roomcnt  \\\n",
       "0  0.503136        0.125      0.1875                      0.055499  0.277778   \n",
       "1  0.495055        0.050      0.1250                      0.034082  0.222222   \n",
       "2  0.493577        0.100      0.1875                      0.048331  0.277778   \n",
       "3  0.486876        0.075      0.1250                      0.068253  0.277778   \n",
       "4  0.499069        0.125      0.2500                      0.106117  0.444444   \n",
       "\n",
       "   yearbuilt  taxvaluedollarcnt  taxamount  \n",
       "0   0.776923           0.006911   0.006108  \n",
       "1   0.807692           0.008636   0.007867  \n",
       "2   0.546154           0.001724   0.001686  \n",
       "3   0.615385           0.002266   0.001969  \n",
       "4   0.761538           0.019963   0.018136  "
      ]
     },
     "execution_count": 23,
     "metadata": {},
     "output_type": "execute_result"
    }
   ],
   "source": [
    "zil_xform_df= zil_xform_df.rename(columns={0: 'logerror',\n",
    "                                           1: 'bathroomcnt',\n",
    "                                           2: 'bedroomcnt',\n",
    "                                           3: 'calculatedfinishedsquarefeet',\n",
    "                                           4: 'roomcnt',\n",
    "                                           5: 'yearbuilt',\n",
    "                                           6: 'taxvaluedollarcnt',\n",
    "                                           7: 'taxamount'})\n",
    "                         \n",
    "zil_xform_df.head()"
   ]
  },
  {
   "cell_type": "code",
   "execution_count": null,
   "metadata": {},
   "outputs": [],
   "source": []
  },
  {
   "cell_type": "code",
   "execution_count": null,
   "metadata": {},
   "outputs": [],
   "source": []
  },
  {
   "cell_type": "code",
   "execution_count": null,
   "metadata": {},
   "outputs": [],
   "source": []
  },
  {
   "cell_type": "markdown",
   "metadata": {},
   "source": [
    "### Data Exploration\n",
    "\n",
    "Goal is to address each of the questions you posed in your planning & brainstorming through visual or statistical analysis.\n",
    "\n",
    "When you have completed this step, you will have the findings from your analysis that will be used in your final report, the answers to your questions and your customer's questions that will reach the goal. "
   ]
  },
  {
   "cell_type": "code",
   "execution_count": null,
   "metadata": {},
   "outputs": [],
   "source": []
  },
  {
   "cell_type": "markdown",
   "metadata": {},
   "source": [
    "#### Split data into training and test datasets"
   ]
  },
  {
   "cell_type": "code",
   "execution_count": 24,
   "metadata": {},
   "outputs": [],
   "source": [
    "X = df_zillow[x_vars]\n",
    "y = df_zillow[y_var]\n",
    "\n",
    "X_train, X_test, y_train, y_test = train_test_split(X, y, train_size=.8, random_state=0)\n",
    "\n",
    "train = pd.concat([X_train, y_train], axis=1)\n",
    "test = pd.concat([X_test, y_test], axis=1)"
   ]
  },
  {
   "cell_type": "code",
   "execution_count": 25,
   "metadata": {},
   "outputs": [],
   "source": [
    "X_xform = zil_xform_df[x_vars]\n",
    "y_xform = zil_xform_df[y_var]\n",
    "\n",
    "X_train_xform, X_test_xform, y_train_xform, y_test_xform = train_test_split(X_xform, y_xform, train_size=.8, random_state=0)\n",
    "\n",
    "train_xform = pd.concat([X_train_xform, y_train_xform], axis=1)\n",
    "test_xform = pd.concat([X_test_xform, y_test_xform], axis=1)"
   ]
  },
  {
   "cell_type": "code",
   "execution_count": null,
   "metadata": {},
   "outputs": [],
   "source": []
  },
  {
   "cell_type": "code",
   "execution_count": null,
   "metadata": {},
   "outputs": [],
   "source": []
  },
  {
   "cell_type": "code",
   "execution_count": null,
   "metadata": {},
   "outputs": [],
   "source": []
  },
  {
   "cell_type": "code",
   "execution_count": null,
   "metadata": {},
   "outputs": [],
   "source": []
  },
  {
   "cell_type": "code",
   "execution_count": null,
   "metadata": {},
   "outputs": [],
   "source": []
  },
  {
   "cell_type": "markdown",
   "metadata": {},
   "source": [
    "#### Create a jointplot for each independent variable (normalized version) with the dependent variable. \n",
    "\n",
    "Be sure you have Pearson's r and p-value annotated on each plot."
   ]
  },
  {
   "cell_type": "code",
   "execution_count": 26,
   "metadata": {},
   "outputs": [],
   "source": [
    "# for i, col in enumerate(colnames):\n",
    "#     with sns.axes_style('white'):\n",
    "#         plot_number = i + 1\n",
    "#         series = df_zillow[col]\n",
    "#         j = sns.jointplot(series, 'logerror', data=df_zillow, kind='reg', height=5)\n",
    "#         j.annotate(stats.pearsonr)"
   ]
  },
  {
   "cell_type": "code",
   "execution_count": 27,
   "metadata": {},
   "outputs": [],
   "source": [
    "# for i, col in enumerate(colnames):\n",
    "#     with sns.axes_style('white'):\n",
    "#         plot_number = i + 1\n",
    "#         series = zil_xform_df[col]\n",
    "#         j = sns.jointplot(series, 'logerror', data=zil_xform_df, kind='reg', height=5)\n",
    "#         j.annotate(stats.pearsonr)"
   ]
  },
  {
   "cell_type": "markdown",
   "metadata": {},
   "source": [
    "#### Create a feature plot using seaborn's PairGrid() of the interaction between each variable (dependent + independent). \n",
    "\n",
    "You may want to use a normalized dataframe (if you did that) or adjust the axis scale (set to logarithmic, e.g) so you can more clearly view the interactions."
   ]
  },
  {
   "cell_type": "code",
   "execution_count": 28,
   "metadata": {},
   "outputs": [],
   "source": [
    "# g = sns.PairGrid(train)\n",
    "# g.map_diag(plt.hist)\n",
    "# g.map_offdiag(plt.scatter)"
   ]
  },
  {
   "cell_type": "code",
   "execution_count": 29,
   "metadata": {},
   "outputs": [],
   "source": [
    "# g = sns.PairGrid(train_xform)\n",
    "# g.map_diag(plt.hist)\n",
    "# g.map_offdiag(plt.scatter)"
   ]
  },
  {
   "cell_type": "markdown",
   "metadata": {},
   "source": [
    "#### Create a heatmap of the correlation between each variable pair."
   ]
  },
  {
   "cell_type": "code",
   "execution_count": 30,
   "metadata": {},
   "outputs": [],
   "source": [
    "# plt.figure(figsize=(10, 10))\n",
    "\n",
    "\n",
    "# sns.heatmap(train.corr(), cmap='Greens', annot=True)\n"
   ]
  },
  {
   "cell_type": "code",
   "execution_count": 31,
   "metadata": {},
   "outputs": [],
   "source": [
    "# plt.figure(figsize=(10, 10))\n",
    "\n",
    "\n",
    "# sns.heatmap(train_xform.corr(), cmap='Greens', annot=True)"
   ]
  },
  {
   "cell_type": "markdown",
   "metadata": {},
   "source": [
    "#### Summarize your conclusions from all of these steps.  "
   ]
  },
  {
   "cell_type": "code",
   "execution_count": null,
   "metadata": {},
   "outputs": [],
   "source": []
  },
  {
   "cell_type": "markdown",
   "metadata": {},
   "source": [
    "#### Is the logerror significantly different for homes with 3 bedrooms vs those with 5 or more bedrooms? \n",
    "Run a t-test to test this difference."
   ]
  },
  {
   "cell_type": "code",
   "execution_count": 32,
   "metadata": {},
   "outputs": [
    {
     "data": {
      "text/plain": [
       "Ttest_indResult(statistic=2.3956162209732113, pvalue=0.016604582243793)"
      ]
     },
     "execution_count": 32,
     "metadata": {},
     "output_type": "execute_result"
    }
   ],
   "source": [
    "bed3 = train[train.roomcnt == 3].logerror\n",
    "bed5 = train[train.roomcnt >= 5].logerror\n",
    "\n",
    "stats.ttest_ind(bed3, bed5)"
   ]
  },
  {
   "cell_type": "markdown",
   "metadata": {},
   "source": [
    "#### Do the same for another 2 samples you are interested in comparing (e.g. those with 1 bath vs. x baths)"
   ]
  },
  {
   "cell_type": "code",
   "execution_count": 33,
   "metadata": {},
   "outputs": [
    {
     "data": {
      "text/plain": [
       "Ttest_indResult(statistic=-6.921235752194948, pvalue=4.514657004305081e-12)"
      ]
     },
     "execution_count": 33,
     "metadata": {},
     "output_type": "execute_result"
    }
   ],
   "source": [
    "# sqft\n",
    "\n",
    "mean_sqft = train.calculatedfinishedsquarefeet.mean()\n",
    "small_sqft = train[train.calculatedfinishedsquarefeet < mean_sqft].logerror\n",
    "large_sqft = train[train.calculatedfinishedsquarefeet > mean_sqft].logerror\n",
    "\n",
    "stats.ttest_ind(small_sqft, large_sqft)\n"
   ]
  },
  {
   "cell_type": "code",
   "execution_count": 34,
   "metadata": {},
   "outputs": [
    {
     "data": {
      "text/plain": [
       "Ttest_indResult(statistic=2.0741313607989444, pvalue=0.03807067345188472)"
      ]
     },
     "execution_count": 34,
     "metadata": {},
     "output_type": "execute_result"
    }
   ],
   "source": [
    "# year built, old is 50+\n",
    "\n",
    "new = train[train.yearbuilt > 1969].logerror\n",
    "old = train[train.yearbuilt <= 1969].logerror\n",
    "\n",
    "stats.ttest_ind(new, old)\n"
   ]
  },
  {
   "cell_type": "code",
   "execution_count": null,
   "metadata": {},
   "outputs": [],
   "source": []
  },
  {
   "cell_type": "code",
   "execution_count": null,
   "metadata": {},
   "outputs": [],
   "source": []
  },
  {
   "cell_type": "markdown",
   "metadata": {},
   "source": [
    "### Data Modeling"
   ]
  },
  {
   "cell_type": "markdown",
   "metadata": {},
   "source": [
    "#### Feature Engineering & Selection\n",
    "\n",
    "#### Are there new features you could create based on existing features that might be helpful? \n",
    "\n",
    "Come up with at least one possible new feature that is a calculation from 2+ existing variables. \n",
    "\n",
    "#### Use statsmodels ordinary least squares to assess the importance of each feature with respect to the target\n",
    "\n",
    "#### Summarize your conclusions and next steps from your analysis in above. \n",
    "What will you try when developing your model? (which features to use/not use/etc)\n",
    "\n",
    "#### Train & Test Model\n",
    "\n",
    "#### Fit, predict (in-sample) & evaluate multiple linear regression models to find the best one.\n",
    "\n",
    "- Make any changes as necessary to improve your model.\n",
    "\n",
    "- Identify the best model after all training\n",
    "\n",
    "- Compare the models by plotting the predictions of each model with actual values (see plot right above section 12 in 'Regression in Python' lesson\n",
    "\n",
    "(the predictions are a 1 x 83 two dimensional matrix, but we want just a single array of predictions. We can use the .ravel method to achieve this.)\n",
    "\n",
    "`pd.DataFrame({'actual': y_train.final_grade,  \n",
    "              'lm1': y_pred_lm1.ravel(),  \n",
    "              'lm2': y_pred_lm2.ravel()})\\  \n",
    "    .melt(id_vars=['actual'], var_name='model', value_name='prediction')\\  \n",
    "    .pipe((sns.relplot, 'data'), x='actual', y='prediction', hue='model')  \n",
    "\n",
    "plt.plot([60, 100], [60, 100], c='black', ls=':')  \n",
    "plt.ylim(60, 100)  \n",
    "plt.xlim(60, 100)  \n",
    "plt.title('Predicted vs Actual Final Grade')`  \n",
    "\n",
    "#### Predict & evaluate on out-of-sample data (test)    \n",
    "\n",
    "- Plot the residuals from your out-of-sample predictions.\n",
    "\n",
    "- Summarize your expectations about how you estimate this model will perform in production."
   ]
  },
  {
   "cell_type": "code",
   "execution_count": null,
   "metadata": {},
   "outputs": [],
   "source": []
  },
  {
   "cell_type": "code",
   "execution_count": 35,
   "metadata": {},
   "outputs": [
    {
     "data": {
      "text/plain": [
       "['logerror',\n",
       " 'bathroomcnt',\n",
       " 'bedroomcnt',\n",
       " 'calculatedfinishedsquarefeet',\n",
       " 'roomcnt',\n",
       " 'yearbuilt',\n",
       " 'taxvaluedollarcnt',\n",
       " 'taxamount']"
      ]
     },
     "execution_count": 35,
     "metadata": {},
     "output_type": "execute_result"
    }
   ],
   "source": [
    "colnames"
   ]
  },
  {
   "cell_type": "code",
   "execution_count": 36,
   "metadata": {},
   "outputs": [],
   "source": [
    "# Are there new features you could create based on existing features that might be helpful?\n",
    "# Come up with at least one possible new feature that is a calculation from 2+ existing variables.\n",
    "\n",
    "# assessed value per sqft\n",
    "\n",
    "tax_per_sqft = train.taxvaluedollarcnt / train.calculatedfinishedsquarefeet\n"
   ]
  },
  {
   "cell_type": "code",
   "execution_count": 37,
   "metadata": {},
   "outputs": [],
   "source": [
    "# Use statsmodels ordinary least squares to assess the importance of each feature with respect to the target\n",
    "#  Non-standardized\n",
    "\n",
    "# ols_model = sm.OLS(y_train, X_train)\n",
    "# fit = ols_model.fit()\n",
    "# fit.summary()"
   ]
  },
  {
   "cell_type": "code",
   "execution_count": 38,
   "metadata": {},
   "outputs": [
    {
     "data": {
      "text/html": [
       "<table class=\"simpletable\">\n",
       "<caption>OLS Regression Results</caption>\n",
       "<tr>\n",
       "  <th>Dep. Variable:</th>        <td>logerror</td>     <th>  R-squared:         </th>  <td>   0.951</td> \n",
       "</tr>\n",
       "<tr>\n",
       "  <th>Model:</th>                   <td>OLS</td>       <th>  Adj. R-squared:    </th>  <td>   0.951</td> \n",
       "</tr>\n",
       "<tr>\n",
       "  <th>Method:</th>             <td>Least Squares</td>  <th>  F-statistic:       </th>  <td>1.986e+05</td>\n",
       "</tr>\n",
       "<tr>\n",
       "  <th>Date:</th>             <td>Fri, 22 Mar 2019</td> <th>  Prob (F-statistic):</th>   <td>  0.00</td>  \n",
       "</tr>\n",
       "<tr>\n",
       "  <th>Time:</th>                 <td>10:43:44</td>     <th>  Log-Likelihood:    </th>  <td>  56854.</td> \n",
       "</tr>\n",
       "<tr>\n",
       "  <th>No. Observations:</th>      <td> 71691</td>      <th>  AIC:               </th> <td>-1.137e+05</td>\n",
       "</tr>\n",
       "<tr>\n",
       "  <th>Df Residuals:</th>          <td> 71684</td>      <th>  BIC:               </th> <td>-1.136e+05</td>\n",
       "</tr>\n",
       "<tr>\n",
       "  <th>Df Model:</th>              <td>     7</td>      <th>                     </th>      <td> </td>    \n",
       "</tr>\n",
       "<tr>\n",
       "  <th>Covariance Type:</th>      <td>nonrobust</td>    <th>                     </th>      <td> </td>    \n",
       "</tr>\n",
       "</table>\n",
       "<table class=\"simpletable\">\n",
       "<tr>\n",
       "                <td></td>                  <th>coef</th>     <th>std err</th>      <th>t</th>      <th>P>|t|</th>  <th>[0.025</th>    <th>0.975]</th>  \n",
       "</tr>\n",
       "<tr>\n",
       "  <th>bathroomcnt</th>                  <td>   -0.5116</td> <td>    0.015</td> <td>  -34.529</td> <td> 0.000</td> <td>   -0.541</td> <td>   -0.483</td>\n",
       "</tr>\n",
       "<tr>\n",
       "  <th>bedroomcnt</th>                   <td>    1.1307</td> <td>    0.007</td> <td>  157.240</td> <td> 0.000</td> <td>    1.117</td> <td>    1.145</td>\n",
       "</tr>\n",
       "<tr>\n",
       "  <th>calculatedfinishedsquarefeet</th> <td>   -0.1393</td> <td>    0.018</td> <td>   -7.567</td> <td> 0.000</td> <td>   -0.175</td> <td>   -0.103</td>\n",
       "</tr>\n",
       "<tr>\n",
       "  <th>roomcnt</th>                      <td>   -0.0313</td> <td>    0.003</td> <td>  -11.593</td> <td> 0.000</td> <td>   -0.037</td> <td>   -0.026</td>\n",
       "</tr>\n",
       "<tr>\n",
       "  <th>yearbuilt</th>                    <td>    0.5015</td> <td>    0.002</td> <td>  300.779</td> <td> 0.000</td> <td>    0.498</td> <td>    0.505</td>\n",
       "</tr>\n",
       "<tr>\n",
       "  <th>taxvaluedollarcnt</th>            <td>   -1.0729</td> <td>    0.067</td> <td>  -16.033</td> <td> 0.000</td> <td>   -1.204</td> <td>   -0.942</td>\n",
       "</tr>\n",
       "<tr>\n",
       "  <th>taxamount</th>                    <td>    1.2145</td> <td>    0.062</td> <td>   19.584</td> <td> 0.000</td> <td>    1.093</td> <td>    1.336</td>\n",
       "</tr>\n",
       "</table>\n",
       "<table class=\"simpletable\">\n",
       "<tr>\n",
       "  <th>Omnibus:</th>       <td>919.379</td> <th>  Durbin-Watson:     </th> <td>   1.906</td>\n",
       "</tr>\n",
       "<tr>\n",
       "  <th>Prob(Omnibus):</th> <td> 0.000</td>  <th>  Jarque-Bera (JB):  </th> <td>1668.751</td>\n",
       "</tr>\n",
       "<tr>\n",
       "  <th>Skew:</th>          <td> 0.037</td>  <th>  Prob(JB):          </th> <td>    0.00</td>\n",
       "</tr>\n",
       "<tr>\n",
       "  <th>Kurtosis:</th>      <td> 3.744</td>  <th>  Cond. No.          </th> <td>    156.</td>\n",
       "</tr>\n",
       "</table><br/><br/>Warnings:<br/>[1] Standard Errors assume that the covariance matrix of the errors is correctly specified."
      ],
      "text/plain": [
       "<class 'statsmodels.iolib.summary.Summary'>\n",
       "\"\"\"\n",
       "                            OLS Regression Results                            \n",
       "==============================================================================\n",
       "Dep. Variable:               logerror   R-squared:                       0.951\n",
       "Model:                            OLS   Adj. R-squared:                  0.951\n",
       "Method:                 Least Squares   F-statistic:                 1.986e+05\n",
       "Date:                Fri, 22 Mar 2019   Prob (F-statistic):               0.00\n",
       "Time:                        10:43:44   Log-Likelihood:                 56854.\n",
       "No. Observations:               71691   AIC:                        -1.137e+05\n",
       "Df Residuals:                   71684   BIC:                        -1.136e+05\n",
       "Df Model:                           7                                         \n",
       "Covariance Type:            nonrobust                                         \n",
       "================================================================================================\n",
       "                                   coef    std err          t      P>|t|      [0.025      0.975]\n",
       "------------------------------------------------------------------------------------------------\n",
       "bathroomcnt                     -0.5116      0.015    -34.529      0.000      -0.541      -0.483\n",
       "bedroomcnt                       1.1307      0.007    157.240      0.000       1.117       1.145\n",
       "calculatedfinishedsquarefeet    -0.1393      0.018     -7.567      0.000      -0.175      -0.103\n",
       "roomcnt                         -0.0313      0.003    -11.593      0.000      -0.037      -0.026\n",
       "yearbuilt                        0.5015      0.002    300.779      0.000       0.498       0.505\n",
       "taxvaluedollarcnt               -1.0729      0.067    -16.033      0.000      -1.204      -0.942\n",
       "taxamount                        1.2145      0.062     19.584      0.000       1.093       1.336\n",
       "==============================================================================\n",
       "Omnibus:                      919.379   Durbin-Watson:                   1.906\n",
       "Prob(Omnibus):                  0.000   Jarque-Bera (JB):             1668.751\n",
       "Skew:                           0.037   Prob(JB):                         0.00\n",
       "Kurtosis:                       3.744   Cond. No.                         156.\n",
       "==============================================================================\n",
       "\n",
       "Warnings:\n",
       "[1] Standard Errors assume that the covariance matrix of the errors is correctly specified.\n",
       "\"\"\""
      ]
     },
     "execution_count": 38,
     "metadata": {},
     "output_type": "execute_result"
    }
   ],
   "source": [
    "# OLS with min-max stand\n",
    "\n",
    "ols_model = sm.OLS(y_train_xform, X_train_xform)\n",
    "fit = ols_model.fit()\n",
    "fit.summary()"
   ]
  },
  {
   "cell_type": "code",
   "execution_count": null,
   "metadata": {},
   "outputs": [],
   "source": []
  },
  {
   "cell_type": "code",
   "execution_count": 39,
   "metadata": {},
   "outputs": [],
   "source": [
    "\n",
    "\n",
    "X_train_xform2 = X_train_xform\n",
    "tpsqft = X_train_xform2.taxamount / X_train_xform2.calculatedfinishedsquarefeet\n",
    "tpsqft_df = pd.DataFrame(tpsqft)\n",
    "X_train_xform2 = X_train_xform2.join(tpsqft_df)\n",
    "X_train_xform2 = X_train_xform2.rename(columns={0: 'pricepersqft'})"
   ]
  },
  {
   "cell_type": "code",
   "execution_count": 59,
   "metadata": {},
   "outputs": [],
   "source": [
    "X_train_xform3 = X_train_xform2.drop(['calculatedfinishedsquarefeet', 'taxamount'], axis=1)\n",
    "X_train_xform3.drop(index= 80827, inplace=True)\n",
    "X_train_xform3.sort_values('pricepersqft')\n",
    "y_train_xform.drop(index= 80827, inplace=True)"
   ]
  },
  {
   "cell_type": "code",
   "execution_count": 60,
   "metadata": {},
   "outputs": [
    {
     "data": {
      "text/html": [
       "<table class=\"simpletable\">\n",
       "<caption>OLS Regression Results</caption>\n",
       "<tr>\n",
       "  <th>Dep. Variable:</th>        <td>logerror</td>     <th>  R-squared:         </th>  <td>   0.962</td> \n",
       "</tr>\n",
       "<tr>\n",
       "  <th>Model:</th>                   <td>OLS</td>       <th>  Adj. R-squared:    </th>  <td>   0.962</td> \n",
       "</tr>\n",
       "<tr>\n",
       "  <th>Method:</th>             <td>Least Squares</td>  <th>  F-statistic:       </th>  <td>3.001e+05</td>\n",
       "</tr>\n",
       "<tr>\n",
       "  <th>Date:</th>             <td>Fri, 22 Mar 2019</td> <th>  Prob (F-statistic):</th>   <td>  0.00</td>  \n",
       "</tr>\n",
       "<tr>\n",
       "  <th>Time:</th>                 <td>10:53:07</td>     <th>  Log-Likelihood:    </th>  <td>  65717.</td> \n",
       "</tr>\n",
       "<tr>\n",
       "  <th>No. Observations:</th>      <td> 71690</td>      <th>  AIC:               </th> <td>-1.314e+05</td>\n",
       "</tr>\n",
       "<tr>\n",
       "  <th>Df Residuals:</th>          <td> 71684</td>      <th>  BIC:               </th> <td>-1.314e+05</td>\n",
       "</tr>\n",
       "<tr>\n",
       "  <th>Df Model:</th>              <td>     6</td>      <th>                     </th>      <td> </td>    \n",
       "</tr>\n",
       "<tr>\n",
       "  <th>Covariance Type:</th>      <td>nonrobust</td>    <th>                     </th>      <td> </td>    \n",
       "</tr>\n",
       "</table>\n",
       "<table class=\"simpletable\">\n",
       "<tr>\n",
       "          <td></td>             <th>coef</th>     <th>std err</th>      <th>t</th>      <th>P>|t|</th>  <th>[0.025</th>    <th>0.975]</th>  \n",
       "</tr>\n",
       "<tr>\n",
       "  <th>bathroomcnt</th>       <td>   -0.1845</td> <td>    0.012</td> <td>  -15.608</td> <td> 0.000</td> <td>   -0.208</td> <td>   -0.161</td>\n",
       "</tr>\n",
       "<tr>\n",
       "  <th>bedroomcnt</th>        <td>    1.0054</td> <td>    0.006</td> <td>  168.483</td> <td> 0.000</td> <td>    0.994</td> <td>    1.017</td>\n",
       "</tr>\n",
       "<tr>\n",
       "  <th>roomcnt</th>           <td>    0.0020</td> <td>    0.002</td> <td>    0.855</td> <td> 0.392</td> <td>   -0.003</td> <td>    0.007</td>\n",
       "</tr>\n",
       "<tr>\n",
       "  <th>yearbuilt</th>         <td>    0.3957</td> <td>    0.002</td> <td>  240.373</td> <td> 0.000</td> <td>    0.392</td> <td>    0.399</td>\n",
       "</tr>\n",
       "<tr>\n",
       "  <th>taxvaluedollarcnt</th> <td>   -2.2153</td> <td>    0.026</td> <td>  -84.461</td> <td> 0.000</td> <td>   -2.267</td> <td>   -2.164</td>\n",
       "</tr>\n",
       "<tr>\n",
       "  <th>pricepersqft</th>      <td>    0.3725</td> <td>    0.003</td> <td>  143.713</td> <td> 0.000</td> <td>    0.367</td> <td>    0.378</td>\n",
       "</tr>\n",
       "</table>\n",
       "<table class=\"simpletable\">\n",
       "<tr>\n",
       "  <th>Omnibus:</th>       <td>10233.530</td> <th>  Durbin-Watson:     </th>  <td>   1.923</td> \n",
       "</tr>\n",
       "<tr>\n",
       "  <th>Prob(Omnibus):</th>  <td> 0.000</td>   <th>  Jarque-Bera (JB):  </th> <td>146174.163</td>\n",
       "</tr>\n",
       "<tr>\n",
       "  <th>Skew:</th>           <td>-0.144</td>   <th>  Prob(JB):          </th>  <td>    0.00</td> \n",
       "</tr>\n",
       "<tr>\n",
       "  <th>Kurtosis:</th>       <td> 9.989</td>   <th>  Cond. No.          </th>  <td>    55.6</td> \n",
       "</tr>\n",
       "</table><br/><br/>Warnings:<br/>[1] Standard Errors assume that the covariance matrix of the errors is correctly specified."
      ],
      "text/plain": [
       "<class 'statsmodels.iolib.summary.Summary'>\n",
       "\"\"\"\n",
       "                            OLS Regression Results                            \n",
       "==============================================================================\n",
       "Dep. Variable:               logerror   R-squared:                       0.962\n",
       "Model:                            OLS   Adj. R-squared:                  0.962\n",
       "Method:                 Least Squares   F-statistic:                 3.001e+05\n",
       "Date:                Fri, 22 Mar 2019   Prob (F-statistic):               0.00\n",
       "Time:                        10:53:07   Log-Likelihood:                 65717.\n",
       "No. Observations:               71690   AIC:                        -1.314e+05\n",
       "Df Residuals:                   71684   BIC:                        -1.314e+05\n",
       "Df Model:                           6                                         \n",
       "Covariance Type:            nonrobust                                         \n",
       "=====================================================================================\n",
       "                        coef    std err          t      P>|t|      [0.025      0.975]\n",
       "-------------------------------------------------------------------------------------\n",
       "bathroomcnt          -0.1845      0.012    -15.608      0.000      -0.208      -0.161\n",
       "bedroomcnt            1.0054      0.006    168.483      0.000       0.994       1.017\n",
       "roomcnt               0.0020      0.002      0.855      0.392      -0.003       0.007\n",
       "yearbuilt             0.3957      0.002    240.373      0.000       0.392       0.399\n",
       "taxvaluedollarcnt    -2.2153      0.026    -84.461      0.000      -2.267      -2.164\n",
       "pricepersqft          0.3725      0.003    143.713      0.000       0.367       0.378\n",
       "==============================================================================\n",
       "Omnibus:                    10233.530   Durbin-Watson:                   1.923\n",
       "Prob(Omnibus):                  0.000   Jarque-Bera (JB):           146174.163\n",
       "Skew:                          -0.144   Prob(JB):                         0.00\n",
       "Kurtosis:                       9.989   Cond. No.                         55.6\n",
       "==============================================================================\n",
       "\n",
       "Warnings:\n",
       "[1] Standard Errors assume that the covariance matrix of the errors is correctly specified.\n",
       "\"\"\""
      ]
     },
     "execution_count": 60,
     "metadata": {},
     "output_type": "execute_result"
    }
   ],
   "source": [
    "ols_model = sm.OLS(y_train_xform, X_train_xform3)\n",
    "fit = ols_model.fit()\n",
    "fit.summary()"
   ]
  },
  {
   "cell_type": "code",
   "execution_count": null,
   "metadata": {},
   "outputs": [],
   "source": []
  },
  {
   "cell_type": "code",
   "execution_count": null,
   "metadata": {},
   "outputs": [],
   "source": []
  },
  {
   "cell_type": "code",
   "execution_count": null,
   "metadata": {},
   "outputs": [],
   "source": []
  },
  {
   "cell_type": "code",
   "execution_count": 40,
   "metadata": {},
   "outputs": [],
   "source": [
    "# Summarize your conclusions and next steps from your analysis in above.\n",
    "# What will you try when developing your model? (which features to use/not use/etc)\n",
    "\n"
   ]
  },
  {
   "cell_type": "code",
   "execution_count": null,
   "metadata": {},
   "outputs": [],
   "source": []
  },
  {
   "cell_type": "code",
   "execution_count": null,
   "metadata": {},
   "outputs": [],
   "source": []
  },
  {
   "cell_type": "code",
   "execution_count": null,
   "metadata": {},
   "outputs": [],
   "source": []
  },
  {
   "cell_type": "code",
   "execution_count": null,
   "metadata": {},
   "outputs": [],
   "source": []
  },
  {
   "cell_type": "code",
   "execution_count": null,
   "metadata": {},
   "outputs": [],
   "source": []
  }
 ],
 "metadata": {
  "kernelspec": {
   "display_name": "Python 3",
   "language": "python",
   "name": "python3"
  },
  "language_info": {
   "codemirror_mode": {
    "name": "ipython",
    "version": 3
   },
   "file_extension": ".py",
   "mimetype": "text/x-python",
   "name": "python",
   "nbconvert_exporter": "python",
   "pygments_lexer": "ipython3",
   "version": "3.7.1"
  }
 },
 "nbformat": 4,
 "nbformat_minor": 2
}
